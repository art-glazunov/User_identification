{
 "cells": [
  {
   "cell_type": "markdown",
   "metadata": {},
   "source": [
    "<center>\n",
    "<img src=\"https://habrastorage.org/web/677/8e1/337/6778e1337c3d4b159d7e99df94227cb2.jpg\"/>\n",
    "    \n",
    "## Специализация \"Машинное обучение и анализ данных\"\n",
    "<center>Автор материала: программист-исследователь Mail.Ru Group, старший преподаватель Факультета Компьютерных Наук ВШЭ [Юрий Кашницкий](https://yorko.github.io/)"
   ]
  },
  {
   "cell_type": "markdown",
   "metadata": {},
   "source": [
    "# <center> Capstone проект №1 <br> Идентификация пользователей по посещенным веб-страницам\n",
    "<img src='http://i.istockimg.com/file_thumbview_approve/21546327/5/stock-illustration-21546327-identification-de-l-utilisateur.jpg'>\n",
    "\n",
    "# <center>Неделя 4.  Сравнение алгоритмов классификации\n",
    "\n",
    "Теперь мы наконец подойдем к обучению моделей классификации, сравним на кросс-валидации несколько алгоритмов, разберемся, какие параметры длины сессии (*session_length* и *window_size*) лучше использовать. Также для выбранного алгоритма построим кривые валидации (как качество классификации зависит от одного из гиперпараметров алгоритма) и кривые обучения (как качество классификации зависит от объема выборки).\n",
    "\n",
    "**План 4 недели:**\n",
    "- Часть 1. Сравнение нескольких алгоритмов на сессиях из 10 сайтов\n",
    "- Часть 2. Выбор параметров – длины сессии и ширины окна\n",
    "- Часть 3. Идентификация  конкретного пользователя и кривые обучения\n",
    " \n",
    "\n",
    "\n",
    "**В этой части проекта Вам могут быть полезны видеозаписи следующих лекций курса \"Обучение на размеченных данных\":**\n",
    "   - [Линейная классификация](https://www.coursera.org/learn/supervised-learning/lecture/jqLcO/linieinaia-klassifikatsiia)\n",
    "   - [Сравнение алгоритмов и выбор гиперпараметров](https://www.coursera.org/learn/supervised-learning/lecture/aF79U/sravnieniie-alghoritmov-i-vybor-ghipierparamietrov)\n",
    "   - [Кросс-валидация. Sklearn.cross_validation](https://www.coursera.org/learn/supervised-learning/lecture/XbHEk/kross-validatsiia-sklearn-cross-validation)\n",
    "   - [Линейные модели. Sklearn.linear_model. Классификация](https://www.coursera.org/learn/supervised-learning/lecture/EBg9t/linieinyie-modieli-sklearn-linear-model-klassifikatsiia)\n",
    "   - и многие другие\n"
   ]
  },
  {
   "cell_type": "markdown",
   "metadata": {},
   "source": [
    "### Задание\n",
    "1. Заполните код в этой тетрадке \n",
    "2. Если вы проходите специализацию Яндеса и МФТИ, пошлите файл с ответами в соответствующем Programming Assignment. <br> Если вы проходите курс ODS, выберите ответы в [веб-форме](https://docs.google.com/forms/d/12VB7kmzDoSVzSpQNaJp0tR-2t8K8PynQopP3dypf7i4).  "
   ]
  },
  {
   "cell_type": "code",
   "execution_count": 1,
   "metadata": {},
   "outputs": [],
   "source": [
    "# pip install watermark\n",
    "%load_ext watermark"
   ]
  },
  {
   "cell_type": "code",
   "execution_count": 2,
   "metadata": {},
   "outputs": [
    {
     "name": "stdout",
     "output_type": "stream",
     "text": [
      "CPython 3.7.3\n",
      "IPython 7.6.1\n",
      "\n",
      "numpy 1.16.4\n",
      "scipy 1.2.1\n",
      "pandas 0.24.2\n",
      "matplotlib 3.1.0\n",
      "statsmodels 0.9.0\n",
      "sklearn 0.22.2.post1\n",
      "\n",
      "compiler   : MSC v.1915 64 bit (AMD64)\n",
      "system     : Windows\n",
      "release    : 10\n",
      "machine    : AMD64\n",
      "processor  : Intel64 Family 6 Model 142 Stepping 12, GenuineIntel\n",
      "CPU cores  : 4\n",
      "interpreter: 64bit\n"
     ]
    }
   ],
   "source": [
    "%watermark -v -m -p numpy,scipy,pandas,matplotlib,statsmodels,sklearn "
   ]
  },
  {
   "cell_type": "code",
   "execution_count": 3,
   "metadata": {},
   "outputs": [],
   "source": [
    "from __future__ import division, print_function\n",
    "# отключим всякие предупреждения Anaconda\n",
    "import warnings\n",
    "warnings.filterwarnings('ignore')\n",
    "from time import time\n",
    "import itertools\n",
    "import os\n",
    "import numpy as np\n",
    "import pandas as pd\n",
    "import seaborn as sns\n",
    "%matplotlib inline\n",
    "from matplotlib import pyplot as plt\n",
    "import pickle\n",
    "from scipy.sparse import csr_matrix\n",
    "from sklearn.model_selection import train_test_split, cross_val_score, StratifiedKFold, GridSearchCV\n",
    "from sklearn.metrics import accuracy_score, f1_score"
   ]
  },
  {
   "cell_type": "code",
   "execution_count": 4,
   "metadata": {},
   "outputs": [],
   "source": [
    "# Поменяйте на свой путь к данным\n",
    "PATH_TO_DATA = 'data1'"
   ]
  },
  {
   "cell_type": "markdown",
   "metadata": {},
   "source": [
    "## Часть 1. Сравнение нескольких алгоритмов на сессиях из 10 сайтов"
   ]
  },
  {
   "cell_type": "markdown",
   "metadata": {},
   "source": [
    "**Загрузим сериализованные ранее объекты *X_sparse_10users* и *y_10users*, соответствующие обучающей выборке для 10 пользователей.**"
   ]
  },
  {
   "cell_type": "code",
   "execution_count": 6,
   "metadata": {},
   "outputs": [],
   "source": [
    "with open(os.path.join(PATH_TO_DATA, \n",
    "         'X_sparse_10users.pkl'), 'rb') as X_sparse_10users_pkl:\n",
    "    X_sparse_10users = pickle.load(X_sparse_10users_pkl)\n",
    "with open(os.path.join(PATH_TO_DATA, \n",
    "                       'y_10users.pkl'), 'rb') as y_10users_pkl:\n",
    "    y_10users = pickle.load(y_10users_pkl)"
   ]
  },
  {
   "cell_type": "markdown",
   "metadata": {},
   "source": [
    "**Здесь более 14 тысяч сессий и почти 5 тысяч уникальных посещенных сайтов.**"
   ]
  },
  {
   "cell_type": "code",
   "execution_count": 7,
   "metadata": {},
   "outputs": [
    {
     "data": {
      "text/plain": [
       "(14061, 4913)"
      ]
     },
     "execution_count": 7,
     "metadata": {},
     "output_type": "execute_result"
    }
   ],
   "source": [
    "X_sparse_10users.shape"
   ]
  },
  {
   "cell_type": "markdown",
   "metadata": {},
   "source": [
    "**Разобьем выборку на 2 части. На одной будем проводить кросс-валидацию, на второй – оценивать модель, обученную после кросс-валидации.**"
   ]
  },
  {
   "cell_type": "code",
   "execution_count": 8,
   "metadata": {},
   "outputs": [],
   "source": [
    "X_train, X_valid, y_train, y_valid = train_test_split(X_sparse_10users, y_10users, \n",
    "                                                      test_size=0.3, \n",
    "                                                     random_state=17, stratify=y_10users)"
   ]
  },
  {
   "cell_type": "markdown",
   "metadata": {},
   "source": [
    "**Зададим заранее тип кросс-валидации: 3-кратная, с перемешиванием, параметр random_state=17 – для воспроизводимости.**"
   ]
  },
  {
   "cell_type": "code",
   "execution_count": 9,
   "metadata": {},
   "outputs": [],
   "source": [
    "skf = StratifiedKFold(n_splits=3, shuffle=True, random_state=17)"
   ]
  },
  {
   "cell_type": "markdown",
   "metadata": {},
   "source": [
    "**Вспомогательная функция для отрисовки кривых валидации после запуска GridSearchCV (или RandomizedCV).**"
   ]
  },
  {
   "cell_type": "code",
   "execution_count": 95,
   "metadata": {},
   "outputs": [],
   "source": [
    "def plot_validation_curves(param_values, grid_cv_results_):\n",
    "    train_mu, train_std = grid_cv_results_['mean_train_score'], grid_cv_results_['std_train_score']\n",
    "    valid_mu, valid_std = grid_cv_results_['mean_test_score'], grid_cv_results_['std_test_score']\n",
    "    train_line = plt.plot(param_values, train_mu, '-', label='train', color='green')\n",
    "    valid_line = plt.plot(param_values, valid_mu, '-', label='test', color='red')\n",
    "    plt.fill_between(param_values, train_mu - train_std, train_mu + train_std, edgecolor='none',\n",
    "                     facecolor=train_line[0].get_color(), alpha=0.2)\n",
    "    plt.fill_between(param_values, valid_mu - valid_std, valid_mu + valid_std, edgecolor='none',\n",
    "                     facecolor=valid_line[0].get_color(), alpha=0.2)\n",
    "    plt.legend()"
   ]
  },
  {
   "cell_type": "markdown",
   "metadata": {},
   "source": [
    "**1. Обучите `KNeighborsClassifier` со 100 ближайшими соседями (остальные параметры оставьте по умолчанию, только `n_jobs`=-1 для распараллеливания) и посмотрите на долю правильных ответов на 3-кратной кросс-валидации (ради воспроизводимости используйте для этого объект `StratifiedKFold` `skf`) по выборке `(X_train, y_train)` и отдельно на выборке `(X_valid, y_valid)`.**"
   ]
  },
  {
   "cell_type": "code",
   "execution_count": 11,
   "metadata": {},
   "outputs": [],
   "source": [
    "from sklearn.neighbors import KNeighborsClassifier"
   ]
  },
  {
   "cell_type": "code",
   "execution_count": 12,
   "metadata": {},
   "outputs": [],
   "source": [
    "knn = KNeighborsClassifier(n_neighbors=100,n_jobs=-1)"
   ]
  },
  {
   "cell_type": "code",
   "execution_count": 13,
   "metadata": {},
   "outputs": [
    {
     "data": {
      "text/plain": [
       "0.5594389847433981"
      ]
     },
     "execution_count": 13,
     "metadata": {},
     "output_type": "execute_result"
    }
   ],
   "source": [
    "train_score_mean = cross_val_score(knn,X_train, y_train,cv=skf).mean()\n",
    "train_score_mean"
   ]
  },
  {
   "cell_type": "code",
   "execution_count": 14,
   "metadata": {},
   "outputs": [
    {
     "data": {
      "text/plain": [
       "0.584024650391088"
      ]
     },
     "execution_count": 14,
     "metadata": {},
     "output_type": "execute_result"
    }
   ],
   "source": [
    "valid_score_mean = knn.fit(X_train, y_train)\n",
    "y_pred = knn.predict(X_valid)\n",
    "acc_valid = accuracy_score(y_valid,y_pred)\n",
    "acc_valid"
   ]
  },
  {
   "cell_type": "markdown",
   "metadata": {},
   "source": [
    "**<font color='red'>Вопрос 1. </font> Посчитайте доли правильных ответов для KNeighborsClassifier на кросс-валидации и отложенной выборке. Округлите каждое до 3 знаков после запятой и введите через пробел.**"
   ]
  },
  {
   "cell_type": "code",
   "execution_count": 15,
   "metadata": {},
   "outputs": [
    {
     "name": "stdout",
     "output_type": "stream",
     "text": [
      "0.559 0.584\n"
     ]
    }
   ],
   "source": [
    "''' ВАШ КОД ЗДЕСЬ '''\n",
    "print(f'{round(train_score_mean,3)} {round(acc_valid,3)}')"
   ]
  },
  {
   "cell_type": "markdown",
   "metadata": {},
   "source": [
    "**2. Обучите случайный лес (`RandomForestClassifier`) из 100 деревьев (для воспроизводимости `random_state`=17). Посмотрите на OOB-оценку (для этого надо сразу установить `oob_score`=True) и на долю правильных ответов на выборке `(X_valid, y_valid)`. Для распараллеливания задайте `n_jobs`=-1.**"
   ]
  },
  {
   "cell_type": "code",
   "execution_count": 16,
   "metadata": {},
   "outputs": [],
   "source": [
    "from sklearn.ensemble import RandomForestClassifier"
   ]
  },
  {
   "cell_type": "code",
   "execution_count": 17,
   "metadata": {},
   "outputs": [
    {
     "data": {
      "text/plain": [
       "RandomForestClassifier(bootstrap=True, ccp_alpha=0.0, class_weight=None,\n",
       "                       criterion='gini', max_depth=None, max_features='auto',\n",
       "                       max_leaf_nodes=None, max_samples=None,\n",
       "                       min_impurity_decrease=0.0, min_impurity_split=None,\n",
       "                       min_samples_leaf=1, min_samples_split=2,\n",
       "                       min_weight_fraction_leaf=0.0, n_estimators=100,\n",
       "                       n_jobs=-1, oob_score=True, random_state=17, verbose=0,\n",
       "                       warm_start=False)"
      ]
     },
     "execution_count": 17,
     "metadata": {},
     "output_type": "execute_result"
    }
   ],
   "source": [
    "forest = RandomForestClassifier(n_estimators=100,n_jobs=-1,random_state=17,oob_score=True)\n",
    "forest.fit(X_train,y_train)\n"
   ]
  },
  {
   "cell_type": "code",
   "execution_count": 28,
   "metadata": {},
   "outputs": [
    {
     "data": {
      "text/plain": [
       "0.7172322698638488"
      ]
     },
     "execution_count": 28,
     "metadata": {},
     "output_type": "execute_result"
    }
   ],
   "source": [
    "forest.oob_score_"
   ]
  },
  {
   "cell_type": "code",
   "execution_count": 18,
   "metadata": {},
   "outputs": [
    {
     "data": {
      "text/plain": [
       "0.7312159279450107"
      ]
     },
     "execution_count": 18,
     "metadata": {},
     "output_type": "execute_result"
    }
   ],
   "source": [
    "y_pred2 = forest.predict(X_valid)\n",
    "acc_valid2 = accuracy_score(y_valid,y_pred2)\n",
    "acc_valid2"
   ]
  },
  {
   "cell_type": "markdown",
   "metadata": {},
   "source": [
    "**<font color='red'>Вопрос 2. </font> Посчитайте доли правильных ответов для `RandomForestClassifier` при Out-of-Bag оценке и на отложенной выборке. Округлите каждое до 3 знаков после запятой и введите через пробел.**"
   ]
  },
  {
   "cell_type": "code",
   "execution_count": 19,
   "metadata": {},
   "outputs": [
    {
     "name": "stdout",
     "output_type": "stream",
     "text": [
      "0.717 0.731\n"
     ]
    }
   ],
   "source": [
    "print(f'{round(forest.oob_score_,3)} {round(acc_valid2,3)}')"
   ]
  },
  {
   "cell_type": "code",
   "execution_count": null,
   "metadata": {
    "collapsed": true
   },
   "outputs": [],
   "source": [
    "write_answer_to_file(''' ВАШ КОД ЗДЕСЬ ''',\n",
    "                     'answer4_2.txt')"
   ]
  },
  {
   "cell_type": "code",
   "execution_count": 31,
   "metadata": {},
   "outputs": [
    {
     "name": "stderr",
     "output_type": "stream",
     "text": [
      "\"cat\" ­Ґ пў«пҐвбп ў­гваҐ­­Ґ© Ё«Ё ў­Ґи­Ґ©\n",
      "Є®¬ ­¤®©, ЁбЇ®«­пҐ¬®© Їа®Ја ¬¬®© Ё«Ё Ї ЄҐв­л¬ д ©«®¬.\n"
     ]
    }
   ],
   "source": [
    "!cat answer4_2.txt"
   ]
  },
  {
   "cell_type": "markdown",
   "metadata": {},
   "source": [
    "**3. Обучите логистическую регрессию (`LogisticRegression`) с параметром `C` по умолчанию и `random_state`=17 (для воспроизводимости). Посмотрите на долю правильных ответов на кросс-валидации (используйте объект `skf`, созданный ранее) и на выборке `(X_valid, y_valid)`. Для распараллеливания задайте `n_jobs=-1`.**"
   ]
  },
  {
   "cell_type": "code",
   "execution_count": 20,
   "metadata": {},
   "outputs": [],
   "source": [
    "from sklearn.linear_model import LogisticRegression, LogisticRegressionCV"
   ]
  },
  {
   "cell_type": "code",
   "execution_count": 21,
   "metadata": {},
   "outputs": [],
   "source": [
    "logit = LogisticRegression(random_state=17,n_jobs=-1)"
   ]
  },
  {
   "cell_type": "code",
   "execution_count": 22,
   "metadata": {},
   "outputs": [
    {
     "data": {
      "text/plain": [
       "0.7606189739891912"
      ]
     },
     "execution_count": 22,
     "metadata": {},
     "output_type": "execute_result"
    }
   ],
   "source": [
    "logr_cv_mean = cross_val_score(logit,X_train,y_train,cv=skf,n_jobs=-1).mean()\n",
    "logr_cv_mean"
   ]
  },
  {
   "cell_type": "code",
   "execution_count": 23,
   "metadata": {},
   "outputs": [
    {
     "data": {
      "text/plain": [
       "0.7767243422611994"
      ]
     },
     "execution_count": 23,
     "metadata": {},
     "output_type": "execute_result"
    }
   ],
   "source": [
    "logit.fit(X_train,y_train,)\n",
    "y_pred3 = logit.predict(X_valid)\n",
    "acc_valid3 = accuracy_score(y_valid,y_pred3)\n",
    "acc_valid3"
   ]
  },
  {
   "cell_type": "markdown",
   "metadata": {},
   "source": [
    "**Почитайте документацию к [LogisticRegressionCV](http://scikit-learn.org/stable/modules/generated/sklearn.linear_model.LogisticRegressionCV.html). Логистическая регрессия хорошо изучена, и для нее существуют алгоритмы быстрого подбора параметра регуляризации `C` (быстрее, чем с `GridSearchCV`).**\n",
    "\n",
    "**С помощью `LogisticRegressionCV` подберите параметр `C` для `LogisticRegression` сначала в широком диапазоне: 10 значений от 1e-4 до 1e2, используйте `logspace` из `NumPy`. Укажите у `LogisticRegressionCV` параметры `multi_class`='multinomial' и `random_state`=17. Для кросс-валидации используйте объект `skf`, созданный ранее. Для распараллеливания задайте `n_jobs=-1`.**\n",
    "\n",
    "**Нарисуйте кривые валидации по параметру `C`.**"
   ]
  },
  {
   "cell_type": "code",
   "execution_count": 24,
   "metadata": {},
   "outputs": [
    {
     "name": "stdout",
     "output_type": "stream",
     "text": [
      "Wall time: 25.5 s\n"
     ]
    },
    {
     "data": {
      "text/plain": [
       "LogisticRegressionCV(Cs=array([1.00000000e-04, 4.64158883e-04, 2.15443469e-03, 1.00000000e-02,\n",
       "       4.64158883e-02, 2.15443469e-01, 1.00000000e+00, 4.64158883e+00,\n",
       "       2.15443469e+01, 1.00000000e+02]),\n",
       "                     class_weight=None,\n",
       "                     cv=StratifiedKFold(n_splits=3, random_state=17, shuffle=True),\n",
       "                     dual=False, fit_intercept=True, intercept_scaling=1.0,\n",
       "                     l1_ratios=None, max_iter=100, multi_class='multinomial',\n",
       "                     n_jobs=-1, penalty='l2', random_state=17, refit=True,\n",
       "                     scoring=None, solver='lbfgs', tol=0.0001, verbose=0)"
      ]
     },
     "execution_count": 24,
     "metadata": {},
     "output_type": "execute_result"
    }
   ],
   "source": [
    "%%time\n",
    "logit_c_values1 = np.logspace(-4, 2, 10)\n",
    "\n",
    "logit_grid_searcher1 = LogisticRegressionCV(Cs=logit_c_values1,cv=skf,random_state = 17,\\\n",
    "                                            n_jobs=-1,multi_class = 'multinomial')#, max_iter=1000)\n",
    "logit_grid_searcher1.fit(X_train, y_train)"
   ]
  },
  {
   "cell_type": "markdown",
   "metadata": {},
   "source": [
    "Средние значения доли правильных ответов на кросс-валидации по каждому из 10 параметров `C`."
   ]
  },
  {
   "cell_type": "code",
   "execution_count": 29,
   "metadata": {},
   "outputs": [
    {
     "data": {
      "text/plain": [
       "array([0.31819567, 0.31331911, 0.32713415])"
      ]
     },
     "execution_count": 29,
     "metadata": {},
     "output_type": "execute_result"
    }
   ],
   "source": [
    "logit_grid_searcher1.scores_[31][:,0]"
   ]
  },
  {
   "cell_type": "code",
   "execution_count": 30,
   "metadata": {
    "scrolled": true
   },
   "outputs": [
    {
     "data": {
      "text/plain": [
       "[0.31954964280669934,\n",
       " 0.4730739686244774,\n",
       " 0.552022360820987,\n",
       " 0.6487503500073099,\n",
       " 0.7143884597943816,\n",
       " 0.751779616813236,\n",
       " 0.7608222260217117,\n",
       " 0.7581806929773047,\n",
       " 0.7502551646211373,\n",
       " 0.7386726793586131]"
      ]
     },
     "execution_count": 30,
     "metadata": {},
     "output_type": "execute_result"
    }
   ],
   "source": [
    "logit_mean_cv_scores1 = [logit_grid_searcher1.scores_[31][:,i].mean() for i in range(10)]\n",
    "logit_mean_cv_scores1"
   ]
  },
  {
   "cell_type": "markdown",
   "metadata": {},
   "source": [
    "Выведите лучшее значение доли правильных ответов на кросс-валидации и соответствующее значение `C`."
   ]
  },
  {
   "cell_type": "code",
   "execution_count": 32,
   "metadata": {},
   "outputs": [
    {
     "data": {
      "text/plain": [
       "array([[0.31819567, 0.47637915, 0.55105151, 0.65437367, 0.71258763,\n",
       "        0.75038098, 0.76196282, 0.75647668, 0.75068577, 0.73879915],\n",
       "       [0.31331911, 0.47576958, 0.54891801, 0.64218226, 0.704968  ,\n",
       "        0.73818958, 0.74733313, 0.74550442, 0.73849436, 0.72203596],\n",
       "       [0.32713415, 0.46707317, 0.55609756, 0.64969512, 0.72560976,\n",
       "        0.76676829, 0.77317073, 0.77256098, 0.76158537, 0.75518293]])"
      ]
     },
     "execution_count": 32,
     "metadata": {},
     "output_type": "execute_result"
    }
   ],
   "source": [
    "matrix = logit_grid_searcher1.scores_[31]\n",
    "matrix"
   ]
  },
  {
   "cell_type": "code",
   "execution_count": 50,
   "metadata": {},
   "outputs": [
    {
     "data": {
      "text/plain": [
       "(2, 6)"
      ]
     },
     "execution_count": 50,
     "metadata": {},
     "output_type": "execute_result"
    }
   ],
   "source": [
    "(np.argmax(matrix)//10,np.argmax(matrix)%10)"
   ]
  },
  {
   "cell_type": "code",
   "execution_count": 57,
   "metadata": {},
   "outputs": [
    {
     "data": {
      "text/plain": [
       "(0.7731707317073171, 1.0)"
      ]
     },
     "execution_count": 57,
     "metadata": {},
     "output_type": "execute_result"
    }
   ],
   "source": [
    "matrix.max(),logit_grid_searcher1.Cs[6]"
   ]
  },
  {
   "cell_type": "markdown",
   "metadata": {},
   "source": [
    "Нарисуйте график зависимости доли правильных ответов на кросс-валидации от `C`."
   ]
  },
  {
   "cell_type": "code",
   "execution_count": 62,
   "metadata": {},
   "outputs": [
    {
     "data": {
      "image/png": "[encoded data removed]",
      "text/plain": [
       "<Figure size 432x288 with 1 Axes>"
      ]
     },
     "metadata": {
      "needs_background": "light"
     },
     "output_type": "display_data"
    }
   ],
   "source": [
    "plt.plot(logit_c_values1, logit_mean_cv_scores1);\n",
    "plt.xlabel('C')\n",
    "plt.ylabel('Score')\n",
    "plt.grid()\n",
    "plt.show()\n"
   ]
  },
  {
   "cell_type": "markdown",
   "metadata": {},
   "source": [
    "**Теперь то же самое, только значения параметра `C` перебирайте в диапазоне `np.linspace`(0.1, 7, 20). Опять нарисуйте кривые валидации, определите максимальное значение доли правильных ответов на кросс-валидации.**"
   ]
  },
  {
   "cell_type": "code",
   "execution_count": 63,
   "metadata": {},
   "outputs": [
    {
     "name": "stdout",
     "output_type": "stream",
     "text": [
      "Wall time: 1min 30s\n"
     ]
    },
    {
     "data": {
      "text/plain": [
       "LogisticRegressionCV(Cs=array([0.1       , 0.46315789, 0.82631579, 1.18947368, 1.55263158,\n",
       "       1.91578947, 2.27894737, 2.64210526, 3.00526316, 3.36842105,\n",
       "       3.73157895, 4.09473684, 4.45789474, 4.82105263, 5.18421053,\n",
       "       5.54736842, 5.91052632, 6.27368421, 6.63684211, 7.        ]),\n",
       "                     class_weight=None,\n",
       "                     cv=StratifiedKFold(n_splits=3, random_state=17, shuffle=True),\n",
       "                     dual=False, fit_intercept=True, intercept_scaling=1.0,\n",
       "                     l1_ratios=None, max_iter=100, multi_class='multinomial',\n",
       "                     n_jobs=-1, penalty='l2', random_state=17, refit=True,\n",
       "                     scoring=None, solver='lbfgs', tol=0.0001, verbose=0)"
      ]
     },
     "execution_count": 63,
     "metadata": {},
     "output_type": "execute_result"
    }
   ],
   "source": [
    "%%time\n",
    "logit_c_values2 = np.linspace(0.1, 7, 20)\n",
    "\n",
    "logit_grid_searcher2 = LogisticRegressionCV(Cs=logit_c_values2,cv=skf,random_state = 17,\\\n",
    "                                            n_jobs=-1,multi_class = 'multinomial')\n",
    "logit_grid_searcher2.fit(X_train, y_train)"
   ]
  },
  {
   "cell_type": "markdown",
   "metadata": {},
   "source": [
    "Средние значения доли правильных ответов на кросс-валидации по каждому из 10 параметров `C`."
   ]
  },
  {
   "cell_type": "code",
   "execution_count": 64,
   "metadata": {},
   "outputs": [
    {
     "data": {
      "text/plain": [
       "{31: array([[0.73483694, 0.75952454, 0.76165803, 0.76135325, 0.76043889,\n",
       "         0.76074368, 0.75921975, 0.75891496, 0.75861018, 0.75891496,\n",
       "         0.75830539, 0.75739104, 0.75708625, 0.75525754, 0.75586711,\n",
       "         0.75586711, 0.7540384 , 0.7540384 , 0.75342883, 0.75281926],\n",
       "        [0.72325511, 0.74672356, 0.74824749, 0.74885706, 0.74977141,\n",
       "         0.74916184, 0.74855227, 0.7479427 , 0.74824749, 0.74641877,\n",
       "         0.74702835, 0.74672356, 0.74459006, 0.74459006, 0.74398049,\n",
       "         0.74276135, 0.74154221, 0.74062786, 0.73910393, 0.73879915],\n",
       "        [0.74634146, 0.77164634, 0.77408537, 0.77256098, 0.77286585,\n",
       "         0.77408537, 0.7722561 , 0.77134146, 0.77195122, 0.77195122,\n",
       "         0.7722561 , 0.77164634, 0.77164634, 0.77164634, 0.77134146,\n",
       "         0.77042683, 0.77073171, 0.77012195, 0.7695122 , 0.76890244]]),\n",
       " 33: array([[0.73483694, 0.75952454, 0.76165803, 0.76135325, 0.76043889,\n",
       "         0.76074368, 0.75921975, 0.75891496, 0.75861018, 0.75891496,\n",
       "         0.75830539, 0.75739104, 0.75708625, 0.75525754, 0.75586711,\n",
       "         0.75586711, 0.7540384 , 0.7540384 , 0.75342883, 0.75281926],\n",
       "        [0.72325511, 0.74672356, 0.74824749, 0.74885706, 0.74977141,\n",
       "         0.74916184, 0.74855227, 0.7479427 , 0.74824749, 0.74641877,\n",
       "         0.74702835, 0.74672356, 0.74459006, 0.74459006, 0.74398049,\n",
       "         0.74276135, 0.74154221, 0.74062786, 0.73910393, 0.73879915],\n",
       "        [0.74634146, 0.77164634, 0.77408537, 0.77256098, 0.77286585,\n",
       "         0.77408537, 0.7722561 , 0.77134146, 0.77195122, 0.77195122,\n",
       "         0.7722561 , 0.77164634, 0.77164634, 0.77164634, 0.77134146,\n",
       "         0.77042683, 0.77073171, 0.77012195, 0.7695122 , 0.76890244]]),\n",
       " 39: array([[0.73483694, 0.75952454, 0.76165803, 0.76135325, 0.76043889,\n",
       "         0.76074368, 0.75921975, 0.75891496, 0.75861018, 0.75891496,\n",
       "         0.75830539, 0.75739104, 0.75708625, 0.75525754, 0.75586711,\n",
       "         0.75586711, 0.7540384 , 0.7540384 , 0.75342883, 0.75281926],\n",
       "        [0.72325511, 0.74672356, 0.74824749, 0.74885706, 0.74977141,\n",
       "         0.74916184, 0.74855227, 0.7479427 , 0.74824749, 0.74641877,\n",
       "         0.74702835, 0.74672356, 0.74459006, 0.74459006, 0.74398049,\n",
       "         0.74276135, 0.74154221, 0.74062786, 0.73910393, 0.73879915],\n",
       "        [0.74634146, 0.77164634, 0.77408537, 0.77256098, 0.77286585,\n",
       "         0.77408537, 0.7722561 , 0.77134146, 0.77195122, 0.77195122,\n",
       "         0.7722561 , 0.77164634, 0.77164634, 0.77164634, 0.77134146,\n",
       "         0.77042683, 0.77073171, 0.77012195, 0.7695122 , 0.76890244]]),\n",
       " 50: array([[0.73483694, 0.75952454, 0.76165803, 0.76135325, 0.76043889,\n",
       "         0.76074368, 0.75921975, 0.75891496, 0.75861018, 0.75891496,\n",
       "         0.75830539, 0.75739104, 0.75708625, 0.75525754, 0.75586711,\n",
       "         0.75586711, 0.7540384 , 0.7540384 , 0.75342883, 0.75281926],\n",
       "        [0.72325511, 0.74672356, 0.74824749, 0.74885706, 0.74977141,\n",
       "         0.74916184, 0.74855227, 0.7479427 , 0.74824749, 0.74641877,\n",
       "         0.74702835, 0.74672356, 0.74459006, 0.74459006, 0.74398049,\n",
       "         0.74276135, 0.74154221, 0.74062786, 0.73910393, 0.73879915],\n",
       "        [0.74634146, 0.77164634, 0.77408537, 0.77256098, 0.77286585,\n",
       "         0.77408537, 0.7722561 , 0.77134146, 0.77195122, 0.77195122,\n",
       "         0.7722561 , 0.77164634, 0.77164634, 0.77164634, 0.77134146,\n",
       "         0.77042683, 0.77073171, 0.77012195, 0.7695122 , 0.76890244]]),\n",
       " 100: array([[0.73483694, 0.75952454, 0.76165803, 0.76135325, 0.76043889,\n",
       "         0.76074368, 0.75921975, 0.75891496, 0.75861018, 0.75891496,\n",
       "         0.75830539, 0.75739104, 0.75708625, 0.75525754, 0.75586711,\n",
       "         0.75586711, 0.7540384 , 0.7540384 , 0.75342883, 0.75281926],\n",
       "        [0.72325511, 0.74672356, 0.74824749, 0.74885706, 0.74977141,\n",
       "         0.74916184, 0.74855227, 0.7479427 , 0.74824749, 0.74641877,\n",
       "         0.74702835, 0.74672356, 0.74459006, 0.74459006, 0.74398049,\n",
       "         0.74276135, 0.74154221, 0.74062786, 0.73910393, 0.73879915],\n",
       "        [0.74634146, 0.77164634, 0.77408537, 0.77256098, 0.77286585,\n",
       "         0.77408537, 0.7722561 , 0.77134146, 0.77195122, 0.77195122,\n",
       "         0.7722561 , 0.77164634, 0.77164634, 0.77164634, 0.77134146,\n",
       "         0.77042683, 0.77073171, 0.77012195, 0.7695122 , 0.76890244]]),\n",
       " 127: array([[0.73483694, 0.75952454, 0.76165803, 0.76135325, 0.76043889,\n",
       "         0.76074368, 0.75921975, 0.75891496, 0.75861018, 0.75891496,\n",
       "         0.75830539, 0.75739104, 0.75708625, 0.75525754, 0.75586711,\n",
       "         0.75586711, 0.7540384 , 0.7540384 , 0.75342883, 0.75281926],\n",
       "        [0.72325511, 0.74672356, 0.74824749, 0.74885706, 0.74977141,\n",
       "         0.74916184, 0.74855227, 0.7479427 , 0.74824749, 0.74641877,\n",
       "         0.74702835, 0.74672356, 0.74459006, 0.74459006, 0.74398049,\n",
       "         0.74276135, 0.74154221, 0.74062786, 0.73910393, 0.73879915],\n",
       "        [0.74634146, 0.77164634, 0.77408537, 0.77256098, 0.77286585,\n",
       "         0.77408537, 0.7722561 , 0.77134146, 0.77195122, 0.77195122,\n",
       "         0.7722561 , 0.77164634, 0.77164634, 0.77164634, 0.77134146,\n",
       "         0.77042683, 0.77073171, 0.77012195, 0.7695122 , 0.76890244]]),\n",
       " 128: array([[0.73483694, 0.75952454, 0.76165803, 0.76135325, 0.76043889,\n",
       "         0.76074368, 0.75921975, 0.75891496, 0.75861018, 0.75891496,\n",
       "         0.75830539, 0.75739104, 0.75708625, 0.75525754, 0.75586711,\n",
       "         0.75586711, 0.7540384 , 0.7540384 , 0.75342883, 0.75281926],\n",
       "        [0.72325511, 0.74672356, 0.74824749, 0.74885706, 0.74977141,\n",
       "         0.74916184, 0.74855227, 0.7479427 , 0.74824749, 0.74641877,\n",
       "         0.74702835, 0.74672356, 0.74459006, 0.74459006, 0.74398049,\n",
       "         0.74276135, 0.74154221, 0.74062786, 0.73910393, 0.73879915],\n",
       "        [0.74634146, 0.77164634, 0.77408537, 0.77256098, 0.77286585,\n",
       "         0.77408537, 0.7722561 , 0.77134146, 0.77195122, 0.77195122,\n",
       "         0.7722561 , 0.77164634, 0.77164634, 0.77164634, 0.77134146,\n",
       "         0.77042683, 0.77073171, 0.77012195, 0.7695122 , 0.76890244]]),\n",
       " 207: array([[0.73483694, 0.75952454, 0.76165803, 0.76135325, 0.76043889,\n",
       "         0.76074368, 0.75921975, 0.75891496, 0.75861018, 0.75891496,\n",
       "         0.75830539, 0.75739104, 0.75708625, 0.75525754, 0.75586711,\n",
       "         0.75586711, 0.7540384 , 0.7540384 , 0.75342883, 0.75281926],\n",
       "        [0.72325511, 0.74672356, 0.74824749, 0.74885706, 0.74977141,\n",
       "         0.74916184, 0.74855227, 0.7479427 , 0.74824749, 0.74641877,\n",
       "         0.74702835, 0.74672356, 0.74459006, 0.74459006, 0.74398049,\n",
       "         0.74276135, 0.74154221, 0.74062786, 0.73910393, 0.73879915],\n",
       "        [0.74634146, 0.77164634, 0.77408537, 0.77256098, 0.77286585,\n",
       "         0.77408537, 0.7722561 , 0.77134146, 0.77195122, 0.77195122,\n",
       "         0.7722561 , 0.77164634, 0.77164634, 0.77164634, 0.77134146,\n",
       "         0.77042683, 0.77073171, 0.77012195, 0.7695122 , 0.76890244]]),\n",
       " 237: array([[0.73483694, 0.75952454, 0.76165803, 0.76135325, 0.76043889,\n",
       "         0.76074368, 0.75921975, 0.75891496, 0.75861018, 0.75891496,\n",
       "         0.75830539, 0.75739104, 0.75708625, 0.75525754, 0.75586711,\n",
       "         0.75586711, 0.7540384 , 0.7540384 , 0.75342883, 0.75281926],\n",
       "        [0.72325511, 0.74672356, 0.74824749, 0.74885706, 0.74977141,\n",
       "         0.74916184, 0.74855227, 0.7479427 , 0.74824749, 0.74641877,\n",
       "         0.74702835, 0.74672356, 0.74459006, 0.74459006, 0.74398049,\n",
       "         0.74276135, 0.74154221, 0.74062786, 0.73910393, 0.73879915],\n",
       "        [0.74634146, 0.77164634, 0.77408537, 0.77256098, 0.77286585,\n",
       "         0.77408537, 0.7722561 , 0.77134146, 0.77195122, 0.77195122,\n",
       "         0.7722561 , 0.77164634, 0.77164634, 0.77164634, 0.77134146,\n",
       "         0.77042683, 0.77073171, 0.77012195, 0.7695122 , 0.76890244]]),\n",
       " 241: array([[0.73483694, 0.75952454, 0.76165803, 0.76135325, 0.76043889,\n",
       "         0.76074368, 0.75921975, 0.75891496, 0.75861018, 0.75891496,\n",
       "         0.75830539, 0.75739104, 0.75708625, 0.75525754, 0.75586711,\n",
       "         0.75586711, 0.7540384 , 0.7540384 , 0.75342883, 0.75281926],\n",
       "        [0.72325511, 0.74672356, 0.74824749, 0.74885706, 0.74977141,\n",
       "         0.74916184, 0.74855227, 0.7479427 , 0.74824749, 0.74641877,\n",
       "         0.74702835, 0.74672356, 0.74459006, 0.74459006, 0.74398049,\n",
       "         0.74276135, 0.74154221, 0.74062786, 0.73910393, 0.73879915],\n",
       "        [0.74634146, 0.77164634, 0.77408537, 0.77256098, 0.77286585,\n",
       "         0.77408537, 0.7722561 , 0.77134146, 0.77195122, 0.77195122,\n",
       "         0.7722561 , 0.77164634, 0.77164634, 0.77164634, 0.77134146,\n",
       "         0.77042683, 0.77073171, 0.77012195, 0.7695122 , 0.76890244]])}"
      ]
     },
     "execution_count": 64,
     "metadata": {},
     "output_type": "execute_result"
    }
   ],
   "source": [
    "logit_grid_searcher2.scores_"
   ]
  },
  {
   "cell_type": "code",
   "execution_count": 209,
   "metadata": {},
   "outputs": [
    {
     "data": {
      "text/plain": [
       "True"
      ]
     },
     "execution_count": 209,
     "metadata": {},
     "output_type": "execute_result"
    }
   ],
   "source": [
    "logit_grid_searcher2.scores_[50][2,2]==logit_grid_searcher2.scores_[50][2,5]"
   ]
  },
  {
   "cell_type": "code",
   "execution_count": 68,
   "metadata": {},
   "outputs": [
    {
     "data": {
      "text/plain": [
       "[0.7348111695076108,\n",
       " 0.7592981455187914,\n",
       " 0.761330294154816,\n",
       " 0.7609237591156771,\n",
       " 0.7610253851319372,\n",
       " 0.761330294154816,\n",
       " 0.7600093727621214,\n",
       " 0.7593997095868551,\n",
       " 0.7596029616193753,\n",
       " 0.7590949864085657,\n",
       " 0.7591966124248257,\n",
       " 0.7585869802236577,\n",
       " 0.7577742198863623,\n",
       " 0.7571646496333906,\n",
       " 0.7570630236171304,\n",
       " 0.7563517653997022,\n",
       " 0.755437440994343,\n",
       " 0.7549294038353368,\n",
       " 0.7540149865076828,\n",
       " 0.7535069493486767]"
      ]
     },
     "execution_count": 68,
     "metadata": {},
     "output_type": "execute_result"
    }
   ],
   "source": [
    "logit_mean_cv_scores2 = [logit_grid_searcher2.scores_[50][:,i].mean() for i in range(len(logit_c_values2))]\n",
    "logit_mean_cv_scores2"
   ]
  },
  {
   "cell_type": "markdown",
   "metadata": {},
   "source": [
    "Выведите лучшее значение доли правильных ответов на кросс-валидации и соответствующее значение `C`."
   ]
  },
  {
   "cell_type": "code",
   "execution_count": 200,
   "metadata": {},
   "outputs": [
    {
     "data": {
      "text/plain": [
       "(2, 2)"
      ]
     },
     "execution_count": 200,
     "metadata": {},
     "output_type": "execute_result"
    }
   ],
   "source": [
    "matrix2 = logit_grid_searcher2.scores_[50]\n",
    "(np.argmax(matrix2)//len(logit_c_values2),np.argmax(matrix2)%len(logit_c_values2))"
   ]
  },
  {
   "cell_type": "code",
   "execution_count": 204,
   "metadata": {},
   "outputs": [
    {
     "data": {
      "text/plain": [
       "array([0.1       , 0.46315789, 0.82631579, 1.18947368, 1.55263158,\n",
       "       1.91578947, 2.27894737, 2.64210526, 3.00526316, 3.36842105,\n",
       "       3.73157895, 4.09473684, 4.45789474, 4.82105263, 5.18421053,\n",
       "       5.54736842, 5.91052632, 6.27368421, 6.63684211, 7.        ])"
      ]
     },
     "execution_count": 204,
     "metadata": {},
     "output_type": "execute_result"
    }
   ],
   "source": [
    "logit_grid_searcher2.Cs"
   ]
  },
  {
   "cell_type": "code",
   "execution_count": 210,
   "metadata": {},
   "outputs": [
    {
     "data": {
      "text/plain": [
       "(0.8263157894736842, 1.9157894736842107)"
      ]
     },
     "execution_count": 210,
     "metadata": {},
     "output_type": "execute_result"
    }
   ],
   "source": [
    "logit_grid_searcher2.Cs[2],logit_grid_searcher2.Cs[5]"
   ]
  },
  {
   "cell_type": "markdown",
   "metadata": {},
   "source": [
    "Нарисуйте график зависимости доли правильных ответов на кросс-валидации от `C`."
   ]
  },
  {
   "cell_type": "code",
   "execution_count": 75,
   "metadata": {},
   "outputs": [
    {
     "data": {
      "image/png": "[encoded data removed]",
      "text/plain": [
       "<Figure size 432x288 with 1 Axes>"
      ]
     },
     "metadata": {
      "needs_background": "light"
     },
     "output_type": "display_data"
    }
   ],
   "source": [
    "plt.plot(logit_c_values2, logit_mean_cv_scores2)\n",
    "plt.xlabel('C')\n",
    "plt.ylabel('Score')\n",
    "plt.grid()\n",
    "plt.show()"
   ]
  },
  {
   "cell_type": "markdown",
   "metadata": {},
   "source": [
    "Выведите долю правильных ответов на выборке `(X_valid, y_valid)` для логистической регрессии с лучшим найденным значением `C`."
   ]
  },
  {
   "cell_type": "code",
   "execution_count": 81,
   "metadata": {},
   "outputs": [],
   "source": [
    "y_pred3 = logit_grid_searcher2.predict(X_valid)"
   ]
  },
  {
   "cell_type": "code",
   "execution_count": 82,
   "metadata": {},
   "outputs": [
    {
     "data": {
      "text/plain": [
       "0.7755392273050485"
      ]
     },
     "execution_count": 82,
     "metadata": {},
     "output_type": "execute_result"
    }
   ],
   "source": [
    "logit_cv_acc = accuracy_score(y_valid,y_pred3)\n",
    "logit_cv_acc"
   ]
  },
  {
   "cell_type": "markdown",
   "metadata": {},
   "source": [
    "**<font color='red'>Вопрос 3. </font>Посчитайте доли правильных ответов для `logit_grid_searcher2` на кросс-валидации для лучшего значения параметра `C` и на отложенной выборке. Округлите каждое до 3 знаков после запятой и выведите через пробел.**"
   ]
  },
  {
   "cell_type": "code",
   "execution_count": 222,
   "metadata": {},
   "outputs": [
    {
     "data": {
      "text/plain": [
       "array([0.82631579, 0.82631579, 0.82631579, 0.82631579, 0.82631579,\n",
       "       0.82631579, 0.82631579, 0.82631579, 0.82631579, 0.82631579])"
      ]
     },
     "execution_count": 222,
     "metadata": {},
     "output_type": "execute_result"
    }
   ],
   "source": [
    "logit_grid_searcher2.C_\n"
   ]
  },
  {
   "cell_type": "code",
   "execution_count": 83,
   "metadata": {},
   "outputs": [
    {
     "data": {
      "text/plain": [
       "0.7616350483072036"
      ]
     },
     "execution_count": 83,
     "metadata": {},
     "output_type": "execute_result"
    }
   ],
   "source": [
    "scores4_mean = cross_val_score(logit_grid_searcher2,X_train, y_train,cv=skf).mean()\n",
    "scores4_mean "
   ]
  },
  {
   "cell_type": "markdown",
   "metadata": {},
   "source": [
    "0.7616350483072036 0.7755392273050485"
   ]
  },
  {
   "cell_type": "markdown",
   "metadata": {},
   "source": [
    "**4. Обучите линейный SVM (`LinearSVC`) с параметром `C`=1 и `random_state`=17 (для воспроизводимости). Посмотрите на долю правильных ответов на кросс-валидации (используйте объект `skf`, созданный ранее) и на выборке `(X_valid, y_valid)`.**"
   ]
  },
  {
   "cell_type": "code",
   "execution_count": 84,
   "metadata": {},
   "outputs": [],
   "source": [
    "from sklearn.svm import LinearSVC"
   ]
  },
  {
   "cell_type": "code",
   "execution_count": 86,
   "metadata": {},
   "outputs": [
    {
     "name": "stdout",
     "output_type": "stream",
     "text": [
      "0.7507639141844025 0.7769613652524295\n"
     ]
    }
   ],
   "source": [
    "svm = LinearSVC(C=1,random_state=17)\n",
    "scores_mean6=cross_val_score(svm,X_train,y_train,cv=skf).mean()\n",
    "svm.fit(X_train,y_train)\n",
    "cvm_score6 = accuracy_score(y_valid,svm.predict(X_valid))\n",
    "print(scores_mean6,cvm_score6 )"
   ]
  },
  {
   "cell_type": "markdown",
   "metadata": {},
   "source": [
    "**С помощью `GridSearchCV` подберите параметр `C` для SVM сначала в широком диапазоне: 10 значений от 1e-4 до 1e4, используйте `linspace` из NumPy. Нарисуйте кривые валидации.**"
   ]
  },
  {
   "cell_type": "code",
   "execution_count": 96,
   "metadata": {},
   "outputs": [
    {
     "name": "stdout",
     "output_type": "stream",
     "text": [
      "Wall time: 1min 2s\n"
     ]
    },
    {
     "data": {
      "text/plain": [
       "GridSearchCV(cv=StratifiedKFold(n_splits=3, random_state=17, shuffle=True),\n",
       "             error_score=nan,\n",
       "             estimator=LinearSVC(C=1, class_weight=None, dual=True,\n",
       "                                 fit_intercept=True, intercept_scaling=1,\n",
       "                                 loss='squared_hinge', max_iter=1000,\n",
       "                                 multi_class='ovr', penalty='l2',\n",
       "                                 random_state=17, tol=0.0001, verbose=0),\n",
       "             iid='deprecated', n_jobs=-1,\n",
       "             param_grid={'C': array([1.0000000e-04, 1.1111112e+03, 2.2222223e+03, 3.3333334e+03,\n",
       "       4.4444445e+03, 5.5555556e+03, 6.6666667e+03, 7.7777778e+03,\n",
       "       8.8888889e+03, 1.0000000e+04])},\n",
       "             pre_dispatch='2*n_jobs', refit=True, return_train_score=True,\n",
       "             scoring=None, verbose=0)"
      ]
     },
     "execution_count": 96,
     "metadata": {},
     "output_type": "execute_result"
    }
   ],
   "source": [
    "%%time\n",
    "svm_params1 = {'C': np.linspace(1e-4, 1e4, 10)}\n",
    "\n",
    "svm_grid_searcher1 = GridSearchCV(svm,svm_params1,cv=skf,n_jobs=-1,return_train_score=True)\n",
    "svm_grid_searcher1.fit(X_train, y_train)"
   ]
  },
  {
   "cell_type": "code",
   "execution_count": 97,
   "metadata": {},
   "outputs": [
    {
     "data": {
      "text/plain": [
       "(0.6939663385890184, {'C': 7777.777800000001})"
      ]
     },
     "execution_count": 97,
     "metadata": {},
     "output_type": "execute_result"
    }
   ],
   "source": [
    "svm_grid_searcher1.best_score_,svm_grid_searcher1.best_params_"
   ]
  },
  {
   "cell_type": "markdown",
   "metadata": {},
   "source": [
    "Выведите лучшее значение доли правильных ответов на кросс-валидации и соответствующее значение `C`."
   ]
  },
  {
   "cell_type": "code",
   "execution_count": 98,
   "metadata": {},
   "outputs": [
    {
     "data": {
      "text/plain": [
       "{'mean_fit_time': array([0.25515167, 7.78118555, 7.7382706 , 7.87894694, 8.59982872,\n",
       "        8.6113739 , 8.75904934, 7.93893035, 7.57114061, 6.21981295]),\n",
       " 'std_fit_time': array([0.00736379, 0.35006709, 0.2821231 , 0.62079393, 0.31458765,\n",
       "        0.5064584 , 0.27020609, 0.21635681, 0.18585645, 0.13438235]),\n",
       " 'mean_score_time': array([0.        , 0.002328  , 0.00066543, 0.00520722, 0.        ,\n",
       "        0.00266099, 0.00099611, 0.        , 0.01041428, 0.        ]),\n",
       " 'std_score_time': array([0.        , 0.00047064, 0.00094105, 0.00736412, 0.        ,\n",
       "        0.00047154, 0.00140872, 0.        , 0.00736401, 0.        ]),\n",
       " 'param_C': masked_array(data=[0.0001, 1111.1112, 2222.2223000000004,\n",
       "                    3333.3334000000004, 4444.4445000000005,\n",
       "                    5555.555600000001, 6666.666700000001,\n",
       "                    7777.777800000001, 8888.8889, 10000.0],\n",
       "              mask=[False, False, False, False, False, False, False, False,\n",
       "                    False, False],\n",
       "        fill_value='?',\n",
       "             dtype=object),\n",
       " 'params': [{'C': 0.0001},\n",
       "  {'C': 1111.1112},\n",
       "  {'C': 2222.2223000000004},\n",
       "  {'C': 3333.3334000000004},\n",
       "  {'C': 4444.4445000000005},\n",
       "  {'C': 5555.555600000001},\n",
       "  {'C': 6666.666700000001},\n",
       "  {'C': 7777.777800000001},\n",
       "  {'C': 8888.8889},\n",
       "  {'C': 10000.0}],\n",
       " 'split0_test_score': array([0.56019506, 0.70313929, 0.68180433, 0.67692777, 0.66565072,\n",
       "        0.6720512 , 0.70131058, 0.68942396, 0.65650716, 0.67936605]),\n",
       " 'split1_test_score': array([0.55928071, 0.65833587, 0.6434014 , 0.65742152, 0.69216702,\n",
       "        0.68454739, 0.6763182 , 0.68180433, 0.63547699, 0.67570863]),\n",
       " 'split2_test_score': array([0.56189024, 0.69481707, 0.70823171, 0.63719512, 0.6820122 ,\n",
       "        0.6625    , 0.69237805, 0.71067073, 0.70182927, 0.67560976]),\n",
       " 'mean_test_score': array([0.56045534, 0.68543074, 0.67781248, 0.65718147, 0.67994331,\n",
       "        0.67303287, 0.69000227, 0.69396634, 0.66460447, 0.67689481]),\n",
       " 'std_test_score': array([0.00108112, 0.01945788, 0.02661695, 0.01622167, 0.01092364,\n",
       "        0.00902754, 0.01034047, 0.01221453, 0.02768671, 0.00174789]),\n",
       " 'rank_test_score': array([10,  3,  5,  9,  4,  7,  2,  1,  8,  6]),\n",
       " 'split0_train_score': array([0.57201646, 0.88385917, 0.87562872, 0.8667886 , 0.84575522,\n",
       "        0.86267337, 0.88294467, 0.87821978, 0.85063253, 0.86282579]),\n",
       " 'split1_train_score': array([0.57003506, 0.86343545, 0.8609968 , 0.85962506, 0.89269928,\n",
       "        0.88980338, 0.87959153, 0.87989636, 0.85672916, 0.88203018]),\n",
       " 'split2_train_score': array([0.57269125, 0.87046632, 0.8872295 , 0.81331911, 0.86696129,\n",
       "        0.83709235, 0.8791527 , 0.88585797, 0.88402926, 0.86985675]),\n",
       " 'mean_train_score': array([0.57158092, 0.87258698, 0.87461834, 0.84657759, 0.86847193,\n",
       "        0.8631897 , 0.88056297, 0.8813247 , 0.86379698, 0.87157091]),\n",
       " 'std_train_score': array([0.00112727, 0.00847172, 0.01073326, 0.02369844, 0.01919458,\n",
       "        0.02152229, 0.00169362, 0.00327776, 0.01452127, 0.0079333 ])}"
      ]
     },
     "execution_count": 98,
     "metadata": {},
     "output_type": "execute_result"
    }
   ],
   "source": [
    "svm_grid_searcher1.cv_results_"
   ]
  },
  {
   "cell_type": "markdown",
   "metadata": {},
   "source": [
    "Нарисуйте график зависимости доли правильных ответов на кросс-валидации от `C`."
   ]
  },
  {
   "cell_type": "code",
   "execution_count": 99,
   "metadata": {},
   "outputs": [
    {
     "data": {
      "image/png": "[encoded data removed]",
      "text/plain": [
       "<Figure size 432x288 with 1 Axes>"
      ]
     },
     "metadata": {
      "needs_background": "light"
     },
     "output_type": "display_data"
    }
   ],
   "source": [
    "plot_validation_curves(svm_params1['C'], svm_grid_searcher1.cv_results_)"
   ]
  },
  {
   "cell_type": "markdown",
   "metadata": {},
   "source": [
    "**Но мы помним, что с параметром регуляризации по умолчанию (С=1) на кросс-валидации доля правильных ответов выше. Это тот случай (не редкий), когда можно ошибиться и перебирать параметры не в том диапазоне (причина в том, что мы взяли равномерную сетку на большом интервале и упустили действительно хороший интервал значений `C`). Здесь намного осмысленней подбирать `C` в районе 1, к тому же, так модель быстрее обучается, чем при больших `C`. **\n",
    "\n",
    "**С помощью `GridSearchCV` подберите параметр `C` для SVM в диапазоне (1e-3, 1), 30 значений, используйте `linspace` из NumPy. Нарисуйте кривые валидации.**"
   ]
  },
  {
   "cell_type": "code",
   "execution_count": 100,
   "metadata": {},
   "outputs": [
    {
     "name": "stdout",
     "output_type": "stream",
     "text": [
      "Wall time: 2min 8s\n"
     ]
    },
    {
     "data": {
      "text/plain": [
       "GridSearchCV(cv=StratifiedKFold(n_splits=3, random_state=17, shuffle=True),\n",
       "             error_score=nan,\n",
       "             estimator=LinearSVC(C=1, class_weight=None, dual=True,\n",
       "                                 fit_intercept=True, intercept_scaling=1,\n",
       "                                 loss='squared_hinge', max_iter=1000,\n",
       "                                 multi_class='ovr', penalty='l2',\n",
       "                                 random_state=17, tol=0.0001, verbose=0),\n",
       "             iid='deprecated', n_jobs=-1,\n",
       "             param_grid={'C': array([0.001     , 0.03544828...\n",
       "       0.17324138, 0.20768966, 0.24213793, 0.27658621, 0.31103448,\n",
       "       0.34548276, 0.37993103, 0.41437931, 0.44882759, 0.48327586,\n",
       "       0.51772414, 0.55217241, 0.58662069, 0.62106897, 0.65551724,\n",
       "       0.68996552, 0.72441379, 0.75886207, 0.79331034, 0.82775862,\n",
       "       0.8622069 , 0.89665517, 0.93110345, 0.96555172, 1.        ])},\n",
       "             pre_dispatch='2*n_jobs', refit=True, return_train_score=True,\n",
       "             scoring=None, verbose=0)"
      ]
     },
     "execution_count": 100,
     "metadata": {},
     "output_type": "execute_result"
    }
   ],
   "source": [
    "%%time\n",
    "svm_params2 = {'C': np.linspace(1e-3, 1, 30)}\n",
    "\n",
    "svm_grid_searcher2 = GridSearchCV(svm,svm_params2,cv=skf,n_jobs=-1,return_train_score=True)\n",
    "svm_grid_searcher2.fit(X_train, y_train)"
   ]
  },
  {
   "cell_type": "markdown",
   "metadata": {},
   "source": [
    "Выведите лучшее значение доли правильных ответов на кросс-валидации и соответствующее значение `C`."
   ]
  },
  {
   "cell_type": "code",
   "execution_count": 101,
   "metadata": {},
   "outputs": [
    {
     "data": {
      "text/plain": [
       "(0.7670206386611259, {'C': 0.10434482758620689})"
      ]
     },
     "execution_count": 101,
     "metadata": {},
     "output_type": "execute_result"
    }
   ],
   "source": [
    "svm_grid_searcher2.best_score_,svm_grid_searcher2.best_params_"
   ]
  },
  {
   "cell_type": "markdown",
   "metadata": {},
   "source": [
    "Нарисуйте график зависимости доли правильных ответов на кросс-валидации от С."
   ]
  },
  {
   "cell_type": "code",
   "execution_count": 102,
   "metadata": {},
   "outputs": [
    {
     "data": {
      "image/png": "[encoded data removed]",
      "text/plain": [
       "<Figure size 432x288 with 1 Axes>"
      ]
     },
     "metadata": {
      "needs_background": "light"
     },
     "output_type": "display_data"
    }
   ],
   "source": [
    "plot_validation_curves(svm_params2['C'], svm_grid_searcher2.cv_results_)"
   ]
  },
  {
   "cell_type": "markdown",
   "metadata": {},
   "source": [
    "Выведите долю правильных ответов на выборке `(X_valid, y_valid)` для `LinearSVC` с лучшим найденным значением `C`."
   ]
  },
  {
   "cell_type": "code",
   "execution_count": 103,
   "metadata": {},
   "outputs": [
    {
     "data": {
      "text/plain": [
       "0.7807537331121118"
      ]
     },
     "execution_count": 103,
     "metadata": {},
     "output_type": "execute_result"
    }
   ],
   "source": [
    "clf = LinearSVC(C=svm_grid_searcher2.best_params_['C'],random_state=17)\n",
    "clf.fit(X_train,y_train)\n",
    "svm_cv_acc = accuracy_score(y_valid, clf.predict(X_valid))\n",
    "svm_cv_acc"
   ]
  },
  {
   "cell_type": "markdown",
   "metadata": {},
   "source": [
    "**<font color='red'>Вопрос 4. </font> Посчитайте доли правильных ответов для `svm_grid_searcher2` на кросс-валидации для лучшего значения параметра `C` и на отложенной выборке. Округлите каждое до 3 знаков после запятой и выведите через пробел.**"
   ]
  },
  {
   "cell_type": "code",
   "execution_count": 106,
   "metadata": {},
   "outputs": [
    {
     "data": {
      "text/plain": [
       "(0.7670206386611259, 0.7807537331121118)"
      ]
     },
     "execution_count": 106,
     "metadata": {},
     "output_type": "execute_result"
    }
   ],
   "source": [
    "mean_scores_svm2 = cross_val_score(svm_grid_searcher2.best_estimator_,X_train,y_train,cv=skf,n_jobs=-1).mean()\n",
    "y_pred_svm2 = svm_grid_searcher2.best_estimator_.predict(X_valid)\n",
    "mean_scores_svm2,accuracy_score(y_valid,y_pred_svm2)"
   ]
  },
  {
   "cell_type": "code",
   "execution_count": null,
   "metadata": {},
   "outputs": [],
   "source": []
  },
  {
   "cell_type": "markdown",
   "metadata": {},
   "source": [
    "## Часть 2. Выбор параметров – длины сессии и ширины окна"
   ]
  },
  {
   "cell_type": "markdown",
   "metadata": {},
   "source": [
    "**Возьмем `LinearSVC`, показавший лучшее качество на кросс-валидации в 1 части, и проверим его работу еще на 8 выборках для 10 пользователей (с разными сочетаниями параметров *session_length* и *window_size*). Поскольку тут уже вычислений побольше, мы не будем каждый раз заново подбирать параметр регуляризации `C`.**\n",
    "\n",
    "**Определите функцию `model_assessment`, ее документация описана ниже. Обратите внимание на все детали. Например, на то, что разбиение  выборки с `train_test_split` должно быть стратифицированным. Не теряйте нигде `random_state`.**"
   ]
  },
  {
   "cell_type": "code",
   "execution_count": 109,
   "metadata": {},
   "outputs": [],
   "source": [
    "def model_assessment(estimator, path_to_X_pickle, path_to_y_pickle, cv, random_state=17, test_size=0.3):\n",
    "    '''\n",
    "    Estimates CV-accuracy for (1 - test_size) share of (X_sparse, y) \n",
    "    loaded from path_to_X_pickle and path_to_y_pickle and holdout accuracy for (test_size) share of (X_sparse, y).\n",
    "    The split is made with stratified train_test_split with params random_state and test_size.\n",
    "    \n",
    "    :param estimator – Scikit-learn estimator (classifier or regressor)\n",
    "    :param path_to_X_pickle – path to pickled sparse X (instances and their features)\n",
    "    :param path_to_y_pickle – path to pickled y (responses)\n",
    "    :param cv – cross-validation as in cross_val_score (use StratifiedKFold here)\n",
    "    :param random_state –  for train_test_split\n",
    "    :param test_size –  for train_test_split\n",
    "    \n",
    "    :returns mean CV-accuracy for (X_train, y_train) and accuracy for (X_valid, y_valid) where (X_train, y_train)\n",
    "    and (X_valid, y_valid) are (1 - test_size) and (testsize) shares of (X_sparse, y).\n",
    "    '''\n",
    "    \n",
    "    #Загрузка\n",
    "    with open(path_to_X_pickle,'rb') as X_pickle:\n",
    "        X_sparse = pickle.load(X_pickle)\n",
    "    \n",
    "    with open(path_to_y_pickle,'rb') as y_pickle:\n",
    "        y = pickle.load(y_pickle)\n",
    "    \n",
    "    #Разбиение на обучающую и валидационную выборки    \n",
    "    X_train,X_valid,y_train,y_valid = train_test_split(X_sparse,y,\\\n",
    "                                                       random_state=random_state,test_size=test_size,stratify=y)\n",
    "    \n",
    "    #Средняя точность на кроссвалидации для обучающей выборки    \n",
    "    mean_cv_accuracy = cross_val_score(estimator,X_train,y_train, cv=cv).mean()\n",
    "    \n",
    "    #Точность для валидационной выборки\n",
    "    estimator.fit(X_train,y_train)\n",
    "    val_accuracy = accuracy_score(y_valid,estimator.predict(X_valid))\n",
    "    \n",
    "    return mean_cv_accuracy,val_accuracy\n",
    "    \n",
    "    \n",
    "    \n",
    "    \n",
    "    "
   ]
  },
  {
   "cell_type": "markdown",
   "metadata": {},
   "source": [
    "**Убедитесь, что функция работает.**"
   ]
  },
  {
   "cell_type": "code",
   "execution_count": 110,
   "metadata": {},
   "outputs": [
    {
     "data": {
      "text/plain": [
       "(0.7670206386611259, 0.7807537331121118)"
      ]
     },
     "execution_count": 110,
     "metadata": {},
     "output_type": "execute_result"
    }
   ],
   "source": [
    "model_assessment(svm_grid_searcher2.best_estimator_, \n",
    "                 os.path.join(PATH_TO_DATA, 'X_sparse_10users.pkl'),\n",
    "        os.path.join(PATH_TO_DATA, 'y_10users.pkl'), skf, random_state=17, test_size=0.3)"
   ]
  },
  {
   "cell_type": "markdown",
   "metadata": {},
   "source": [
    "**Примените функцию *model_assessment* для лучшего алгоритма из предыдущей части (а именно, `svm_grid_searcher2.best_estimator_`) и 9 выборок вида с разными сочетаниями параметров *session_length* и *window_size* для 10 пользователей. Выведите в цикле параметры *session_length* и *window_size*, а также результат вывода функции *model_assessment*. \n",
    "Удобно сделать так, чтоб *model_assessment* возвращала 3-им элементом время, за которое она выполнилась. На моем ноуте этот участок кода выполнился за 20 секунд. Но со 150 пользователями каждая итерация занимает уже несколько минут.**"
   ]
  },
  {
   "cell_type": "markdown",
   "metadata": {},
   "source": [
    "Здесь для удобства стоит создать копии ранее созданных pickle-файлов X_sparse_10users.pkl, X_sparse_150users.pkl, y_10users.pkl и y_150users.pkl, добавив к их названиям s10_w10, что означает длину сессии 10 и ширину окна 10. "
   ]
  },
  {
   "cell_type": "code",
   "execution_count": 111,
   "metadata": {},
   "outputs": [
    {
     "name": "stderr",
     "output_type": "stream",
     "text": [
      "\"cp\" ­Ґ пў«пҐвбп ў­гваҐ­­Ґ© Ё«Ё ў­Ґи­Ґ©\n",
      "Є®¬ ­¤®©, ЁбЇ®«­пҐ¬®© Їа®Ја ¬¬®© Ё«Ё Ї ЄҐв­л¬ д ©«®¬.\n",
      "\"cp\" ­Ґ пў«пҐвбп ў­гваҐ­­Ґ© Ё«Ё ў­Ґи­Ґ©\n",
      "Є®¬ ­¤®©, ЁбЇ®«­пҐ¬®© Їа®Ја ¬¬®© Ё«Ё Ї ЄҐв­л¬ д ©«®¬.\n",
      "\"cp\" ­Ґ пў«пҐвбп ў­гваҐ­­Ґ© Ё«Ё ў­Ґи­Ґ©\n",
      "Є®¬ ­¤®©, ЁбЇ®«­пҐ¬®© Їа®Ја ¬¬®© Ё«Ё Ї ЄҐв­л¬ д ©«®¬.\n",
      "\"cp\" ­Ґ пў«пҐвбп ў­гваҐ­­Ґ© Ё«Ё ў­Ґи­Ґ©\n",
      "Є®¬ ­¤®©, ЁбЇ®«­пҐ¬®© Їа®Ја ¬¬®© Ё«Ё Ї ЄҐв­л¬ д ©«®¬.\n"
     ]
    }
   ],
   "source": [
    "!cp $PATH_TO_DATA/X_sparse_10users.pkl $PATH_TO_DATA/X_sparse_10users_s10_w10.pkl \n",
    "!cp $PATH_TO_DATA/X_sparse_150users.pkl $PATH_TO_DATA/X_sparse_150users_s10_w10.pkl \n",
    "!cp $PATH_TO_DATA/y_10users.pkl $PATH_TO_DATA/y_10users_s10_w10.pkl \n",
    "!cp $PATH_TO_DATA/y_150users.pkl $PATH_TO_DATA/y_150users_s10_w10.pkl "
   ]
  },
  {
   "cell_type": "code",
   "execution_count": 112,
   "metadata": {},
   "outputs": [],
   "source": [
    "PATH_TO_DATA2 = 'data2'"
   ]
  },
  {
   "cell_type": "code",
   "execution_count": 125,
   "metadata": {},
   "outputs": [
    {
     "data": {
      "text/plain": [
       "1585135639.5973463"
      ]
     },
     "execution_count": 125,
     "metadata": {},
     "output_type": "execute_result"
    }
   ],
   "source": [
    "import time\n",
    "time.time()"
   ]
  },
  {
   "cell_type": "code",
   "execution_count": 128,
   "metadata": {},
   "outputs": [
    {
     "name": "stdout",
     "output_type": "stream",
     "text": [
      "session lenght 15, window size 10: mean CV accuracy: 0.8243252292702751, validation accuracy: 0.8404835269021095, duration of iteration: 8.740145206451416 s\n",
      "session lenght 10, window size 10: mean CV accuracy: 0.7670206386611259, validation accuracy: 0.7807537331121118, duration of iteration: 4.815398216247559 s\n",
      "session lenght 15, window size 7: mean CV accuracy: 0.8495024256089474, validation accuracy: 0.8543222166915547, duration of iteration: 12.47264051437378 s\n",
      "session lenght 10, window size 7: mean CV accuracy: 0.7983645917156946, validation accuracy: 0.8073668491786958, duration of iteration: 7.281831741333008 s\n",
      "session lenght 7, window size 7: mean CV accuracy: 0.754765400423003, validation accuracy: 0.7617388418782147, duration of iteration: 4.2636377811431885 s\n",
      "session lenght 15, window size 5: mean CV accuracy: 0.8670355547005402, validation accuracy: 0.8752963489805595, duration of iteration: 18.856114864349365 s\n",
      "session lenght 10, window size 5: mean CV accuracy: 0.8177520250854086, validation accuracy: 0.8245614035087719, duration of iteration: 10.359208345413208 s\n",
      "session lenght 7, window size 5: mean CV accuracy: 0.772939529035208, validation accuracy: 0.7853247984826932, duration of iteration: 6.659245491027832 s\n",
      "session lenght 5, window size 5: mean CV accuracy: 0.7254849424351582, validation accuracy: 0.7362494073020389, duration of iteration: 4.68738317489624 s\n",
      "Wall time: 1min 18s\n"
     ]
    }
   ],
   "source": [
    "%%time\n",
    "estimator = svm_grid_searcher2.best_estimator_\n",
    "for window_size, session_length in itertools.product([10, 7, 5], [15, 10, 7, 5]):\n",
    "    t_start = time.time()\n",
    "    if window_size <= session_length:\n",
    "        path_to_X_pkl = os.path.join(PATH_TO_DATA2,f'X_sparse_10users_s{session_length}_w{window_size}.pkl')\n",
    "        path_to_y_pkl = os.path.join(PATH_TO_DATA2,f'y_10users_s{session_length}_w{window_size}.pkl')\n",
    "        ac_cv, v_ac = model_assessment(svm_grid_searcher2.best_estimator_,path_to_X_pkl,path_to_y_pkl,\\\n",
    "                                      skf, random_state=17, test_size=0.3)\n",
    "        duration = time.time() - t_start\n",
    "        print(f'session lenght {session_length}, window size {window_size}: mean CV accuracy: {ac_cv}, validation accuracy: {v_ac}, duration of iteration: {duration} s')           "
   ]
  },
  {
   "cell_type": "markdown",
   "metadata": {},
   "source": [
    "**<font color='red'>Вопрос 5. </font> Посчитайте доли правильных ответов для `LinearSVC` с настроенным параметром `C` и выборки `X_sparse_10users_s15_w5`. Укажите доли правильных ответов на кросс-валидации и на отложенной выборке. Округлите каждое до 3 знаков после запятой и выведите через пробел.**"
   ]
  },
  {
   "cell_type": "markdown",
   "metadata": {
    "collapsed": true
   },
   "source": [
    "mean CV accuracy: 0.8670355547005402, validation accuracy: 0.8752963489805595"
   ]
  },
  {
   "cell_type": "markdown",
   "metadata": {},
   "source": [
    "**Прокомментируйте полученные результаты. Сравните для 150 пользователей доли правильных ответов на кросс-валидации и оставленной выборке для сочетаний параметров (*session_length, window_size*): (5,5), (7,7) и (10,10). На среднем ноуте это может занять до часа – запаситесь терпением, это Data Science :) **\n",
    "\n",
    "**Сделайте вывод о том, как качество классификации зависит от длины сессии и ширины окна.**"
   ]
  },
  {
   "cell_type": "markdown",
   "metadata": {},
   "source": [
    "При увеличении длины сессии и уменьшении ширины окна качество возрастает"
   ]
  },
  {
   "cell_type": "code",
   "execution_count": 130,
   "metadata": {},
   "outputs": [
    {
     "name": "stdout",
     "output_type": "stream",
     "text": [
      "session lenght 5, window size 5: mean CV accuracy: 0.4083611011164474, validation accuracy: 0.42171606560568453, duration of iteration: 838.0018553733826 s\n",
      "session lenght 7, window size 7: mean CV accuracy: 0.4366487102001489, validation accuracy: 0.45295840855673264, duration of iteration: 814.1012179851532 s\n",
      "session lenght 10, window size 10: mean CV accuracy: 0.46307591254574465, validation accuracy: 0.4836276942538802, duration of iteration: 788.0590643882751 s\n",
      "Wall time: 40min 40s\n"
     ]
    }
   ],
   "source": [
    "%%time\n",
    "estimator = svm_grid_searcher2.best_estimator_ \n",
    "\n",
    "for window_size, session_length in [(5,5), (7,7), (10,10)]:\n",
    "    t_start = time.time()\n",
    "    path_to_X_pkl = os.path.join(PATH_TO_DATA2,f'X_sparse_150users_s{session_length}_w{window_size}.pkl')\n",
    "    path_to_y_pkl = os.path.join(PATH_TO_DATA2,f'y_150users_s{session_length}_w{window_size}.pkl')\n",
    "    ac_cv, v_ac = model_assessment(estimator,path_to_X_pkl,path_to_y_pkl,\\\n",
    "                                      skf, random_state=17, test_size=0.3)\n",
    "    duration = time.time() - t_start\n",
    "    print(f'session lenght {session_length}, window size {window_size}: mean CV accuracy: {ac_cv}, validation accuracy: {v_ac}, duration of iteration: {duration} s')"
   ]
  },
  {
   "cell_type": "markdown",
   "metadata": {},
   "source": [
    "**<font color='red'>Вопрос 6. </font> Посчитайте доли правильных ответов для `LinearSVC` с настроенным параметром `C` и выборки `X_sparse_150users`. Укажите доли правильных ответов на кросс-валидации и на отложенной выборке. Округлите каждое до 3 знаков после запятой и выведите через пробел.**"
   ]
  },
  {
   "cell_type": "markdown",
   "metadata": {
    "collapsed": true
   },
   "source": [
    "session lenght 10, window size 10: mean CV accuracy: 0.46307591254574465, validation accuracy: 0.4836276942538802, duration of iteration: 788.0590643882751 s"
   ]
  },
  {
   "cell_type": "markdown",
   "metadata": {},
   "source": [
    "## Часть 3. Идентификация  конкретного пользователя и кривые обучения"
   ]
  },
  {
   "cell_type": "markdown",
   "metadata": {},
   "source": [
    "**Поскольку может разочаровать, что многоклассовая доля правильных ответов на выборке из 150 пользовалей невелика, порадуемся тому, что конкретного пользователя можно идентифицировать достаточно хорошо. **"
   ]
  },
  {
   "cell_type": "markdown",
   "metadata": {},
   "source": [
    "**Загрузим сериализованные ранее объекты *X_sparse_150users* и *y_150users*, соответствующие обучающей выборке для 150 пользователей с параметрами (*session_length, window_size*) = (10,10). Так же точно разобьем их на 70% и 30%.**"
   ]
  },
  {
   "cell_type": "code",
   "execution_count": 132,
   "metadata": {},
   "outputs": [],
   "source": [
    "with open(os.path.join(PATH_TO_DATA2, 'X_sparse_150users_s10_w10.pkl'), 'rb') as X_sparse_150users_pkl:\n",
    "     X_sparse_150users = pickle.load(X_sparse_150users_pkl)\n",
    "with open(os.path.join(PATH_TO_DATA2, 'y_150users_s10_w10.pkl'), 'rb') as y_150users_pkl:\n",
    "    y_150users = pickle.load(y_150users_pkl)"
   ]
  },
  {
   "cell_type": "code",
   "execution_count": 133,
   "metadata": {},
   "outputs": [],
   "source": [
    "X_train_150, X_valid_150, y_train_150, y_valid_150 = train_test_split(X_sparse_150users, \n",
    "                                                                      y_150users, test_size=0.3, \n",
    "                                                     random_state=17, stratify=y_150users)"
   ]
  },
  {
   "cell_type": "markdown",
   "metadata": {},
   "source": [
    "**Обучите `LogisticRegressionCV` для одного значения параметра `C` (лучшего на кросс-валидации в 1 части, используйте точное значение, не на глаз). Теперь будем решать 150 задач \"Один-против-Всех\", поэтому укажите аргумент `multi_class`='ovr'. Как всегда, где возможно, указывайте `n_jobs=-1` и `random_state`=17.**"
   ]
  },
  {
   "cell_type": "code",
   "execution_count": 223,
   "metadata": {},
   "outputs": [
    {
     "name": "stdout",
     "output_type": "stream",
     "text": [
      "Wall time: 12min 45s\n"
     ]
    },
    {
     "data": {
      "text/plain": [
       "LogisticRegressionCV(Cs=[1.9157894736842107], class_weight=None,\n",
       "                     cv=StratifiedKFold(n_splits=3, random_state=17, shuffle=True),\n",
       "                     dual=False, fit_intercept=True, intercept_scaling=1.0,\n",
       "                     l1_ratios=None, max_iter=100, multi_class='ovr', n_jobs=-1,\n",
       "                     penalty='l2', random_state=17, refit=True, scoring=None,\n",
       "                     solver='lbfgs', tol=0.0001, verbose=0)"
      ]
     },
     "execution_count": 223,
     "metadata": {},
     "output_type": "execute_result"
    }
   ],
   "source": [
    "%%time\n",
    "logit_cv_150users = LogisticRegressionCV(Cs = [logit_grid_searcher2.Cs[5]],\\\n",
    "                                         random_state=17,n_jobs=-1,multi_class='ovr',cv=skf)\n",
    "logit_cv_150users.fit(X_train_150, y_train_150)"
   ]
  },
  {
   "cell_type": "markdown",
   "metadata": {},
   "source": [
    "**Посмотрите на средние доли правильных ответов на кросс-валидации в задаче идентификации каждого пользователя по отдельности.**"
   ]
  },
  {
   "cell_type": "code",
   "execution_count": 224,
   "metadata": {},
   "outputs": [
    {
     "data": {
      "text/plain": [
       "{6: array([[0.99596509],\n",
       "        [0.99646555],\n",
       "        [0.9958087 ]]), 13: array([[0.99627788],\n",
       "        [0.99637171],\n",
       "        [0.99627788]]), 15: array([[0.99521441],\n",
       "        [0.99518313],\n",
       "        [0.9953708 ]]), 16: array([[0.99199274],\n",
       "        [0.99199274],\n",
       "        [0.99155485]]), 28: array([[0.99042883],\n",
       "        [0.99027243],\n",
       "        [0.99036627]]), 31: array([[0.99433862],\n",
       "        [0.99440118],\n",
       "        [0.99446373]]), 33: array([[0.99368177],\n",
       "        [0.99396328],\n",
       "        [0.9936505 ]]), 39: array([[0.9859873 ],\n",
       "        [0.9867067 ],\n",
       "        [0.98501767]]), 46: array([[0.99802946],\n",
       "        [0.99824841],\n",
       "        [0.99784179]]), 49: array([[0.99521441],\n",
       "        [0.99524569],\n",
       "        [0.99512058]]), 50: array([[0.99440118],\n",
       "        [0.99433862],\n",
       "        [0.99424478]]), 53: array([[0.99361922],\n",
       "        [0.99377561],\n",
       "        [0.99374433]]), 65: array([[0.99684089],\n",
       "        [0.996966  ],\n",
       "        [0.99702856]]), 66: array([[0.99474524],\n",
       "        [0.99477652],\n",
       "        [0.99490163]]), 82: array([[0.9965281 ],\n",
       "        [0.99621532],\n",
       "        [0.99637171]]), 85: array([[0.99621532],\n",
       "        [0.99646555],\n",
       "        [0.99643427]]), 89: array([[0.99124206],\n",
       "        [0.99039755],\n",
       "        [0.99099184]]), 92: array([[0.99462012],\n",
       "        [0.99427606],\n",
       "        [0.9943699 ]]), 100: array([[0.99443245],\n",
       "        [0.99458885],\n",
       "        [0.99446373]]), 102: array([[0.99130462],\n",
       "        [0.99130462],\n",
       "        [0.99086672]]), 103: array([[0.98023209],\n",
       "        [0.98023209],\n",
       "        [0.98117044]]), 105: array([[0.996966  ],\n",
       "        [0.99693472],\n",
       "        [0.99680961]]), 106: array([[0.99543336],\n",
       "        [0.99474524],\n",
       "        [0.9943699 ]]), 118: array([[0.99092928],\n",
       "        [0.99086672],\n",
       "        [0.99099184]]), 119: array([[0.99646555],\n",
       "        [0.99671577],\n",
       "        [0.99659066]]), 120: array([[0.99377561],\n",
       "        [0.99458885],\n",
       "        [0.99449501]]), 126: array([[0.99502674],\n",
       "        [0.99499546],\n",
       "        [0.99518313]]), 127: array([[0.99167996],\n",
       "        [0.9916174 ],\n",
       "        [0.99152357]]), 128: array([[0.98392293],\n",
       "        [0.98489256],\n",
       "        [0.9852679 ]]), 138: array([[0.99680961],\n",
       "        [0.99718495],\n",
       "        [0.99718495]]), 158: array([[0.99690344],\n",
       "        [0.99715367],\n",
       "        [0.99712239]]), 160: array([[0.996966  ],\n",
       "        [0.99690344],\n",
       "        [0.99659066]]), 165: array([[0.99746645],\n",
       "        [0.99724751],\n",
       "        [0.99737262]]), 172: array([[0.99646555],\n",
       "        [0.99655938],\n",
       "        [0.99643427]]), 177: array([[0.99674705],\n",
       "        [0.99712239],\n",
       "        [0.99643427]]), 203: array([[0.9976854 ],\n",
       "        [0.99752901],\n",
       "        [0.99749773]]), 207: array([[0.98783272],\n",
       "        [0.98770761],\n",
       "        [0.98780145]]), 223: array([[0.99649683],\n",
       "        [0.99655938],\n",
       "        [0.99659066]]), 233: array([[0.99659066],\n",
       "        [0.99634043],\n",
       "        [0.99602765]]), 235: array([[0.99665322],\n",
       "        [0.99671577],\n",
       "        [0.99662194]]), 236: array([[0.98999093],\n",
       "        [0.99033499],\n",
       "        [0.98977198]]), 237: array([[0.98961559],\n",
       "        [0.98933408],\n",
       "        [0.98930281]]), 238: array([[0.99621532],\n",
       "        [0.99615276],\n",
       "        [0.99637171]]), 240: array([[0.99571487],\n",
       "        [0.99577742],\n",
       "        [0.99574614]]), 241: array([[0.99602765],\n",
       "        [0.99599637],\n",
       "        [0.99587126]]), 242: array([[0.99533953],\n",
       "        [0.9950893 ],\n",
       "        [0.99505802]]), 245: array([[0.99599637],\n",
       "        [0.99583998],\n",
       "        [0.99618404]]), 246: array([[0.99709111],\n",
       "        [0.99693472],\n",
       "        [0.99705984]]), 249: array([[0.99524569],\n",
       "        [0.99483907],\n",
       "        [0.99493291]]), 252: array([[0.99659066],\n",
       "        [0.99646555],\n",
       "        [0.99643427]]), 254: array([[0.99208658],\n",
       "        [0.99149229],\n",
       "        [0.99246192]]), 256: array([[0.99609021],\n",
       "        [0.99587126],\n",
       "        [0.99637171]]), 258: array([[0.99602765],\n",
       "        [0.99593382],\n",
       "        [0.99583998]]), 259: array([[0.99483907],\n",
       "        [0.99483907],\n",
       "        [0.99505802]]), 260: array([[0.99749773],\n",
       "        [0.99705984],\n",
       "        [0.99762285]]), 261: array([[0.98949048],\n",
       "        [0.9901786 ],\n",
       "        [0.98964687]]), 263: array([[0.99286854],\n",
       "        [0.99261831],\n",
       "        [0.99289982]]), 264: array([[0.99659066],\n",
       "        [0.99662194],\n",
       "        [0.99659066]]), 269: array([[0.98730099],\n",
       "        [0.98698821],\n",
       "        [0.98723843]]), 270: array([[0.98908386],\n",
       "        [0.98961559],\n",
       "        [0.98952175]]), 273: array([[0.99418223],\n",
       "        [0.99443245],\n",
       "        [0.99455757]]), 287: array([[0.98999093],\n",
       "        [0.99008476],\n",
       "        [0.99042883]]), 294: array([[0.99562103],\n",
       "        [0.99593382],\n",
       "        [0.99568359]]), 298: array([[0.99152357],\n",
       "        [0.99096056],\n",
       "        [0.99130462]]), 301: array([[0.99727878],\n",
       "        [0.99743518],\n",
       "        [0.99693472]]), 308: array([[0.99574614],\n",
       "        [0.99599637],\n",
       "        [0.9953708 ]]), 315: array([[0.9974039 ],\n",
       "        [0.99759157],\n",
       "        [0.99765412]]), 318: array([[0.99609021],\n",
       "        [0.9958087 ],\n",
       "        [0.99577742]]), 327: array([[0.99665322],\n",
       "        [0.9966845 ],\n",
       "        [0.99659066]]), 332: array([[0.99693472],\n",
       "        [0.99680961],\n",
       "        [0.9966845 ]]), 333: array([[0.9965281 ],\n",
       "        [0.99599637],\n",
       "        [0.99627788]]), 339: array([[0.99693472],\n",
       "        [0.9974039 ],\n",
       "        [0.99702856]]), 340: array([[0.99649683],\n",
       "        [0.99674705],\n",
       "        [0.99687217]]), 342: array([[0.99214914],\n",
       "        [0.9924932 ],\n",
       "        [0.99211786]]), 344: array([[0.99659066],\n",
       "        [0.9965281 ],\n",
       "        [0.99684089]]), 351: array([[0.99218041],\n",
       "        [0.99268087],\n",
       "        [0.9924932 ]]), 356: array([[0.99765412],\n",
       "        [0.99743518],\n",
       "        [0.99771668]]), 361: array([[0.99662194],\n",
       "        [0.99665322],\n",
       "        [0.99646555]]), 363: array([[0.99634043],\n",
       "        [0.99637171],\n",
       "        [0.99674705]]), 411: array([[0.99105439],\n",
       "        [0.99114823],\n",
       "        [0.99149229]]), 417: array([[0.99659066],\n",
       "        [0.99680961],\n",
       "        [0.99677833]]), 425: array([[0.99415095],\n",
       "        [0.99430734],\n",
       "        [0.99418223]]), 430: array([[0.9962466 ],\n",
       "        [0.99602765],\n",
       "        [0.9965281 ]]), 435: array([[0.99693472],\n",
       "        [0.99705984],\n",
       "        [0.99712239]]), 436: array([[0.99518313],\n",
       "        [0.99515186],\n",
       "        [0.99518313]]), 440: array([[0.99705984],\n",
       "        [0.996966  ],\n",
       "        [0.99709111]]), 444: array([[0.99784179],\n",
       "        [0.99787307],\n",
       "        [0.99771668]]), 475: array([[0.98920897],\n",
       "        [0.98933408],\n",
       "        [0.98930281]]), 476: array([[0.99693472],\n",
       "        [0.99702856],\n",
       "        [0.99699728]]), 486: array([[0.99540208],\n",
       "        [0.99546464],\n",
       "        [0.9953708 ]]), 515: array([[0.99386944],\n",
       "        [0.99440118],\n",
       "        [0.9943699 ]]), 533: array([[0.9932126 ],\n",
       "        [0.99446373],\n",
       "        [0.99371305]]), 561: array([[0.98492384],\n",
       "        [0.98448594],\n",
       "        [0.98404804]]), 563: array([[0.99684089],\n",
       "        [0.99687217],\n",
       "        [0.99677833]]), 564: array([[0.99565231],\n",
       "        [0.99574614],\n",
       "        [0.99565231]]), 568: array([[0.99171124],\n",
       "        [0.99164868],\n",
       "        [0.99186763]]), 569: array([[0.98949048],\n",
       "        [0.98905258],\n",
       "        [0.98939664]]), 570: array([[0.99827969],\n",
       "        [0.99827969],\n",
       "        [0.99831097]]), 573: array([[0.99083544],\n",
       "        [0.99071033],\n",
       "        [0.99077289]]), 575: array([[0.99042883],\n",
       "        [0.98992837],\n",
       "        [0.98983454]]), 576: array([[0.99408839],\n",
       "        [0.99433862],\n",
       "        [0.99408839]]), 580: array([[0.98720716],\n",
       "        [0.98655031],\n",
       "        [0.98636264]]), 583: array([[0.9815145 ],\n",
       "        [0.98085765],\n",
       "        [0.98007569]]), 584: array([[0.98120171],\n",
       "        [0.98104532],\n",
       "        [0.98129555]]), 600: array([[0.99180507],\n",
       "        [0.99136718],\n",
       "        [0.99130462]]), 603: array([[0.99562103],\n",
       "        [0.99565231],\n",
       "        [0.99583998]]), 605: array([[0.99752901],\n",
       "        [0.99765412],\n",
       "        [0.9974039 ]]), 640: array([[0.99737262],\n",
       "        [0.99702856],\n",
       "        [0.99737262]]), 647: array([[0.99749773],\n",
       "        [0.99756029],\n",
       "        [0.99787307]]), 653: array([[0.9974039 ],\n",
       "        [0.99727878],\n",
       "        [0.99749773]]), 664: array([[0.99543336],\n",
       "        [0.99499546],\n",
       "        [0.99521441]]), 665: array([[0.99677833],\n",
       "        [0.99693472],\n",
       "        [0.99702856]]), 677: array([[0.9966845 ],\n",
       "        [0.99643427],\n",
       "        [0.99677833]]), 692: array([[0.99705984],\n",
       "        [0.99674705],\n",
       "        [0.99699728]]), 697: array([[0.99605893],\n",
       "        [0.99590254],\n",
       "        [0.99599637]]), 705: array([[0.99643427],\n",
       "        [0.99655938],\n",
       "        [0.99630916]]), 722: array([[0.99518313],\n",
       "        [0.99487035],\n",
       "        [0.99405711]]), 740: array([[0.99680961],\n",
       "        [0.99659066],\n",
       "        [0.9966845 ]]), 741: array([[0.99705984],\n",
       "        [0.99680961],\n",
       "        [0.9966845 ]]), 756: array([[0.99568359],\n",
       "        [0.99590254],\n",
       "        [0.99515186]]), 780: array([[0.99621532],\n",
       "        [0.99649683],\n",
       "        [0.99693472]]), 784: array([[0.99662194],\n",
       "        [0.9966845 ],\n",
       "        [0.99665322]]), 785: array([[0.99671577],\n",
       "        [0.99687217],\n",
       "        [0.99727878]]), 797: array([[0.99574614],\n",
       "        [0.99568359],\n",
       "        [0.99583998]]), 812: array([[0.99483907],\n",
       "        [0.99483907],\n",
       "        [0.99505802]]), 844: array([[0.99721623],\n",
       "        [0.996966  ],\n",
       "        [0.99690344]]), 859: array([[0.99809202],\n",
       "        [0.99824841],\n",
       "        [0.99806074]]), 868: array([[0.99662194],\n",
       "        [0.99643427],\n",
       "        [0.99659066]]), 875: array([[0.99577742],\n",
       "        [0.9955272 ],\n",
       "        [0.99583998]]), 932: array([[0.9906165 ],\n",
       "        [0.99024116],\n",
       "        [0.99064777]]), 996: array([[0.99330643],\n",
       "        [0.99346283],\n",
       "        [0.99318132]]), 1014: array([[0.9974039 ],\n",
       "        [0.99705984],\n",
       "        [0.99693472]]), 1040: array([[0.99734134],\n",
       "        [0.99705984],\n",
       "        [0.99671577]]), 1054: array([[0.99609021],\n",
       "        [0.99674705],\n",
       "        [0.99659066]]), 1248: array([[0.99790435],\n",
       "        [0.99784179],\n",
       "        [0.99746645]]), 1267: array([[0.99743518],\n",
       "        [0.99752901],\n",
       "        [0.99702856]]), 1299: array([[0.99684089],\n",
       "        [0.99693472],\n",
       "        [0.99699728]]), 1371: array([[0.99318132],\n",
       "        [0.9934941 ],\n",
       "        [0.99355666]]), 1797: array([[0.99540208],\n",
       "        [0.99487035],\n",
       "        [0.99440118]]), 1798: array([[0.99677833],\n",
       "        [0.99665322],\n",
       "        [0.99655938]]), 1993: array([[0.99665322],\n",
       "        [0.996966  ],\n",
       "        [0.99677833]]), 2118: array([[0.99787307],\n",
       "        [0.99781052],\n",
       "        [0.99787307]]), 2174: array([[0.99571487],\n",
       "        [0.9958087 ],\n",
       "        [0.99605893]]), 2191: array([[0.99527697],\n",
       "        [0.99543336],\n",
       "        [0.99502674]]), 2250: array([[0.9974039 ],\n",
       "        [0.99737262],\n",
       "        [0.99724751]]), 2355: array([[0.99621532],\n",
       "        [0.99583998],\n",
       "        [0.9955272 ]]), 2408: array([[0.99368177],\n",
       "        [0.99383817],\n",
       "        [0.99371305]]), 2493: array([[0.9965281 ],\n",
       "        [0.99671577],\n",
       "        [0.99655938]]), 2625: array([[0.99615276],\n",
       "        [0.99609021],\n",
       "        [0.99618404]]), 2902: array([[0.99709111],\n",
       "        [0.99693472],\n",
       "        [0.99734134]])}"
      ]
     },
     "execution_count": 224,
     "metadata": {},
     "output_type": "execute_result"
    }
   ],
   "source": [
    "logit_cv_150users.scores_\n"
   ]
  },
  {
   "cell_type": "code",
   "execution_count": 225,
   "metadata": {},
   "outputs": [
    {
     "name": "stdout",
     "output_type": "stream",
     "text": [
      "User 6, CV score: 0.9960797806345333\n",
      "User 13, CV score: 0.9963091551718745\n",
      "User 15, CV score: 0.995256117523172\n",
      "User 16, CV score: 0.9918467778090561\n",
      "User 28, CV score: 0.9903558433163387\n",
      "User 31, CV score: 0.9944011760658097\n",
      "User 33, CV score: 0.9937651830304547\n",
      "User 39, CV score: 0.9859038920688542\n",
      "User 46, CV score: 0.9980398903172666\n",
      "User 49, CV score: 0.9951935608311699\n",
      "User 50, CV score: 0.9943281932584739\n",
      "User 53, CV score: 0.9937130524537862\n",
      "User 65, CV score: 0.9969451482072295\n",
      "User 66, CV score: 0.9948077945638234\n",
      "User 82, CV score: 0.9963717118638766\n",
      "User 85, CV score: 0.9963717118638766\n",
      "User 89, CV score: 0.9908771490830232\n",
      "User 92, CV score: 0.994422028296477\n",
      "User 100, CV score: 0.9944950111038128\n",
      "User 102, CV score: 0.9911586541970326\n",
      "User 103, CV score: 0.9805448687873385\n",
      "User 105, CV score: 0.9969034437458948\n",
      "User 106, CV score: 0.9948494990251583\n",
      "User 118, CV score: 0.9909292796596917\n",
      "User 119, CV score: 0.9965906602858841\n",
      "User 120, CV score: 0.994286488797139\n",
      "User 126, CV score: 0.9950684474471657\n",
      "User 127, CV score: 0.9916069771563812\n",
      "User 128, CV score: 0.9846944626901463\n",
      "User 138, CV score: 0.9970598354759\n",
      "User 158, CV score: 0.9970598354759\n",
      "User 160, CV score: 0.9968200348232252\n",
      "User 165, CV score: 0.997362192820577\n",
      "User 172, CV score: 0.9964863991325471\n",
      "User 177, CV score: 0.9967679042465568\n",
      "User 203, CV score: 0.9975707151272508\n",
      "User 207, CV score: 0.9877805928289178\n",
      "User 223, CV score: 0.9965489558245494\n",
      "User 233, CV score: 0.9963195812872082\n",
      "User 235, CV score: 0.9966636430932199\n",
      "User 236, CV score: 0.9900326337409945\n",
      "User 237, CV score: 0.9894174929363068\n",
      "User 238, CV score: 0.9962465984798724\n",
      "User 240, CV score: 0.9957461449438553\n",
      "User 241, CV score: 0.9959650933658629\n",
      "User 242, CV score: 0.9951622824851688\n",
      "User 245, CV score: 0.9960067978271976\n",
      "User 246, CV score: 0.997028557129899\n",
      "User 249, CV score: 0.9950058907551634\n",
      "User 252, CV score: 0.9964968252478809\n",
      "User 254, CV score: 0.9920135956543952\n",
      "User 256, CV score: 0.9961110589805345\n",
      "User 258, CV score: 0.9959338150198618\n",
      "User 259, CV score: 0.9949120557171603\n",
      "User 260, CV score: 0.9973934711665781\n",
      "User 261, CV score: 0.9897719808576523\n",
      "User 263, CV score: 0.9927955543044217\n",
      "User 264, CV score: 0.9966010864012178\n",
      "User 269, CV score: 0.987175878139564\n",
      "User 270, CV score: 0.9894070668209732\n",
      "User 273, CV score: 0.994390749950476\n",
      "User 287, CV score: 0.9901681732403323\n",
      "User 294, CV score: 0.9957461449438553\n",
      "User 298, CV score: 0.9912629153503696\n",
      "User 301, CV score: 0.9972162272059054\n",
      "User 308, CV score: 0.9957044404825206\n",
      "User 315, CV score: 0.9975498628965833\n",
      "User 318, CV score: 0.9958921105585269\n",
      "User 327, CV score: 0.9966427908625525\n",
      "User 332, CV score: 0.9968096087078915\n",
      "User 333, CV score: 0.9962674507105397\n",
      "User 339, CV score: 0.9971223921679022\n",
      "User 340, CV score: 0.9967053475545545\n",
      "User 342, CV score: 0.99225339630707\n",
      "User 344, CV score: 0.9966532169778862\n",
      "User 351, CV score: 0.99245149249841\n",
      "User 356, CV score: 0.9976019934732517\n",
      "User 361, CV score: 0.9965802341705504\n",
      "User 363, CV score: 0.9964863991325471\n",
      "User 411, CV score: 0.9912316370043684\n",
      "User 417, CV score: 0.9967261997852219\n",
      "User 425, CV score: 0.9942135059898032\n",
      "User 430, CV score: 0.9962674507105399\n",
      "User 435, CV score: 0.9970389832452327\n",
      "User 436, CV score: 0.9951727086005026\n",
      "User 440, CV score: 0.9970389832452327\n",
      "User 444, CV score: 0.9978105157799256\n",
      "User 475, CV score: 0.9892819534369689\n",
      "User 476, CV score: 0.9969868526685642\n",
      "User 486, CV score: 0.9954125092531774\n",
      "User 515, CV score: 0.9942135059898032\n",
      "User 533, CV score: 0.9937964613764558\n",
      "User 561, CV score: 0.9844859403834724\n",
      "User 563, CV score: 0.9968304609385589\n",
      "User 564, CV score: 0.9956835882518532\n",
      "User 568, CV score: 0.9917425166557193\n",
      "User 569, CV score: 0.9893132317829699\n",
      "User 570, CV score: 0.9982901170852752\n",
      "User 573, CV score: 0.9907728879296863\n",
      "User 575, CV score: 0.9900639120869954\n",
      "User 576, CV score: 0.9941718015284685\n",
      "User 580, CV score: 0.9867067029495481\n",
      "User 583, CV score: 0.9808159477860143\n",
      "User 584, CV score: 0.9811808618226935\n",
      "User 600, CV score: 0.9914922898877108\n",
      "User 603, CV score: 0.9957044404825206\n",
      "User 605, CV score: 0.9975290106659159\n",
      "User 640, CV score: 0.9972579316672402\n",
      "User 647, CV score: 0.9976436979345866\n",
      "User 653, CV score: 0.9973934711665781\n",
      "User 664, CV score: 0.9952144130618373\n",
      "User 665, CV score: 0.9969138698612284\n",
      "User 677, CV score: 0.9966323647472187\n",
      "User 692, CV score: 0.9969347220918957\n",
      "User 697, CV score: 0.9959859455965301\n",
      "User 705, CV score: 0.9964342685558788\n",
      "User 722, CV score: 0.9947035334104865\n",
      "User 740, CV score: 0.996694921439221\n",
      "User 741, CV score: 0.9968513131692264\n",
      "User 756, CV score: 0.9955793270985164\n",
      "User 780, CV score: 0.9965489558245494\n",
      "User 784, CV score: 0.9966532169778862\n",
      "User 785, CV score: 0.9969555743225631\n",
      "User 797, CV score: 0.995756571059189\n",
      "User 812, CV score: 0.9949120557171603\n",
      "User 844, CV score: 0.9970285571298989\n",
      "User 859, CV score: 0.9981337253552699\n",
      "User 868, CV score: 0.9965489558245494\n",
      "User 875, CV score: 0.9957148665978544\n",
      "User 932, CV score: 0.9905018089310104\n",
      "User 996, CV score: 0.9933168600711061\n",
      "User 1014, CV score: 0.9971328182832359\n",
      "User 1040, CV score: 0.9970389832452327\n",
      "User 1054, CV score: 0.9964759730172136\n",
      "User 1248, CV score: 0.9977375329725898\n",
      "User 1267, CV score: 0.9973309144745759\n",
      "User 1299, CV score: 0.996924295976562\n",
      "User 1371, CV score: 0.9934106951091093\n",
      "User 1797, CV score: 0.994891203486493\n",
      "User 1798, CV score: 0.99666364309322\n",
      "User 1993, CV score: 0.9967991825925578\n",
      "User 2118, CV score: 0.9978522202412603\n",
      "User 2174, CV score: 0.995860832212526\n",
      "User 2191, CV score: 0.9952456914078384\n",
      "User 2250, CV score: 0.9973413405899096\n",
      "User 2355, CV score: 0.995860832212526\n",
      "User 2408, CV score: 0.9937443307997874\n",
      "User 2493, CV score: 0.9966010864012178\n",
      "User 2625, CV score: 0.9961423373265355\n",
      "User 2902, CV score: 0.9971223921679022\n"
     ]
    }
   ],
   "source": [
    "cv_scores_by_user = {}\n",
    "for user_id in logit_cv_150users.scores_:\n",
    "       \n",
    "    print('User {}, CV score: {}'.format(user_id,logit_cv_150users.scores_[user_id].mean()))"
   ]
  },
  {
   "cell_type": "markdown",
   "metadata": {},
   "source": [
    "**Результаты кажутся впечатляющими, но возможно, мы забываем про дисбаланс классов, и высокую долю правильных ответов можно получить константным прогнозом. Посчитайте для каждого пользователя разницу между долей правильных ответов на кросс-валидации (только что посчитанную с помощью `LogisticRegressionCV`) и долей меток в *y_train_150*, отличных от ID \n",
    " этого пользователя (именно такую долю правильных ответов можно получить, если классификатор всегда \"говорит\", что это не пользователь с номером $i$ в задаче классификации $i$-vs-All).**"
   ]
  },
  {
   "cell_type": "code",
   "execution_count": 189,
   "metadata": {},
   "outputs": [
    {
     "name": "stdout",
     "output_type": "stream",
     "text": [
      "[  0   0   0 ...   0   0 475]\n"
     ]
    },
    {
     "data": {
      "text/plain": [
       "(95913,)"
      ]
     },
     "execution_count": 189,
     "metadata": {},
     "output_type": "execute_result"
    }
   ],
   "source": [
    "class_distr = np.bincount(y_train_150.astype('int'))\n",
    "print(class_distr)\n",
    "y_train_150.shape"
   ]
  },
  {
   "cell_type": "code",
   "execution_count": 190,
   "metadata": {},
   "outputs": [
    {
     "data": {
      "text/plain": [
       "0"
      ]
     },
     "execution_count": 190,
     "metadata": {},
     "output_type": "execute_result"
    }
   ],
   "source": [
    "class_distr[int(user_id)] - class_distr[user_id]"
   ]
  },
  {
   "cell_type": "code",
   "execution_count": 230,
   "metadata": {},
   "outputs": [],
   "source": [
    "class_distr = np.bincount(y_train_150.astype('int'))\n",
    "acc_diff_vs_constant = {}\n",
    "for user_id in np.unique(y_train_150):\n",
    "    acc_diff_vs_constant[user_id] =logit_cv_150users.scores_[user_id].mean()\\\n",
    "                            - (y_train_150.shape[0] - class_distr[user_id])/y_train_150.shape[0]\n",
    "    "
   ]
  },
  {
   "cell_type": "code",
   "execution_count": 227,
   "metadata": {},
   "outputs": [
    {
     "data": {
      "text/plain": [
       "{6: 0.011677249173730253,\n",
       " 13: 0.000604714689353858,\n",
       " 15: 0.0008549414573623126,\n",
       " 16: 0.007131462888242401,\n",
       " 28: 0.0024084326420819036,\n",
       " 31: -5.2130576668418804e-05,\n",
       " 33: 0.0012198554940414663,\n",
       " 39: 0.001991388028734553,\n",
       " 46: 0.0009174981493643708,\n",
       " 49: 0.0013658211087130834,\n",
       " 50: 0.00017724396067275716,\n",
       " 53: 0.0016681784533899569,\n",
       " 65: 2.0852230667389726e-05,\n",
       " 66: -5.213057666852983e-05,\n",
       " 82: 2.0852230667389726e-05,\n",
       " 85: 0.00017724396067264614,\n",
       " 89: 0.0008028108806940049,\n",
       " 92: 0.0002710789986758444,\n",
       " 100: -0.0002502267680085657,\n",
       " 102: 0.0007194019580243349,\n",
       " 103: 0.003544879213453811,\n",
       " 105: 0.0008862198033635638,\n",
       " 106: 0.007631916424259533,\n",
       " 118: 0.0009279242646983432,\n",
       " 119: 0.0006464191506886374,\n",
       " 120: 0.0006255669200211367,\n",
       " 126: 0.001011333187367791,\n",
       " 127: 0.00409746332613925,\n",
       " 128: 0.005098370398173291,\n",
       " 138: -5.2130576668418804e-05,\n",
       " 158: 0.00028150511400959477,\n",
       " 160: 0.00028150511400959477,\n",
       " 165: 0.00028150511400959477,\n",
       " 172: 0.00022937453734106494,\n",
       " 177: 0.0002710789986759554,\n",
       " 203: 0.0013866733393805841,\n",
       " 207: 0.0014179516853815022,\n",
       " 223: 8.34089226695589e-05,\n",
       " 233: 8.34089226695589e-05,\n",
       " 235: -8.34089226695589e-05,\n",
       " 236: 0.0012511338400426064,\n",
       " 237: 0.0014075255700477518,\n",
       " 238: -2.0852230667389726e-05,\n",
       " 240: -3.12783460011401e-05,\n",
       " 241: -0.0001355394993378667,\n",
       " 242: 0.0005004535360170204,\n",
       " 245: 0.00023980065267481532,\n",
       " 246: -9.383503800319826e-05,\n",
       " 249: -9.383503800330928e-05,\n",
       " 252: 0.00019809619134003587,\n",
       " 254: 0.0020956491820712797,\n",
       " 256: 0.0005525841126855502,\n",
       " 258: 0.00017724396067275716,\n",
       " 259: -0.0002710789986758444,\n",
       " 260: 0.00031278346001062385,\n",
       " 261: 0.0006672713813560271,\n",
       " 263: 0.0011990032633740766,\n",
       " 264: 0.00039619238268018275,\n",
       " 269: 0.0014283778007152526,\n",
       " 270: 0.004285133402145758,\n",
       " 273: 0.0006568452660223878,\n",
       " 287: 0.001928831336732162,\n",
       " 294: -0.00020852230667389726,\n",
       " 298: 0.0014909344927173107,\n",
       " 301: 0.0017411612607258764,\n",
       " 308: 0.0007298280733580853,\n",
       " 315: 0.0004378968440148512,\n",
       " 318: 0.0005525841126853281,\n",
       " 327: 1.0426115333639352e-05,\n",
       " 332: -1.0426115333750374e-05,\n",
       " 333: 0.0012928383013771638,\n",
       " 339: 0.0011990032633741876,\n",
       " 340: 0.00019809619133992484,\n",
       " 342: 0.00034406180601176395,\n",
       " 344: -0.00012511338400422733,\n",
       " 351: 0.0014179516853815022,\n",
       " 356: 0.0003857662673464324,\n",
       " 361: -5.2130576668418804e-05,\n",
       " 363: 0.0011885771480403262,\n",
       " 411: 0.0020018141440679704,\n",
       " 417: 9.383503800308723e-05,\n",
       " 425: 5.213057666830778e-05,\n",
       " 430: 0.0010217593027015415,\n",
       " 435: -0.00011468726867058798,\n",
       " 436: 0.00015639173000536744,\n",
       " 440: -5.2130576668418804e-05,\n",
       " 444: 0.0007923847653603655,\n",
       " 475: 0.0012928383013772748,\n",
       " 476: 0.0008549414573624237,\n",
       " 486: 0.0001668178453390068,\n",
       " 515: 0.00022937453734106494,\n",
       " 533: 0.0011572988020394082,\n",
       " 561: 0.003513600867452671,\n",
       " 563: 0.0005213057666844101,\n",
       " 564: 0.0005525841126854392,\n",
       " 568: -8.340892266944788e-05,\n",
       " 569: 0.004264281171478257,\n",
       " 570: 0.0025856766027545497,\n",
       " 573: -0.0001876700760062855,\n",
       " 575: 0.0014596561467161706,\n",
       " 576: -0.0002189484220074256,\n",
       " 580: 0.00622439085421167,\n",
       " 583: 0.014773805427835573,\n",
       " 584: 0.002742068332759917,\n",
       " 600: 0.0008966459186972031,\n",
       " 603: 0.0006464191506886374,\n",
       " 605: 0.0024605632187502113,\n",
       " 640: 0.00021894842200753661,\n",
       " 647: 0.0016264739920553994,\n",
       " 653: 0.00014596561467161706,\n",
       " 664: 0.0006359930353549981,\n",
       " 665: 0.00023980065267481532,\n",
       " 677: 0.0007298280733580853,\n",
       " 692: 6.255669200205816e-05,\n",
       " 697: 0.0007402541886917247,\n",
       " 705: 0.0002502267680085657,\n",
       " 722: 0.0010843159947033776,\n",
       " 740: 0.0008340892266950339,\n",
       " 741: 7.298280733591955e-05,\n",
       " 756: 0.0002710789986758444,\n",
       " 780: 0.0007819586500266151,\n",
       " 784: 0.001699456799391097,\n",
       " 785: -8.34089226695589e-05,\n",
       " 797: 0.0005421579973516888,\n",
       " 812: 0.005411153858184026,\n",
       " 844: 6.255669200205816e-05,\n",
       " 859: 0.0012198554940414663,\n",
       " 868: -0.00022937453734106494,\n",
       " 875: 0.0055779717035230325,\n",
       " 932: 0.002398006526748153,\n",
       " 996: 0.0028359033707631154,\n",
       " 1014: 0.0013449688780456936,\n",
       " 1040: 0.0018662746447301037,\n",
       " 1054: 0.00012511338400433836,\n",
       " 1248: 0.00040661849801393313,\n",
       " 1267: 0.0003336356906780136,\n",
       " 1299: 9.383503800308723e-05,\n",
       " 1371: 0.004681325784825829,\n",
       " 1797: 0.0031486868307737392,\n",
       " 1798: 0.0012302816093752167,\n",
       " 1993: 0.0008757936880298134,\n",
       " 2118: 0.0015117867233847004,\n",
       " 2174: 0.0005108796513507707,\n",
       " 2191: 0.0004170446133475725,\n",
       " 2250: -9.383503800319826e-05,\n",
       " 2355: 0.008424301189619787,\n",
       " 2408: 0.001324116647378415,\n",
       " 2493: 0.00029193122934334514,\n",
       " 2625: 0.0006776974966896665,\n",
       " 2902: 0.00207479695140389}"
      ]
     },
     "execution_count": 227,
     "metadata": {},
     "output_type": "execute_result"
    }
   ],
   "source": [
    "acc_diff_vs_constant"
   ]
  },
  {
   "cell_type": "code",
   "execution_count": 235,
   "metadata": {},
   "outputs": [],
   "source": [
    "num_better_than_default=122"
   ]
  },
  {
   "cell_type": "code",
   "execution_count": 236,
   "metadata": {},
   "outputs": [
    {
     "data": {
      "text/plain": [
       "0.8133333333333334"
      ]
     },
     "execution_count": 236,
     "metadata": {},
     "output_type": "execute_result"
    }
   ],
   "source": [
    "#num_better_than_default = (np.array(list(acc_diff_vs_constant.values())) > 0).sum()\n",
    "num_better_than_default/np.unique(y_train_150).shape[0]"
   ]
  },
  {
   "cell_type": "markdown",
   "metadata": {},
   "source": [
    "**<font color='red'>Вопрос 7. </font> Посчитайте долю пользователей, для которых логистическая регрессия на кросс-валидации дает прогноз лучше константного. Округлите до 3 знаков после запятой.**"
   ]
  },
  {
   "cell_type": "markdown",
   "metadata": {
    "collapsed": true
   },
   "source": [
    "\n",
    "0.8133333333333334"
   ]
  },
  {
   "cell_type": "markdown",
   "metadata": {},
   "source": [
    "**Дальше будем строить кривые обучения для конкретного пользователя, допустим, для 128-го. Составьте новый бинарный вектор на основе *y_150users*, его значения будут 1 или 0 в зависимости от того, равен ли ID-шник пользователя 128.**"
   ]
  },
  {
   "cell_type": "code",
   "execution_count": 238,
   "metadata": {},
   "outputs": [
    {
     "data": {
      "text/plain": [
       "2796"
      ]
     },
     "execution_count": 238,
     "metadata": {},
     "output_type": "execute_result"
    }
   ],
   "source": [
    "sum(y_150users == 128)"
   ]
  },
  {
   "cell_type": "code",
   "execution_count": 239,
   "metadata": {},
   "outputs": [
    {
     "data": {
      "text/plain": [
       "137019"
      ]
     },
     "execution_count": 239,
     "metadata": {},
     "output_type": "execute_result"
    }
   ],
   "source": [
    "len(y_150users)"
   ]
  },
  {
   "cell_type": "code",
   "execution_count": 245,
   "metadata": {},
   "outputs": [
    {
     "data": {
      "text/plain": [
       "2796"
      ]
     },
     "execution_count": 245,
     "metadata": {},
     "output_type": "execute_result"
    }
   ],
   "source": [
    "sum(y_binary_128)"
   ]
  },
  {
   "cell_type": "code",
   "execution_count": 253,
   "metadata": {},
   "outputs": [
    {
     "data": {
      "text/plain": [
       "0.9795940708952773"
      ]
     },
     "execution_count": 253,
     "metadata": {},
     "output_type": "execute_result"
    }
   ],
   "source": [
    "\n",
    "(137019-2796)/137019"
   ]
  },
  {
   "cell_type": "code",
   "execution_count": 246,
   "metadata": {},
   "outputs": [],
   "source": [
    "y_binary_128 = [int(i) for i in y_150users == 128] "
   ]
  },
  {
   "cell_type": "code",
   "execution_count": 247,
   "metadata": {},
   "outputs": [],
   "source": [
    "from sklearn.model_selection import learning_curve\n",
    "\n",
    "def plot_learning_curve(val_train, val_test, train_sizes, \n",
    "                        xlabel='Training Set Size', ylabel='score'):\n",
    "    def plot_with_err(x, data, **kwargs):\n",
    "        mu, std = data.mean(1), data.std(1)\n",
    "        lines = plt.plot(x, mu, '-', **kwargs)\n",
    "        plt.fill_between(x, mu - std, mu + std, edgecolor='none',\n",
    "                         facecolor=lines[0].get_color(), alpha=0.2)\n",
    "    plot_with_err(train_sizes, val_train, label='train')\n",
    "    plot_with_err(train_sizes, val_test, label='valid')\n",
    "    plt.xlabel(xlabel); plt.ylabel(ylabel)\n",
    "    plt.legend(loc='lower right');"
   ]
  },
  {
   "cell_type": "markdown",
   "metadata": {},
   "source": [
    "**Посчитайте доли правильных ответов на кросс-валидации в задаче классификации \"user128-vs-All\" в зависимости от размера выборки. Не помешает посмотреть встроенную документацию для *learning_curve*.**"
   ]
  },
  {
   "cell_type": "code",
   "execution_count": 283,
   "metadata": {},
   "outputs": [
    {
     "name": "stdout",
     "output_type": "stream",
     "text": [
      "Wall time: 1min 52s\n"
     ]
    }
   ],
   "source": [
    "%%time\n",
    "train_sizes = np.linspace(0.25, 1, 20)\n",
    "estimator = svm_grid_searcher2.best_estimator_\n",
    "n_train, val_train, val_test = learning_curve(estimator,X_sparse_150users,y_binary_128,train_sizes=train_sizes,\\\n",
    "                                             random_state=17,cv=5)"
   ]
  },
  {
   "cell_type": "code",
   "execution_count": 271,
   "metadata": {},
   "outputs": [
    {
     "data": {
      "text/plain": [
       "80528"
      ]
     },
     "execution_count": 271,
     "metadata": {},
     "output_type": "execute_result"
    }
   ],
   "source": [
    "n_train[np.argmax(np.array([val_test[i].mean() for i in range(val_test.shape[0])]))]"
   ]
  },
  {
   "cell_type": "code",
   "execution_count": 284,
   "metadata": {},
   "outputs": [
    {
     "data": {
      "image/png": "[encoded data removed]",
      "text/plain": [
       "<Figure size 432x288 with 1 Axes>"
      ]
     },
     "metadata": {
      "needs_background": "light"
     },
     "output_type": "display_data"
    }
   ],
   "source": [
    "plot_learning_curve(val_train, val_test, n_train, \n",
    "                    xlabel='train_size', ylabel='accuracy')"
   ]
  },
  {
   "cell_type": "markdown",
   "metadata": {},
   "source": [
    "**Сделайте выводы о том, помогут ли алгоритму новые размеченные данные при той же постановке задачи.**"
   ]
  },
  {
   "cell_type": "markdown",
   "metadata": {},
   "source": [
    " Кривая точности на тесте вышла на планку, новые данные не помогут."
   ]
  },
  {
   "cell_type": "code",
   "execution_count": 396,
   "metadata": {},
   "outputs": [],
   "source": [
    "from scipy.sparse import csr_matrix\n",
    "from tqdm import tqdm_notebook\n",
    "import re\n",
    "from glob import glob\n",
    "\n",
    "def prepare_sparse_train_set_time(path_to_csv_files, \n",
    "                                    session_time=5):\n",
    "    ''' ВАШ КОД ЗДЕСЬ'''\n",
    "    \n",
    "    #Загрузка файлов пользователей\n",
    "    files_paths = list(glob(os.path.join(path_to_csv_files,'user*.csv')))\n",
    "    files = []\n",
    "    user_IDs = []\n",
    "    for path in tqdm_notebook(files_paths):\n",
    "        f_name = os.path.split(path)[1]\n",
    "        ID = int(re.findall(\"[0-9]+\",f_name)[0])\n",
    "        user_IDs.append(ID)\n",
    "        files.append(pd.read_csv(path))\n",
    "    user_IDs = np.array(user_IDs)\n",
    "            \n",
    "    #Получение словаря сайтов с ID и частотами\n",
    "   \n",
    "    sites_dictionary = {}\n",
    "    \n",
    "    for user in tqdm_notebook(files):\n",
    "        for site in user.site.values:\n",
    "            if site in sites_dictionary:\n",
    "               \n",
    "                sites_dictionary[site] += 1                \n",
    "                \n",
    "            else:\n",
    "                sites_dictionary[site] = 1\n",
    "              \n",
    "    d =  sorted(sites_dictionary.items(), key=lambda item: item[1],reverse = True)    \n",
    "    sites_dict_sorted = {}\n",
    "    \n",
    "    for ii,pair in enumerate(d):\n",
    "        \n",
    "        sites_dict_sorted[pair[0]] = [ii+1,pair[1]]  #заполнение словаря ID и частотами из отсортированного d\n",
    "    \n",
    "    \n",
    "    \n",
    "            \n",
    "    # Заполнение таблицы пользовательских сессий ID просмотренных пользователем сайтов при заданной длительности сессии\n",
    "    Session_list = [] \n",
    "    for ind,user in enumerate(tqdm_notebook(files)):\n",
    "        session = []#инициализация сессии\n",
    "        session.append(user_IDs[ind])#нулевой столбец для ID пользователей\n",
    "        \n",
    "        sites = user.site.values#стоблец сайтов пользователя\n",
    "        \n",
    "        \n",
    "        \n",
    "        user.timestamps = pd.to_datetime(user.timestamp)#Столбец даты и времени начала просмотра сайта\n",
    "        \n",
    "        seconds = user.timestamps.apply(lambda x:x.timestamp()).values\n",
    "        \n",
    "        \n",
    "       \n",
    "        ufile_length = sites.shape[0] #длина файла пользователя\n",
    "        site_position = 0 #позиция в сессии\n",
    "        pos_in_ufile = 0 #позиция в файле\n",
    "        \n",
    "        duration_time_session = 0\n",
    "        duration_site_on_last_session = 0\n",
    "        while pos_in_ufile < ufile_length:\n",
    "            if pos_in_ufile > 0:\n",
    "                #Время на сайте в текущей сессии\n",
    "                duration_time_site =(seconds[pos_in_ufile] - seconds[pos_in_ufile-1])/60. - duration_site_on_last_session \n",
    "                duration_site_on_last_session  = 0 #новая сессии, величина пока не нужна\n",
    "                \n",
    "                duration_time_session += duration_time_site #увеличиваем время сессии\n",
    "                \n",
    "                #print(f'{sites[pos_in_ufile-1]} ID {sites_dict_sorted[sites[pos_in_ufile-1]][0]}')\n",
    "                #print(f'site: {duration_time_site} session: {duration_time_session}')\n",
    "            \n",
    "            if duration_time_session  > session_time:  #время сессии превышено            \n",
    "                Session_list.append(session) #Сессия закончена и помещена в список\n",
    "                #print('new')\n",
    "                session = [] #инициализация новой сессии\n",
    "                session.append(user_IDs[ind]) #нулевой столбец для ID пользователей\n",
    "                site_to_start = sites[pos_in_ufile-1]#последний сайт прошлой переходит на новую сессию\n",
    "                duration_time_site_over_edge = duration_time_session - session_time#время выхода за пределы\n",
    "                duration_site_on_last_session  = (seconds[pos_in_ufile] - seconds[pos_in_ufile-1])/60.\\\n",
    "                                                    - duration_time_site_over_edge #время, проведенное на прошлой сессии\n",
    "                \n",
    "                duration_time_session = 0\n",
    "                session.append(sites_dict_sorted[site_to_start][0])\n",
    "                \n",
    "            elif duration_time_session == session_time:\n",
    "                Session_list.append(session)\n",
    "                #print('new')\n",
    "                session = [] #инициализация новой сессии\n",
    "                session.append(user_IDs[ind]) #нулевой столбец для ID пользователей\n",
    "                site_to_start = sites[pos_in_ufile]\n",
    "                duration_time_session = 0\n",
    "                session.append(sites_dict_sorted[site_to_start][0])\n",
    "                pos_in_ufile += 1                \n",
    "            else:\n",
    "                site_to_add =  sites[pos_in_ufile] #сайт для добавления в сессию\n",
    "                session.append(sites_dict_sorted[site_to_add][0])#добавление\n",
    "                pos_in_ufile += 1 #переходим на следующую позицию и на след шаге будет проверять время на сайте\n",
    "            \n",
    "        if len(session) > 0: #обрабатываем последнюю сессию для данного пользователя\n",
    "                                   \n",
    "            #print('last site for user:')\n",
    "            #print(f'{sites[pos_in_ufile-1]} ID {sites_dict_sorted[sites[pos_in_ufile-1]][0]}')            \n",
    "            \n",
    "                \n",
    "            Session_list.append(session) #Добавляем последнюю сессию в список  \n",
    "                \n",
    "            \n",
    "        \n",
    "        \n",
    "        \n",
    "        \n",
    "        \"\"\"\n",
    "        duration_time_session = 0\n",
    "        for ind2,site in enumerate(sites):\n",
    "            if ind2>0:\n",
    "                duration_time_site =(seconds[ind2] - seconds[ind2-1])/60.\n",
    "                durarion_time_session += duration_time_site\n",
    "                print(f'{sites[ind2-1]} ID {sites_dict_sorted[sites[ind2-1]][0]} site: {duration_time_site} session: {durarion_time_session}')\n",
    "            if durarion_time_session  >= session_time:\n",
    "                print('new')\n",
    "                durarion_time_session = 0\n",
    "                Session_list.append(session)\n",
    "                session = [] #инициализация новой сессии\n",
    "                session.append(user_IDs[ind1]) #нулевой столбец для ID пользователей\n",
    "            \n",
    "            session.append(sites_dict_sorted[site][0])  #Добавляем сайт в сессию  \n",
    "        \n",
    "            if (ind2+1) == len(sites):\n",
    "                duration_time_site =(seconds[ind2] - seconds[ind2-1])/60.\n",
    "                durarion_time_session += duration_time_site\n",
    "                print(f'{sites[ind2]} ID {sites_dict_sorted[sites[ind2]][0]} site: {duration_time_site} session: {durarion_time_session}')\n",
    "                \n",
    "                Session_list.append(session) #Добавляем сайт в сессию \n",
    "                \n",
    "        \"\"\"    \n",
    "            \n",
    "    \n",
    "    \n",
    "    \n",
    "    \"\"\"\n",
    "    # Заполнение таблицы пользовательских сессий ID просмотренных пользователем сайтов\n",
    "    Session_list = []  \n",
    "        \n",
    "    for ind,user in enumerate(tqdm_notebook(files)): \n",
    "        session = np.zeros(session_length+1)\n",
    "        session[session_length] = user_IDs[ind] #заполнение стобца ID пользователей\n",
    "        \n",
    "        sites = user.site.values\n",
    "        ufile_length = sites.shape[0]\n",
    "        site_position = 0 #позиция в сессии\n",
    "        pos_in_ufile = 0 #позиция в файле\n",
    "        while pos_in_ufile < ufile_length:            \n",
    "            session[site_position]=sites_dict_sorted[sites[pos_in_ufile]][0]#получение ID сайта из словаря по названию\n",
    "            pos_in_ufile += 1\n",
    "            site_position += 1\n",
    "            \n",
    "            if site_position == session_length:\n",
    "                Session_list.append(session)                  \n",
    "                session = np.zeros(session_length+1)\n",
    "                session[session_length] = user_IDs[ind]\n",
    "                site_position = 0\n",
    "                pos_in_ufile -= session_length - window_size\n",
    "           \n",
    "            if (pos_in_ufile == ufile_length) & (site_position != 0):\n",
    "                Session_list.append(session)\n",
    "                if site_position > window_size:\n",
    "                    session = np.zeros(session_length+1)\n",
    "                    session[session_length] = user_IDs[ind]               \n",
    "                    pos_in_ufile -= site_position - window_size\n",
    "                    site_position = 0  \n",
    "    \n",
    "    \"\"\"\n",
    "    \n",
    "    Sessions = pd.DataFrame(Session_list).fillna(0).values\n",
    "    #print(Session_list)\n",
    "  \n",
    "    \n",
    "    #Отделений ID пользователей от таблицы\n",
    "    X, y = Sessions[:,1:],Sessions[:,0]\n",
    "    \n",
    "    #Получение разреженной матрицы частот встречаемости сайтов в каждой сессии      \n",
    "    indptr = [0]\n",
    "    indices = []\n",
    "    data = []\n",
    "    vocabulary = {}\n",
    "    for s in tqdm_notebook(X):\n",
    "        for ID in s:\n",
    "            index = vocabulary.setdefault(ID, ID)\n",
    "            indices.append(index)\n",
    "            data.append(1)\n",
    "        indptr.append(len(indices))\n",
    "\n",
    "    X_sparse = csr_matrix((data, indices, indptr), dtype=int)[:,1:] \n",
    "    \n",
    "    \n",
    "    return X_sparse, y, Sessions"
   ]
  },
  {
   "cell_type": "code",
   "execution_count": 319,
   "metadata": {},
   "outputs": [],
   "source": [
    "PATH_TO_DATA3 = 'capstone_user_identification'"
   ]
  },
  {
   "cell_type": "code",
   "execution_count": 397,
   "metadata": {
    "scrolled": false
   },
   "outputs": [
    {
     "data": {
      "application/vnd.jupyter.widget-view+json": {
       "model_id": "2856b1fc87bd4184ba2834ee770e348d",
       "version_major": 2,
       "version_minor": 0
      },
      "text/plain": [
       "HBox(children=(IntProgress(value=0, max=3), HTML(value='')))"
      ]
     },
     "metadata": {},
     "output_type": "display_data"
    },
    {
     "data": {
      "application/vnd.jupyter.widget-view+json": {
       "model_id": "9839ace5cfec4986969a6d69545d2f46",
       "version_major": 2,
       "version_minor": 0
      },
      "text/plain": [
       "HBox(children=(IntProgress(value=0, max=3), HTML(value='')))"
      ]
     },
     "metadata": {},
     "output_type": "display_data"
    },
    {
     "data": {
      "application/vnd.jupyter.widget-view+json": {
       "model_id": "3983c28c002b4d91b08ebeebcf27e782",
       "version_major": 2,
       "version_minor": 0
      },
      "text/plain": [
       "HBox(children=(IntProgress(value=0, max=3), HTML(value='')))"
      ]
     },
     "metadata": {},
     "output_type": "display_data"
    },
    {
     "data": {
      "application/vnd.jupyter.widget-view+json": {
       "model_id": "cf42e668ec184a7c95ce7a11cc3b157d",
       "version_major": 2,
       "version_minor": 0
      },
      "text/plain": [
       "HBox(children=(IntProgress(value=0, max=36), HTML(value='')))"
      ]
     },
     "metadata": {},
     "output_type": "display_data"
    },
    {
     "data": {
      "text/plain": [
       "(36, 9)"
      ]
     },
     "execution_count": 397,
     "metadata": {},
     "output_type": "execute_result"
    }
   ],
   "source": [
    "X_toy_s5_w3, y_s5_w3,sessions = prepare_sparse_train_set_time(os.path.join(PATH_TO_DATA3,'3users'), session_time=15)                                                 \n",
    "sessions.shape                       "
   ]
  },
  {
   "cell_type": "code",
   "execution_count": 409,
   "metadata": {},
   "outputs": [
    {
     "data": {
      "application/vnd.jupyter.widget-view+json": {
       "model_id": "a34a587cfc9e4a86872434d8ed0dad75",
       "version_major": 2,
       "version_minor": 0
      },
      "text/plain": [
       "HBox(children=(IntProgress(value=0, max=10), HTML(value='')))"
      ]
     },
     "metadata": {},
     "output_type": "display_data"
    },
    {
     "data": {
      "application/vnd.jupyter.widget-view+json": {
       "model_id": "a4aee80a9a424ba282f432903b97c116",
       "version_major": 2,
       "version_minor": 0
      },
      "text/plain": [
       "HBox(children=(IntProgress(value=0, max=10), HTML(value='')))"
      ]
     },
     "metadata": {},
     "output_type": "display_data"
    },
    {
     "data": {
      "application/vnd.jupyter.widget-view+json": {
       "model_id": "3bfd83f1c2854156a102df24c4b23f54",
       "version_major": 2,
       "version_minor": 0
      },
      "text/plain": [
       "HBox(children=(IntProgress(value=0, max=10), HTML(value='')))"
      ]
     },
     "metadata": {},
     "output_type": "display_data"
    },
    {
     "data": {
      "application/vnd.jupyter.widget-view+json": {
       "model_id": "0860d4d1458043d2b5e9084ab0727a57",
       "version_major": 2,
       "version_minor": 0
      },
      "text/plain": [
       "HBox(children=(IntProgress(value=0, max=215867), HTML(value='')))"
      ]
     },
     "metadata": {},
     "output_type": "display_data"
    },
    {
     "name": "stdout",
     "output_type": "stream",
     "text": [
      "Wall time: 7min 11s\n"
     ]
    },
    {
     "data": {
      "text/plain": [
       "(215867, 915)"
      ]
     },
     "execution_count": 409,
     "metadata": {},
     "output_type": "execute_result"
    }
   ],
   "source": [
    "%%time\n",
    "X_sparse10_time, y_10_time,sessions10_time = prepare_sparse_train_set_time(os.path.join(PATH_TO_DATA3,'10users'), session_time=10)                                                 \n",
    "sessions10_time.shape "
   ]
  },
  {
   "cell_type": "code",
   "execution_count": 410,
   "metadata": {},
   "outputs": [],
   "source": [
    "X_train_t, X_valid_t, y_train_t, y_valid_t = train_test_split(X_sparse10_time, y_10_time, \n",
    "                                                      test_size=0.3, \n",
    "                                                     random_state=17, stratify=y_10_time)"
   ]
  },
  {
   "cell_type": "code",
   "execution_count": 411,
   "metadata": {},
   "outputs": [
    {
     "name": "stdout",
     "output_type": "stream",
     "text": [
      "Wall time: 6min 1s\n"
     ]
    },
    {
     "data": {
      "text/plain": [
       "0.6035731381541359"
      ]
     },
     "execution_count": 411,
     "metadata": {},
     "output_type": "execute_result"
    }
   ],
   "source": [
    "%%time\n",
    "svm_grid_searcher2.best_estimator_.fit(X_train_t,y_train_t)\n",
    "y_pred_svm2_t = svm_grid_searcher2.best_estimator_.predict(X_valid_t)\n",
    "accuracy_score(y_valid_t,y_pred_svm2_t)"
   ]
  },
  {
   "cell_type": "code",
   "execution_count": 412,
   "metadata": {},
   "outputs": [
    {
     "data": {
      "text/plain": [
       "0.5918840042618242"
      ]
     },
     "execution_count": 412,
     "metadata": {},
     "output_type": "execute_result"
    }
   ],
   "source": [
    "knn = KNeighborsClassifier(n_neighbors=100,n_jobs=-1)\n",
    "knn.fit(X_train_t,y_train_t)\n",
    "y_pred_knn_t = knn.predict(X_valid_t)\n",
    "accuracy_score(y_valid_t,y_pred_knn_t)"
   ]
  },
  {
   "cell_type": "markdown",
   "metadata": {},
   "source": [
    "Вывод: использование сессий по времени не улучшает результат"
   ]
  },
  {
   "cell_type": "markdown",
   "metadata": {},
   "source": [
    "## Пути улучшения\n",
    "- конечно, можно проверить еще кучу алгоритмов, например, Xgboost, но в такой задаче очень маловероятно, что что-то справится лучше линейных методов\n",
    "- интересно проверить качество алгоритма на данных, где сессии выделялись не по количеству посещенных сайтов, а по времени, например, 5, 7, 10 и 15 минут. Отдельно стоит отметить данные нашего [соревнования](https://inclass.kaggle.com/c/catch-me-if-you-can-intruder-detection-through-webpage-session-tracking2) \n",
    "- опять же, если ресурсы позволяют, можно проверить, насколько хорошо можно решить задачу для 3000 пользователей\n",
    "\n",
    "\n",
    "На следующей неделе мы вспомним про линейные модели, обучаемые стохастическим градиентным спуском, и порадуемся тому, насколько быстрее они работают. Также сделаем первые (или не первые) посылки в [соревновании](https://inclass.kaggle.com/c/catch-me-if-you-can-intruder-detection-through-webpage-session-tracking2) Kaggle Inclass."
   ]
  },
  {
   "cell_type": "code",
   "execution_count": null,
   "metadata": {},
   "outputs": [],
   "source": []
  }
 ],
 "metadata": {
  "anaconda-cloud": {},
  "kernelspec": {
   "display_name": "Python 3",
   "language": "python",
   "name": "python3"
  },
  "language_info": {
   "codemirror_mode": {
    "name": "ipython",
    "version": 3
   },
   "file_extension": ".py",
   "mimetype": "text/x-python",
   "name": "python",
   "nbconvert_exporter": "python",
   "pygments_lexer": "ipython3",
   "version": "3.7.3"
  }
 },
 "nbformat": 4,
 "nbformat_minor": 1
}
