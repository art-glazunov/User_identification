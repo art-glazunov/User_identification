{
 "cells": [
  {
   "cell_type": "markdown",
   "metadata": {},
   "source": [
    "<center>\n",
    "<img src=\"https://habrastorage.org/web/677/8e1/337/6778e1337c3d4b159d7e99df94227cb2.jpg\"/>\n",
    "## Специализация \"Машинное обучение и анализ данных\"\n",
    "<center>Автор материала: программист-исследователь Mail.Ru Group, старший преподаватель Факультета Компьютерных Наук ВШЭ [Юрий Кашницкий](https://yorko.github.io/)"
   ]
  },
  {
   "cell_type": "markdown",
   "metadata": {},
   "source": [
    "# <center> Capstone проект №1 <br>Идентификация пользователей по посещенным веб-страницам\n",
    "<img src='http://i.istockimg.com/file_thumbview_approve/21546327/5/stock-illustration-21546327-identification-de-l-utilisateur.jpg'>\n",
    "\n",
    "# <center>Неделя 2. Подготовка и первичный анализ данных\n",
    "\n",
    "На второй неделе мы продолжим подготавливать данные для дальнейшего анализа и построения прогнозных моделей. Конкретно, раньше мы определили что сессия – это последовательность из 10 посещенных пользователем сайтов, теперь сделаем длину сессии параметром, и потом при обучении прогнозных моделей выберем лучшую длину сессии.\n",
    "Также мы познакомимся с предобработанными данными и статистически проверим первые гипотезы, связанные с нашими наблюдениями. \n",
    "\n",
    "**План 2 недели:**\n",
    " - Часть 1. Подготовка нескольких обучающих выборок для сравнения\n",
    " - Часть 2. Первичный анализ данных, проверка гипотез\n",
    "\n",
    "**В этой части проекта Вам могут быть полезны  следующие видеозаписи лекций курса \"Построение выводов по данным\":**\n",
    "\n",
    "   - [Доверительные интервалы для доли](https://www.coursera.org/learn/stats-for-data-analysis/lecture/3oi53/dovieritiel-nyie-intiervaly-dlia-doli)\n",
    "   - [Биномиальный критерий для доли](https://www.coursera.org/learn/stats-for-data-analysis/lecture/JwmBw/binomial-nyi-kritierii-dlia-doli)\n",
    "   - [Доверительные интервалы на основе бутстрепа](https://www.coursera.org/learn/stats-for-data-analysis/lecture/GZjW7/dovieritiel-nyie-intiervaly-na-osnovie-butstriepa)\n",
    "   \n",
    "**Кроме того, в задании будут использоваться библиотеки Python [glob](https://docs.python.org/3/library/glob.html), [pickle](https://docs.python.org/2/library/pickle.html), [itertools](https://docs.python.org/3/library/itertools.html) и класс [csr_matrix](https://docs.scipy.org/doc/scipy-0.14.0/reference/generated/scipy.sparse.csr_matrix.html) из scipy.sparse.**"
   ]
  },
  {
   "cell_type": "markdown",
   "metadata": {},
   "source": [
    "### Задание\n",
    "1. Заполните код в этой тетрадке \n",
    "2. Если вы проходите специализацию Яндеса и МФТИ, пошлите файл с ответами в соответствующем Programming Assignment. <br> Если вы проходите курс ODS, выберите ответы в [веб-форме](https://docs.google.com/forms/d/13ZnT7w7foHD0uw0ynTtj7atdiCGvlltF8ThhbJCvLsc).  \n"
   ]
  },
  {
   "cell_type": "markdown",
   "metadata": {},
   "source": [
    "## Часть 1. Подготовка нескольких обучающих выборок для сравнения\n",
    "\n",
    "Пока мы брали последовательности из 10 сайтов, и это было наобум. Давайте сделаем число сайтов в сессии параметром, чтоб в дальнейшем сравнить модели классификации, обученные на разных выборках – с 5, 7, 10 и 15 сайтами в сессии. Более того, пока мы брали по 10 сайтов подряд, без пересечения. Теперь давайте применим идею скользящего окна – сессии будут перекрываться. \n",
    "\n",
    "**Пример**: для длины сессии 10 и ширины окна 7 файл из 30 записей породит не 3 сессии, как раньше (1-10, 11-20, 21-30), а 5 (1-10, 8-17, 15-24, 22-30, 29-30). При этом в предпоследней сессии будет один ноль, а в последней – 8 нолей.\n",
    "\n",
    "Создадим несколько выборок для разных сочетаний параметров длины сессии и ширины окна. Все они представлены в табличке ниже:\n",
    "\n",
    "<style type=\"text/css\">\n",
    ".tg  {border-collapse:collapse;border-spacing:0;}\n",
    ".tg td{font-family:Arial, sans-serif;font-size:14px;padding:10px 5px;border-style:solid;border-width:1px;overflow:hidden;word-break:normal;}\n",
    ".tg th{font-family:Arial, sans-serif;font-size:14px;font-weight:normal;padding:10px 5px;border-style:solid;border-width:1px;overflow:hidden;word-break:normal;}\n",
    "</style>\n",
    "<table class=\"tg\">\n",
    "  <tr>\n",
    "    <th class=\"tg-031e\">session_length -&gt;<br>window_size <br></th>\n",
    "    <th class=\"tg-031e\">5</th>\n",
    "    <th class=\"tg-031e\">7</th>\n",
    "    <th class=\"tg-031e\">10</th>\n",
    "    <th class=\"tg-031e\">15</th>\n",
    "  </tr>\n",
    "  <tr>\n",
    "    <td class=\"tg-031e\">5</td>\n",
    "    <td class=\"tg-031e\">v</td>\n",
    "    <td class=\"tg-031e\">v</td>\n",
    "    <td class=\"tg-031e\">v</td>\n",
    "    <td class=\"tg-031e\">v</td>\n",
    "  </tr>\n",
    "  <tr>\n",
    "    <td class=\"tg-031e\">7</td>\n",
    "    <td class=\"tg-031e\"></td>\n",
    "    <td class=\"tg-031e\">v</td>\n",
    "    <td class=\"tg-031e\">v</td>\n",
    "    <td class=\"tg-031e\">v</td>\n",
    "  </tr>\n",
    "  <tr>\n",
    "    <td class=\"tg-031e\">10</td>\n",
    "    <td class=\"tg-031e\"></td>\n",
    "    <td class=\"tg-031e\"></td>\n",
    "    <td class=\"tg-031e\"><font color='green'>v</font></td>\n",
    "    <td class=\"tg-031e\">v</td>\n",
    "  </tr>\n",
    "</table>\n",
    "\n",
    "Итого должно получиться 18 разреженных матриц – указанные в таблице 9 сочетаний параметров формирования сессий для выборок из 10 и 150 пользователей. При этом 2 выборки мы уже сделали в прошлой части, они соответствуют сочетанию параметров: session_length=10, window_size=10, которые помечены в таблице выше галочкой зеленого цвета (done)."
   ]
  },
  {
   "cell_type": "markdown",
   "metadata": {},
   "source": [
    "Реализуйте функцию *prepare_sparse_train_set_window*.\n",
    "\n",
    "Аргументы:\n",
    "- *path_to_csv_files* – путь к каталогу с csv-файлами\n",
    "- *site_freq_path* – путь к pickle-файлу с частотным словарем, полученным в 1 части проекта\n",
    "- *session_length* – длина сессии (параметр)\n",
    "- *window_size* – ширина окна (параметр) \n",
    "\n",
    "Функция должна возвращать 2 объекта:\n",
    "- разреженную матрицу *X_sparse* (двухмерная Scipy.sparse.csr_matrix), в которой строки соответствуют сессиям из *session_length* сайтов, а *max(site_id)* столбцов – количеству посещений *site_id* в сессии. \n",
    "- вектор *y* (Numpy array) \"ответов\" в виде ID пользователей, которым принадлежат сессии из *X_sparse*\n",
    "\n",
    "Детали:\n",
    "- Модифицируйте созданную в 1 части функцию *prepare_train_set*\n",
    "- Некоторые сессии могут повторяться – оставьте как есть, не удаляйте дубликаты\n",
    "- Замеряйте время выполнения итераций цикла с помощью *time* из *time*, *tqdm* из *tqdm* или с помощью виджета [log_progress](https://github.com/alexanderkuk/log-progress) ([статья](https://habrahabr.ru/post/276725/) о нем на Хабрахабре)\n",
    "- 150 файлов из *capstone_websites_data/150users/* должны обрабатываться за несколько секунд (в зависимости от входных параметров). Если дольше – не страшно, но знайте, что функцию можно ускорить. "
   ]
  },
  {
   "cell_type": "code",
   "execution_count": 175,
   "metadata": {},
   "outputs": [],
   "source": [
    "from __future__ import division, print_function\n",
    "# отключим всякие предупреждения Anaconda\n",
    "import warnings\n",
    "warnings.filterwarnings('ignore')\n",
    "from glob import glob\n",
    "import os\n",
    "import pickle\n",
    "from tqdm import tqdm_notebook\n",
    "import numpy as np\n",
    "import pandas as pd\n",
    "from scipy.sparse import csr_matrix\n",
    "from scipy import stats\n",
    "from statsmodels.stats.proportion import proportion_confint\n",
    "%matplotlib inline\n",
    "from matplotlib import pyplot as plt\n",
    "import re"
   ]
  },
  {
   "cell_type": "code",
   "execution_count": 7,
   "metadata": {},
   "outputs": [
    {
     "name": "stdout",
     "output_type": "stream",
     "text": [
      "0\n",
      "1\n",
      "2\n",
      "3\n",
      "4\n",
      "5\n",
      "6\n",
      "7\n",
      "8\n",
      "9\n"
     ]
    }
   ],
   "source": [
    "for i in range(10):\n",
    "    print(i)\n",
    "    "
   ]
  },
  {
   "cell_type": "code",
   "execution_count": 35,
   "metadata": {},
   "outputs": [
    {
     "data": {
      "text/plain": [
       "2"
      ]
     },
     "execution_count": 35,
     "metadata": {},
     "output_type": "execute_result"
    }
   ],
   "source": [
    "92 % 10"
   ]
  },
  {
   "cell_type": "code",
   "execution_count": 16,
   "metadata": {},
   "outputs": [],
   "source": [
    "# Поменяйте на свой путь к данным\n",
    "PATH_TO_DATA = 'capstone_user_identification'"
   ]
  },
  {
   "cell_type": "code",
   "execution_count": 1,
   "metadata": {},
   "outputs": [],
   "source": [
    "def prepare_sparse_train_set_window(path_to_csv_files, site_freq_path, \n",
    "                                    session_length=10, window_size=10):\n",
    "    ''' ВАШ КОД ЗДЕСЬ'''\n",
    "    \n",
    "    #Загрузка файлов пользователей\n",
    "    files_paths = list(glob(os.path.join(path_to_csv_files,'user*.csv')))\n",
    "    files = []\n",
    "    user_IDs = []\n",
    "    for path in tqdm_notebook(files_paths):\n",
    "        f_name = os.path.split(path)[1]\n",
    "        ID = int(re.findall(\"[0-9]+\",f_name)[0])\n",
    "        user_IDs.append(ID)\n",
    "        files.append(pd.read_csv(path))\n",
    "    user_IDs = np.array(user_IDs)\n",
    "            \n",
    "    #Получение словаря сайтов с ID и частотами\n",
    "    if (session_length==10) and (window_size==10):#если так, то подгружаем уже готовый\n",
    "        with open(site_freq_path,'rb') as f:\n",
    "            sites_dict_sorted = pickle.load(f)\n",
    "        f.close()\n",
    "    else:        #иначе создаем из файлов пользователй\n",
    "        sites_dictionary = {}\n",
    "    \n",
    "        for user in tqdm_notebook(files):\n",
    "            for site in user.site.values:\n",
    "                if site in sites_dictionary:\n",
    "               \n",
    "                    sites_dictionary[site] += 1                \n",
    "                \n",
    "                else:\n",
    "                    sites_dictionary[site] = 1\n",
    "              \n",
    "        d =  sorted(sites_dictionary.items(), key=lambda item: item[1],reverse = True)    \n",
    "        sites_dict_sorted = {}\n",
    "    \n",
    "        for ii,pair in enumerate(d):\n",
    "        \n",
    "            sites_dict_sorted[pair[0]] = [ii+1,pair[1]]  #заполнение словаря ID и частотами из отсортированного d\n",
    "            \n",
    "    \n",
    "    # Заполнение таблицы пользовательских сессий ID просмотренных пользователем сайтов\n",
    "    Session_list = []  \n",
    "        \n",
    "    for ind,user in enumerate(tqdm_notebook(files)): \n",
    "        session = np.zeros(session_length+1)\n",
    "        session[session_length] = user_IDs[ind] #заполнение стобца ID пользователей\n",
    "        \n",
    "        sites = user.site.values\n",
    "        ufile_length = sites.shape[0]\n",
    "        site_position = 0 #позиция в сессии\n",
    "        pos_in_ufile = 0 #позиция в файле\n",
    "        while pos_in_ufile < ufile_length:            \n",
    "            session[site_position]=sites_dict_sorted[sites[pos_in_ufile]][0]#получение ID сайта из словаря по названию\n",
    "            pos_in_ufile += 1\n",
    "            site_position += 1\n",
    "            \n",
    "            if site_position == session_length:\n",
    "                Session_list.append(session)                  \n",
    "                session = np.zeros(session_length+1)\n",
    "                session[session_length] = user_IDs[ind]\n",
    "                site_position = 0\n",
    "                pos_in_ufile -= session_length - window_size\n",
    "           \n",
    "            if (pos_in_ufile == ufile_length) & (site_position != 0):\n",
    "                Session_list.append(session)\n",
    "                if site_position > window_size:\n",
    "                    session = np.zeros(session_length+1)\n",
    "                    session[session_length] = user_IDs[ind]               \n",
    "                    pos_in_ufile -= site_position - window_size\n",
    "                    site_position = 0  \n",
    "\n",
    "    \n",
    "    Sessions = np.array(Session_list,dtype = int)\n",
    "    #print(Sessions)\n",
    "    \n",
    "    #10 5 5   150 7 7   150 5 5\n",
    "    \n",
    "    #Отделений ID пользователей от таблицы\n",
    "    X, y = Sessions[:,:-1],Sessions[:,-1]\n",
    "    \n",
    "    #Получение разреженной матрицы частот встречаемости сайтов в каждой сессии      \n",
    "    indptr = [0]\n",
    "    indices = []\n",
    "    data = []\n",
    "    vocabulary = {}\n",
    "    for s in tqdm_notebook(X):\n",
    "        for ID in s:\n",
    "            index = vocabulary.setdefault(ID, ID)\n",
    "            indices.append(index)\n",
    "            data.append(1)\n",
    "        indptr.append(len(indices))\n",
    "\n",
    "    X_sparse = csr_matrix((data, indices, indptr), dtype=int)[:,1:] \n",
    "    \n",
    "    \n",
    "    return X_sparse, y#,sites_dict_sorted  \n",
    "    \n",
    "    "
   ]
  },
  {
   "cell_type": "markdown",
   "metadata": {},
   "source": [
    "**Примените полученную функцию с параметрами *session_length=5* и *window_size=3* к игрушечному примеру. Убедитесь, что все работает как надо.**"
   ]
  },
  {
   "cell_type": "code",
   "execution_count": 193,
   "metadata": {},
   "outputs": [
    {
     "data": {
      "text/plain": [
       "array([1, 2, 3, 4, 5])"
      ]
     },
     "execution_count": 193,
     "metadata": {},
     "output_type": "execute_result"
    }
   ],
   "source": [
    "a=np.array([1,2,3,4,5])\n",
    "a[:10]"
   ]
  },
  {
   "cell_type": "code",
   "execution_count": 118,
   "metadata": {},
   "outputs": [
    {
     "data": {
      "text/plain": [
       "{'google.com': [1, 9],\n",
       " 'oracle.com': [2, 8],\n",
       " 'vk.com': [3, 3],\n",
       " 'meduza.io': [4, 3],\n",
       " 'mail.google.com': [5, 2],\n",
       " 'football.kulichki.ru': [6, 2],\n",
       " 'geo.mozilla.org': [7, 1],\n",
       " 'accounts.google.com': [8, 1],\n",
       " 'apis.google.com': [9, 1],\n",
       " 'plus.google.com': [10, 1],\n",
       " 'yandex.ru': [11, 1]}"
      ]
     },
     "execution_count": 118,
     "metadata": {},
     "output_type": "execute_result"
    }
   ],
   "source": [
    "with open(os.path.join(PATH_TO_DATA,'site_freq_3users.pkl'), 'rb') as f:\n",
    "    data_new = pickle.load(f)\n",
    "    f.close()\n",
    "data_new"
   ]
  },
  {
   "cell_type": "code",
   "execution_count": 284,
   "metadata": {},
   "outputs": [
    {
     "data": {
      "application/vnd.jupyter.widget-view+json": {
       "model_id": "61b2333f60d443d28b7d9b38dcd427da",
       "version_major": 2,
       "version_minor": 0
      },
      "text/plain": [
       "HBox(children=(IntProgress(value=0, max=3), HTML(value='')))"
      ]
     },
     "metadata": {},
     "output_type": "display_data"
    },
    {
     "name": "stdout",
     "output_type": "stream",
     "text": [
      "\n"
     ]
    },
    {
     "data": {
      "application/vnd.jupyter.widget-view+json": {
       "model_id": "12bd3b6fe26842b7b68682aa8c633f95",
       "version_major": 2,
       "version_minor": 0
      },
      "text/plain": [
       "HBox(children=(IntProgress(value=0, max=3), HTML(value='')))"
      ]
     },
     "metadata": {},
     "output_type": "display_data"
    },
    {
     "name": "stdout",
     "output_type": "stream",
     "text": [
      "\n"
     ]
    },
    {
     "data": {
      "application/vnd.jupyter.widget-view+json": {
       "model_id": "f51e136ba5e8481d8f4d652c048f9b80",
       "version_major": 2,
       "version_minor": 0
      },
      "text/plain": [
       "HBox(children=(IntProgress(value=0, max=3), HTML(value='')))"
      ]
     },
     "metadata": {},
     "output_type": "display_data"
    },
    {
     "name": "stdout",
     "output_type": "stream",
     "text": [
      "\n"
     ]
    },
    {
     "data": {
      "application/vnd.jupyter.widget-view+json": {
       "model_id": "a16c120eca164612be23f84669e0f271",
       "version_major": 2,
       "version_minor": 0
      },
      "text/plain": [
       "HBox(children=(IntProgress(value=0, max=12), HTML(value='')))"
      ]
     },
     "metadata": {},
     "output_type": "display_data"
    },
    {
     "name": "stdout",
     "output_type": "stream",
     "text": [
      "\n",
      "Wall time: 195 ms\n"
     ]
    }
   ],
   "source": [
    "%%time\n",
    "X_toy_s5_w3, y_s5_w3 = prepare_sparse_train_set_window(os.path.join(PATH_TO_DATA,'3users'), \n",
    "                                                       os.path.join(PATH_TO_DATA,'site_freq_3users.pkl'),\n",
    "                                       session_length=5, window_size=3)"
   ]
  },
  {
   "cell_type": "code",
   "execution_count": 280,
   "metadata": {},
   "outputs": [
    {
     "data": {
      "text/plain": [
       "(28118,)"
      ]
     },
     "execution_count": 280,
     "metadata": {},
     "output_type": "execute_result"
    }
   ],
   "source": [
    "y_s5_w3.shape"
   ]
  },
  {
   "cell_type": "code",
   "execution_count": 215,
   "metadata": {},
   "outputs": [
    {
     "data": {
      "text/html": [
       "<div>\n",
       "<style scoped>\n",
       "    .dataframe tbody tr th:only-of-type {\n",
       "        vertical-align: middle;\n",
       "    }\n",
       "\n",
       "    .dataframe tbody tr th {\n",
       "        vertical-align: top;\n",
       "    }\n",
       "\n",
       "    .dataframe thead th {\n",
       "        text-align: right;\n",
       "    }\n",
       "</style>\n",
       "<table border=\"1\" class=\"dataframe\">\n",
       "  <thead>\n",
       "    <tr style=\"text-align: right;\">\n",
       "      <th></th>\n",
       "      <th>0</th>\n",
       "      <th>1</th>\n",
       "    </tr>\n",
       "  </thead>\n",
       "  <tbody>\n",
       "    <tr>\n",
       "      <th>pixel.alephd.com</th>\n",
       "      <td>66</td>\n",
       "      <td>2764</td>\n",
       "    </tr>\n",
       "  </tbody>\n",
       "</table>\n",
       "</div>"
      ],
      "text/plain": [
       "                   0     1\n",
       "pixel.alephd.com  66  2764"
      ]
     },
     "execution_count": 215,
     "metadata": {},
     "output_type": "execute_result"
    }
   ],
   "source": [
    "d = pd.DataFrame(dd).T\n",
    "d[d[0]==66]"
   ]
  },
  {
   "cell_type": "code",
   "execution_count": 217,
   "metadata": {},
   "outputs": [
    {
     "data": {
      "text/html": [
       "<div>\n",
       "<style scoped>\n",
       "    .dataframe tbody tr th:only-of-type {\n",
       "        vertical-align: middle;\n",
       "    }\n",
       "\n",
       "    .dataframe tbody tr th {\n",
       "        vertical-align: top;\n",
       "    }\n",
       "\n",
       "    .dataframe thead th {\n",
       "        text-align: right;\n",
       "    }\n",
       "</style>\n",
       "<table border=\"1\" class=\"dataframe\">\n",
       "  <thead>\n",
       "    <tr style=\"text-align: right;\">\n",
       "      <th></th>\n",
       "      <th>0</th>\n",
       "      <th>1</th>\n",
       "    </tr>\n",
       "  </thead>\n",
       "  <tbody>\n",
       "    <tr>\n",
       "      <th>md1.libe.com</th>\n",
       "      <td>1041</td>\n",
       "      <td>127</td>\n",
       "    </tr>\n",
       "  </tbody>\n",
       "</table>\n",
       "</div>"
      ],
      "text/plain": [
       "                 0    1\n",
       "md1.libe.com  1041  127"
      ]
     },
     "execution_count": 217,
     "metadata": {},
     "output_type": "execute_result"
    }
   ],
   "source": [
    "d[d[0]==1041]"
   ]
  },
  {
   "cell_type": "code",
   "execution_count": 239,
   "metadata": {},
   "outputs": [],
   "source": [
    "mm =[[1, 3, 1, 0, 0, 0, 1, 0, 0, 0, 0],\n",
    "    [1, 2, 0, 0, 1, 0, 1, 1, 0, 0, 0],\n",
    "    [1, 1, 0, 0, 1, 0, 0, 1, 1, 1, 0],\n",
    "    [1, 0, 1, 0, 1, 0, 0, 1, 1, 1, 0],\n",
    "    [3, 0, 1, 0, 0, 0, 0, 0, 1, 1, 0],\n",
    "    [3, 0, 1, 0, 0, 0, 0, 0, 0, 0, 0],\n",
    "    [2, 0, 0, 0, 0, 0, 0, 0, 0, 0, 0],\n",
    "    [0, 2, 1, 0, 0, 2, 0, 0, 0, 0, 0],\n",
    "    [0, 1, 0, 0, 0, 2, 0, 0, 0, 0, 0],\n",
    "    [0, 1, 0, 0, 0, 0, 0, 0, 0, 0, 0],\n",
    "    [3, 2, 0, 1, 0, 0, 0, 0, 0, 0, 0],\n",
    "    [3, 2, 0, 0, 1, 0, 0, 0, 0, 0, 0],\n",
    "    [2, 1, 0, 1, 1, 0, 0, 0, 0, 0, 1],\n",
    "    [2, 0, 0, 2, 1, 0, 0, 0, 0, 0, 1],\n",
    "    [1, 1, 0, 2, 0, 0, 0, 0, 0, 0, 1],\n",
    "    [1, 1, 0, 1, 0, 0, 0, 0, 0, 0, 0],\n",
    "    [0, 1, 0, 0, 0, 0, 0, 0, 0, 0, 0]\n",
    "]"
   ]
  },
  {
   "cell_type": "code",
   "execution_count": 285,
   "metadata": {},
   "outputs": [
    {
     "data": {
      "text/plain": [
       "matrix([[0, 3, 1, 0, 0, 0, 1, 0, 0, 0, 0],\n",
       "        [1, 1, 0, 0, 1, 0, 1, 1, 0, 0, 0],\n",
       "        [0, 0, 1, 0, 1, 0, 0, 1, 1, 1, 0],\n",
       "        [3, 0, 1, 0, 0, 0, 0, 0, 0, 1, 0],\n",
       "        [2, 0, 0, 0, 0, 0, 0, 0, 0, 0, 0],\n",
       "        [0, 2, 1, 0, 0, 2, 0, 0, 0, 0, 0],\n",
       "        [0, 1, 0, 0, 0, 1, 0, 0, 0, 0, 0],\n",
       "        [2, 2, 0, 1, 0, 0, 0, 0, 0, 0, 0],\n",
       "        [3, 1, 0, 0, 1, 0, 0, 0, 0, 0, 0],\n",
       "        [1, 0, 0, 2, 1, 0, 0, 0, 0, 0, 1],\n",
       "        [1, 1, 0, 2, 0, 0, 0, 0, 0, 0, 0],\n",
       "        [0, 1, 0, 0, 0, 0, 0, 0, 0, 0, 0]], dtype=int32)"
      ]
     },
     "execution_count": 285,
     "metadata": {},
     "output_type": "execute_result"
    }
   ],
   "source": [
    "X_toy_s5_w3.todense()"
   ]
  },
  {
   "cell_type": "code",
   "execution_count": 228,
   "metadata": {},
   "outputs": [
    {
     "ename": "MemoryError",
     "evalue": "",
     "output_type": "error",
     "traceback": [
      "\u001b[1;31m---------------------------------------------------------------------------\u001b[0m",
      "\u001b[1;31mMemoryError\u001b[0m                               Traceback (most recent call last)",
      "\u001b[1;32m<ipython-input-228-87e7d6249637>\u001b[0m in \u001b[0;36m<module>\u001b[1;34m\u001b[0m\n\u001b[1;32m----> 1\u001b[1;33m \u001b[0mX_toy_s5_w3\u001b[0m\u001b[1;33m.\u001b[0m\u001b[0mtodense\u001b[0m\u001b[1;33m(\u001b[0m\u001b[1;33m)\u001b[0m\u001b[1;33m\u001b[0m\u001b[1;33m\u001b[0m\u001b[0m\n\u001b[0m",
      "\u001b[1;32m~\\Anaconda3\\lib\\site-packages\\scipy\\sparse\\base.py\u001b[0m in \u001b[0;36mtodense\u001b[1;34m(self, order, out)\u001b[0m\n\u001b[0;32m    847\u001b[0m             \u001b[0;31m`\u001b[0m\u001b[0mnumpy\u001b[0m\u001b[1;33m.\u001b[0m\u001b[0mmatrix\u001b[0m\u001b[0;31m`\u001b[0m \u001b[0mobject\u001b[0m \u001b[0mthat\u001b[0m \u001b[0mshares\u001b[0m \u001b[0mthe\u001b[0m \u001b[0msame\u001b[0m \u001b[0mmemory\u001b[0m\u001b[1;33m.\u001b[0m\u001b[1;33m\u001b[0m\u001b[1;33m\u001b[0m\u001b[0m\n\u001b[0;32m    848\u001b[0m         \"\"\"\n\u001b[1;32m--> 849\u001b[1;33m         \u001b[1;32mreturn\u001b[0m \u001b[0mnp\u001b[0m\u001b[1;33m.\u001b[0m\u001b[0masmatrix\u001b[0m\u001b[1;33m(\u001b[0m\u001b[0mself\u001b[0m\u001b[1;33m.\u001b[0m\u001b[0mtoarray\u001b[0m\u001b[1;33m(\u001b[0m\u001b[0morder\u001b[0m\u001b[1;33m=\u001b[0m\u001b[0morder\u001b[0m\u001b[1;33m,\u001b[0m \u001b[0mout\u001b[0m\u001b[1;33m=\u001b[0m\u001b[0mout\u001b[0m\u001b[1;33m)\u001b[0m\u001b[1;33m)\u001b[0m\u001b[1;33m\u001b[0m\u001b[1;33m\u001b[0m\u001b[0m\n\u001b[0m\u001b[0;32m    850\u001b[0m \u001b[1;33m\u001b[0m\u001b[0m\n\u001b[0;32m    851\u001b[0m     \u001b[1;32mdef\u001b[0m \u001b[0mtoarray\u001b[0m\u001b[1;33m(\u001b[0m\u001b[0mself\u001b[0m\u001b[1;33m,\u001b[0m \u001b[0morder\u001b[0m\u001b[1;33m=\u001b[0m\u001b[1;32mNone\u001b[0m\u001b[1;33m,\u001b[0m \u001b[0mout\u001b[0m\u001b[1;33m=\u001b[0m\u001b[1;32mNone\u001b[0m\u001b[1;33m)\u001b[0m\u001b[1;33m:\u001b[0m\u001b[1;33m\u001b[0m\u001b[1;33m\u001b[0m\u001b[0m\n",
      "\u001b[1;32m~\\Anaconda3\\lib\\site-packages\\scipy\\sparse\\compressed.py\u001b[0m in \u001b[0;36mtoarray\u001b[1;34m(self, order, out)\u001b[0m\n\u001b[0;32m    960\u001b[0m         \u001b[1;32mif\u001b[0m \u001b[0mout\u001b[0m \u001b[1;32mis\u001b[0m \u001b[1;32mNone\u001b[0m \u001b[1;32mand\u001b[0m \u001b[0morder\u001b[0m \u001b[1;32mis\u001b[0m \u001b[1;32mNone\u001b[0m\u001b[1;33m:\u001b[0m\u001b[1;33m\u001b[0m\u001b[1;33m\u001b[0m\u001b[0m\n\u001b[0;32m    961\u001b[0m             \u001b[0morder\u001b[0m \u001b[1;33m=\u001b[0m \u001b[0mself\u001b[0m\u001b[1;33m.\u001b[0m\u001b[0m_swap\u001b[0m\u001b[1;33m(\u001b[0m\u001b[1;34m'cf'\u001b[0m\u001b[1;33m)\u001b[0m\u001b[1;33m[\u001b[0m\u001b[1;36m0\u001b[0m\u001b[1;33m]\u001b[0m\u001b[1;33m\u001b[0m\u001b[1;33m\u001b[0m\u001b[0m\n\u001b[1;32m--> 962\u001b[1;33m         \u001b[0mout\u001b[0m \u001b[1;33m=\u001b[0m \u001b[0mself\u001b[0m\u001b[1;33m.\u001b[0m\u001b[0m_process_toarray_args\u001b[0m\u001b[1;33m(\u001b[0m\u001b[0morder\u001b[0m\u001b[1;33m,\u001b[0m \u001b[0mout\u001b[0m\u001b[1;33m)\u001b[0m\u001b[1;33m\u001b[0m\u001b[1;33m\u001b[0m\u001b[0m\n\u001b[0m\u001b[0;32m    963\u001b[0m         \u001b[1;32mif\u001b[0m \u001b[1;32mnot\u001b[0m \u001b[1;33m(\u001b[0m\u001b[0mout\u001b[0m\u001b[1;33m.\u001b[0m\u001b[0mflags\u001b[0m\u001b[1;33m.\u001b[0m\u001b[0mc_contiguous\u001b[0m \u001b[1;32mor\u001b[0m \u001b[0mout\u001b[0m\u001b[1;33m.\u001b[0m\u001b[0mflags\u001b[0m\u001b[1;33m.\u001b[0m\u001b[0mf_contiguous\u001b[0m\u001b[1;33m)\u001b[0m\u001b[1;33m:\u001b[0m\u001b[1;33m\u001b[0m\u001b[1;33m\u001b[0m\u001b[0m\n\u001b[0;32m    964\u001b[0m             \u001b[1;32mraise\u001b[0m \u001b[0mValueError\u001b[0m\u001b[1;33m(\u001b[0m\u001b[1;34m'Output array must be C or F contiguous'\u001b[0m\u001b[1;33m)\u001b[0m\u001b[1;33m\u001b[0m\u001b[1;33m\u001b[0m\u001b[0m\n",
      "\u001b[1;32m~\\Anaconda3\\lib\\site-packages\\scipy\\sparse\\base.py\u001b[0m in \u001b[0;36m_process_toarray_args\u001b[1;34m(self, order, out)\u001b[0m\n\u001b[0;32m   1185\u001b[0m             \u001b[1;32mreturn\u001b[0m \u001b[0mout\u001b[0m\u001b[1;33m\u001b[0m\u001b[1;33m\u001b[0m\u001b[0m\n\u001b[0;32m   1186\u001b[0m         \u001b[1;32melse\u001b[0m\u001b[1;33m:\u001b[0m\u001b[1;33m\u001b[0m\u001b[1;33m\u001b[0m\u001b[0m\n\u001b[1;32m-> 1187\u001b[1;33m             \u001b[1;32mreturn\u001b[0m \u001b[0mnp\u001b[0m\u001b[1;33m.\u001b[0m\u001b[0mzeros\u001b[0m\u001b[1;33m(\u001b[0m\u001b[0mself\u001b[0m\u001b[1;33m.\u001b[0m\u001b[0mshape\u001b[0m\u001b[1;33m,\u001b[0m \u001b[0mdtype\u001b[0m\u001b[1;33m=\u001b[0m\u001b[0mself\u001b[0m\u001b[1;33m.\u001b[0m\u001b[0mdtype\u001b[0m\u001b[1;33m,\u001b[0m \u001b[0morder\u001b[0m\u001b[1;33m=\u001b[0m\u001b[0morder\u001b[0m\u001b[1;33m)\u001b[0m\u001b[1;33m\u001b[0m\u001b[1;33m\u001b[0m\u001b[0m\n\u001b[0m\u001b[0;32m   1188\u001b[0m \u001b[1;33m\u001b[0m\u001b[0m\n\u001b[0;32m   1189\u001b[0m \u001b[1;33m\u001b[0m\u001b[0m\n",
      "\u001b[1;31mMemoryError\u001b[0m: "
     ]
    }
   ],
   "source": [
    "X_toy_s5_w3.todense()"
   ]
  },
  {
   "cell_type": "code",
   "execution_count": 8,
   "metadata": {
    "scrolled": true
   },
   "outputs": [
    {
     "data": {
      "text/plain": [
       "matrix([[0, 3, 1, 0, 0, 0, 1, 0, 0, 0, 0],\n",
       "        [1, 1, 0, 0, 1, 0, 1, 1, 0, 0, 0],\n",
       "        [0, 0, 1, 0, 1, 0, 0, 1, 1, 1, 0],\n",
       "        [3, 0, 1, 0, 0, 0, 0, 0, 0, 1, 0],\n",
       "        [2, 0, 0, 0, 0, 0, 0, 0, 0, 0, 0],\n",
       "        [0, 2, 1, 0, 0, 2, 0, 0, 0, 0, 0],\n",
       "        [0, 1, 0, 0, 0, 1, 0, 0, 0, 0, 0],\n",
       "        [2, 2, 0, 1, 0, 0, 0, 0, 0, 0, 0],\n",
       "        [3, 1, 0, 0, 1, 0, 0, 0, 0, 0, 0],\n",
       "        [1, 0, 0, 2, 1, 0, 0, 0, 0, 0, 1],\n",
       "        [1, 1, 0, 2, 0, 0, 0, 0, 0, 0, 0],\n",
       "        [0, 1, 0, 0, 0, 0, 0, 0, 0, 0, 0]])"
      ]
     },
     "execution_count": 8,
     "metadata": {},
     "output_type": "execute_result"
    }
   ],
   "source": [
    "X_toy_s5_w3.todense()"
   ]
  },
  {
   "cell_type": "code",
   "execution_count": 92,
   "metadata": {},
   "outputs": [
    {
     "data": {
      "text/plain": [
       "array([1, 1, 1, 1, 1, 2, 2, 3, 3, 3, 3, 3])"
      ]
     },
     "execution_count": 92,
     "metadata": {},
     "output_type": "execute_result"
    }
   ],
   "source": [
    "y_s5_w3"
   ]
  },
  {
   "cell_type": "code",
   "execution_count": 9,
   "metadata": {},
   "outputs": [
    {
     "data": {
      "text/plain": [
       "array([1, 1, 1, 1, 1, 2, 2, 3, 3, 3, 3, 3])"
      ]
     },
     "execution_count": 9,
     "metadata": {},
     "output_type": "execute_result"
    }
   ],
   "source": [
    "y_s5_w3"
   ]
  },
  {
   "cell_type": "code",
   "execution_count": 1,
   "metadata": {},
   "outputs": [
    {
     "ename": "NameError",
     "evalue": "name 'prepare_sparse_train_set_window' is not defined",
     "output_type": "error",
     "traceback": [
      "\u001b[1;31m---------------------------------------------------------------------------\u001b[0m",
      "\u001b[1;31mNameError\u001b[0m                                 Traceback (most recent call last)",
      "\u001b[1;32m<timed eval>\u001b[0m in \u001b[0;36m<module>\u001b[1;34m\u001b[0m\n",
      "\u001b[1;31mNameError\u001b[0m: name 'prepare_sparse_train_set_window' is not defined"
     ]
    }
   ],
   "source": [
    "%%time\n",
    "prepare_sparse_train_set_window(os.path.join(PATH_TO_DATA,'150users'), \n",
    "                                                       os.path.join(PATH_TO_DATA,'site_freq_150users.pkl'),\n",
    "                                       session_length=5, window_size=5)"
   ]
  },
  {
   "cell_type": "code",
   "execution_count": 158,
   "metadata": {},
   "outputs": [],
   "source": [
    "import itertools\n",
    "PATH_TO_DATA1 = 'capstone_user_identification\\\\result_w2'"
   ]
  },
  {
   "cell_type": "code",
   "execution_count": 155,
   "metadata": {},
   "outputs": [
    {
     "name": "stdout",
     "output_type": "stream",
     "text": [
      "Пример 11 44\n"
     ]
    }
   ],
   "source": [
    "g=11\n",
    "l=44\n",
    "print(f'Пример {g} {l}')"
   ]
  },
  {
   "cell_type": "code",
   "execution_count": 182,
   "metadata": {},
   "outputs": [
    {
     "name": "stdout",
     "output_type": "stream",
     "text": [
      "10 15 10\n",
      "10 15 7\n",
      "10 10 7\n",
      "10 7 7\n",
      "10 15 5\n",
      "10 10 5\n",
      "10 7 5\n",
      "10 5 5\n",
      "150 15 10\n",
      "150 15 7\n",
      "150 10 7\n",
      "150 7 7\n",
      "150 15 5\n",
      "150 10 5\n",
      "150 7 5\n",
      "150 5 5\n"
     ]
    }
   ],
   "source": [
    "for num_users in [10,150]:\n",
    "    for window_size,session_length in itertools.product([10, 7, 5], [15, 10, 7, 5]):\n",
    "        if (window_size<=session_length) and ((window_size,session_length) != (10,10)):\n",
    "            print(num_users,session_length,window_size)"
   ]
  },
  {
   "cell_type": "code",
   "execution_count": 181,
   "metadata": {},
   "outputs": [
    {
     "name": "stdout",
     "output_type": "stream",
     "text": [
      "10 15 10\n",
      "10 15 7\n",
      "10 10 7\n",
      "10 7 7\n",
      "10 15 5\n",
      "10 10 5\n",
      "10 7 5\n",
      "10 5 5\n",
      "150 15 10\n",
      "150 15 7\n",
      "150 10 7\n",
      "150 7 7\n",
      "150 15 5\n",
      "150 10 5\n",
      "150 7 5\n",
      "150 5 5\n"
     ]
    }
   ],
   "source": [
    "for num_users in [10,150]:\n",
    "    for window_size,session_length in itertools.product([10, 7, 5], [15, 10, 7, 5]):\n",
    "        if (window_size<=session_length) and ((session_length,window_size) != (10,10)):\n",
    "            print(num_users,session_length,window_size)"
   ]
  },
  {
   "cell_type": "code",
   "execution_count": null,
   "metadata": {},
   "outputs": [],
   "source": [
    "10 5 5   150 7 7   150 5 5"
   ]
  },
  {
   "cell_type": "code",
   "execution_count": 289,
   "metadata": {},
   "outputs": [
    {
     "name": "stdout",
     "output_type": "stream",
     "text": [
      "1\n"
     ]
    },
    {
     "data": {
      "application/vnd.jupyter.widget-view+json": {
       "model_id": "ed38ed93ac3a48d2a662d86bc6c4054c",
       "version_major": 2,
       "version_minor": 0
      },
      "text/plain": [
       "HBox(children=(IntProgress(value=0, max=10), HTML(value='')))"
      ]
     },
     "metadata": {},
     "output_type": "display_data"
    },
    {
     "name": "stdout",
     "output_type": "stream",
     "text": [
      "\n"
     ]
    },
    {
     "data": {
      "application/vnd.jupyter.widget-view+json": {
       "model_id": "d6908a6a1d774c7f8b95830e0cf97b78",
       "version_major": 2,
       "version_minor": 0
      },
      "text/plain": [
       "HBox(children=(IntProgress(value=0, max=10), HTML(value='')))"
      ]
     },
     "metadata": {},
     "output_type": "display_data"
    },
    {
     "name": "stdout",
     "output_type": "stream",
     "text": [
      "\n"
     ]
    },
    {
     "data": {
      "application/vnd.jupyter.widget-view+json": {
       "model_id": "e4e2ee506229435cbe1a3f768535ce41",
       "version_major": 2,
       "version_minor": 0
      },
      "text/plain": [
       "HBox(children=(IntProgress(value=0, max=10), HTML(value='')))"
      ]
     },
     "metadata": {},
     "output_type": "display_data"
    },
    {
     "name": "stdout",
     "output_type": "stream",
     "text": [
      "\n"
     ]
    },
    {
     "data": {
      "application/vnd.jupyter.widget-view+json": {
       "model_id": "8a6cb56a18ff4018bc89ce241ffcf84c",
       "version_major": 2,
       "version_minor": 0
      },
      "text/plain": [
       "HBox(children=(IntProgress(value=0, max=14061), HTML(value='')))"
      ]
     },
     "metadata": {},
     "output_type": "display_data"
    },
    {
     "name": "stdout",
     "output_type": "stream",
     "text": [
      "\n",
      "2\n"
     ]
    },
    {
     "data": {
      "application/vnd.jupyter.widget-view+json": {
       "model_id": "1cb3569461e642e6acbd7449d3c3ce87",
       "version_major": 2,
       "version_minor": 0
      },
      "text/plain": [
       "HBox(children=(IntProgress(value=0, max=10), HTML(value='')))"
      ]
     },
     "metadata": {},
     "output_type": "display_data"
    },
    {
     "name": "stdout",
     "output_type": "stream",
     "text": [
      "\n"
     ]
    },
    {
     "data": {
      "application/vnd.jupyter.widget-view+json": {
       "model_id": "6d8d331e01c84260b37cf569eeb5ce2e",
       "version_major": 2,
       "version_minor": 0
      },
      "text/plain": [
       "HBox(children=(IntProgress(value=0, max=10), HTML(value='')))"
      ]
     },
     "metadata": {},
     "output_type": "display_data"
    },
    {
     "name": "stdout",
     "output_type": "stream",
     "text": [
      "\n"
     ]
    },
    {
     "data": {
      "application/vnd.jupyter.widget-view+json": {
       "model_id": "7f2557621faf4f58b2477f9e623d381c",
       "version_major": 2,
       "version_minor": 0
      },
      "text/plain": [
       "HBox(children=(IntProgress(value=0, max=10), HTML(value='')))"
      ]
     },
     "metadata": {},
     "output_type": "display_data"
    },
    {
     "name": "stdout",
     "output_type": "stream",
     "text": [
      "\n"
     ]
    },
    {
     "data": {
      "application/vnd.jupyter.widget-view+json": {
       "model_id": "de2bdc5dde3441549ee619874b4f2bf3",
       "version_major": 2,
       "version_minor": 0
      },
      "text/plain": [
       "HBox(children=(IntProgress(value=0, max=20087), HTML(value='')))"
      ]
     },
     "metadata": {},
     "output_type": "display_data"
    },
    {
     "name": "stdout",
     "output_type": "stream",
     "text": [
      "\n",
      "3\n"
     ]
    },
    {
     "data": {
      "application/vnd.jupyter.widget-view+json": {
       "model_id": "0a02c262a2e941c2944300c2f54ffbf9",
       "version_major": 2,
       "version_minor": 0
      },
      "text/plain": [
       "HBox(children=(IntProgress(value=0, max=10), HTML(value='')))"
      ]
     },
     "metadata": {},
     "output_type": "display_data"
    },
    {
     "name": "stdout",
     "output_type": "stream",
     "text": [
      "\n"
     ]
    },
    {
     "data": {
      "application/vnd.jupyter.widget-view+json": {
       "model_id": "8edb20aeee4f44abad5ac075a1b2d96e",
       "version_major": 2,
       "version_minor": 0
      },
      "text/plain": [
       "HBox(children=(IntProgress(value=0, max=10), HTML(value='')))"
      ]
     },
     "metadata": {},
     "output_type": "display_data"
    },
    {
     "name": "stdout",
     "output_type": "stream",
     "text": [
      "\n"
     ]
    },
    {
     "data": {
      "application/vnd.jupyter.widget-view+json": {
       "model_id": "a7c14654f2b64873943f8c6cefdfbdc4",
       "version_major": 2,
       "version_minor": 0
      },
      "text/plain": [
       "HBox(children=(IntProgress(value=0, max=10), HTML(value='')))"
      ]
     },
     "metadata": {},
     "output_type": "display_data"
    },
    {
     "name": "stdout",
     "output_type": "stream",
     "text": [
      "\n"
     ]
    },
    {
     "data": {
      "application/vnd.jupyter.widget-view+json": {
       "model_id": "1ac156b5f8b949b9804731252e036a42",
       "version_major": 2,
       "version_minor": 0
      },
      "text/plain": [
       "HBox(children=(IntProgress(value=0, max=20087), HTML(value='')))"
      ]
     },
     "metadata": {},
     "output_type": "display_data"
    },
    {
     "name": "stdout",
     "output_type": "stream",
     "text": [
      "\n",
      "4\n"
     ]
    },
    {
     "data": {
      "application/vnd.jupyter.widget-view+json": {
       "model_id": "c1976dd2488e48849072dc8d83c472af",
       "version_major": 2,
       "version_minor": 0
      },
      "text/plain": [
       "HBox(children=(IntProgress(value=0, max=10), HTML(value='')))"
      ]
     },
     "metadata": {},
     "output_type": "display_data"
    },
    {
     "name": "stdout",
     "output_type": "stream",
     "text": [
      "\n"
     ]
    },
    {
     "data": {
      "application/vnd.jupyter.widget-view+json": {
       "model_id": "a290b05624674ac88bf71e3c403d584b",
       "version_major": 2,
       "version_minor": 0
      },
      "text/plain": [
       "HBox(children=(IntProgress(value=0, max=10), HTML(value='')))"
      ]
     },
     "metadata": {},
     "output_type": "display_data"
    },
    {
     "name": "stdout",
     "output_type": "stream",
     "text": [
      "\n"
     ]
    },
    {
     "data": {
      "application/vnd.jupyter.widget-view+json": {
       "model_id": "87287e764fed40eeab62e6ca2abea83c",
       "version_major": 2,
       "version_minor": 0
      },
      "text/plain": [
       "HBox(children=(IntProgress(value=0, max=10), HTML(value='')))"
      ]
     },
     "metadata": {},
     "output_type": "display_data"
    },
    {
     "name": "stdout",
     "output_type": "stream",
     "text": [
      "\n"
     ]
    },
    {
     "data": {
      "application/vnd.jupyter.widget-view+json": {
       "model_id": "b61c90574be64775b8f779f3a186775c",
       "version_major": 2,
       "version_minor": 0
      },
      "text/plain": [
       "HBox(children=(IntProgress(value=0, max=20087), HTML(value='')))"
      ]
     },
     "metadata": {},
     "output_type": "display_data"
    },
    {
     "name": "stdout",
     "output_type": "stream",
     "text": [
      "\n",
      "5\n"
     ]
    },
    {
     "data": {
      "application/vnd.jupyter.widget-view+json": {
       "model_id": "4da83673aaa74038a2da3e6e316a8036",
       "version_major": 2,
       "version_minor": 0
      },
      "text/plain": [
       "HBox(children=(IntProgress(value=0, max=10), HTML(value='')))"
      ]
     },
     "metadata": {},
     "output_type": "display_data"
    },
    {
     "name": "stdout",
     "output_type": "stream",
     "text": [
      "\n"
     ]
    },
    {
     "data": {
      "application/vnd.jupyter.widget-view+json": {
       "model_id": "6ed58485c5bb4c7facd615c77ee4c92b",
       "version_major": 2,
       "version_minor": 0
      },
      "text/plain": [
       "HBox(children=(IntProgress(value=0, max=10), HTML(value='')))"
      ]
     },
     "metadata": {},
     "output_type": "display_data"
    },
    {
     "name": "stdout",
     "output_type": "stream",
     "text": [
      "\n"
     ]
    },
    {
     "data": {
      "application/vnd.jupyter.widget-view+json": {
       "model_id": "b8b2d913ad704ef5ac6f6c02f66c57f5",
       "version_major": 2,
       "version_minor": 0
      },
      "text/plain": [
       "HBox(children=(IntProgress(value=0, max=10), HTML(value='')))"
      ]
     },
     "metadata": {},
     "output_type": "display_data"
    },
    {
     "name": "stdout",
     "output_type": "stream",
     "text": [
      "\n"
     ]
    },
    {
     "data": {
      "application/vnd.jupyter.widget-view+json": {
       "model_id": "0c0638755dbb4094a11d91c81f572835",
       "version_major": 2,
       "version_minor": 0
      },
      "text/plain": [
       "HBox(children=(IntProgress(value=0, max=28118), HTML(value='')))"
      ]
     },
     "metadata": {},
     "output_type": "display_data"
    },
    {
     "name": "stdout",
     "output_type": "stream",
     "text": [
      "\n",
      "6\n"
     ]
    },
    {
     "data": {
      "application/vnd.jupyter.widget-view+json": {
       "model_id": "6ad930cc9dd640baa6c4545cc25ee38c",
       "version_major": 2,
       "version_minor": 0
      },
      "text/plain": [
       "HBox(children=(IntProgress(value=0, max=10), HTML(value='')))"
      ]
     },
     "metadata": {},
     "output_type": "display_data"
    },
    {
     "name": "stdout",
     "output_type": "stream",
     "text": [
      "\n"
     ]
    },
    {
     "data": {
      "application/vnd.jupyter.widget-view+json": {
       "model_id": "0bfbca1022844f83a19926fb30a1105f",
       "version_major": 2,
       "version_minor": 0
      },
      "text/plain": [
       "HBox(children=(IntProgress(value=0, max=10), HTML(value='')))"
      ]
     },
     "metadata": {},
     "output_type": "display_data"
    },
    {
     "name": "stdout",
     "output_type": "stream",
     "text": [
      "\n"
     ]
    },
    {
     "data": {
      "application/vnd.jupyter.widget-view+json": {
       "model_id": "2f11ce5244344d01b6d2aa838cc2ce76",
       "version_major": 2,
       "version_minor": 0
      },
      "text/plain": [
       "HBox(children=(IntProgress(value=0, max=10), HTML(value='')))"
      ]
     },
     "metadata": {},
     "output_type": "display_data"
    },
    {
     "name": "stdout",
     "output_type": "stream",
     "text": [
      "\n"
     ]
    },
    {
     "data": {
      "application/vnd.jupyter.widget-view+json": {
       "model_id": "7e844b038eb140e8b1de04ead822e376",
       "version_major": 2,
       "version_minor": 0
      },
      "text/plain": [
       "HBox(children=(IntProgress(value=0, max=28118), HTML(value='')))"
      ]
     },
     "metadata": {},
     "output_type": "display_data"
    },
    {
     "name": "stdout",
     "output_type": "stream",
     "text": [
      "\n",
      "7\n"
     ]
    },
    {
     "data": {
      "application/vnd.jupyter.widget-view+json": {
       "model_id": "3da2a0d1a29e41b4a97ca4cff278c3a2",
       "version_major": 2,
       "version_minor": 0
      },
      "text/plain": [
       "HBox(children=(IntProgress(value=0, max=10), HTML(value='')))"
      ]
     },
     "metadata": {},
     "output_type": "display_data"
    },
    {
     "name": "stdout",
     "output_type": "stream",
     "text": [
      "\n"
     ]
    },
    {
     "data": {
      "application/vnd.jupyter.widget-view+json": {
       "model_id": "cee70e3b59f1489b85a6dd3ecc182420",
       "version_major": 2,
       "version_minor": 0
      },
      "text/plain": [
       "HBox(children=(IntProgress(value=0, max=10), HTML(value='')))"
      ]
     },
     "metadata": {},
     "output_type": "display_data"
    },
    {
     "name": "stdout",
     "output_type": "stream",
     "text": [
      "\n"
     ]
    },
    {
     "data": {
      "application/vnd.jupyter.widget-view+json": {
       "model_id": "18a532a01bfe4b519c3e4e3937eb94ad",
       "version_major": 2,
       "version_minor": 0
      },
      "text/plain": [
       "HBox(children=(IntProgress(value=0, max=10), HTML(value='')))"
      ]
     },
     "metadata": {},
     "output_type": "display_data"
    },
    {
     "name": "stdout",
     "output_type": "stream",
     "text": [
      "\n"
     ]
    },
    {
     "data": {
      "application/vnd.jupyter.widget-view+json": {
       "model_id": "0f35440aa0e0472984337dc476b6f5b3",
       "version_major": 2,
       "version_minor": 0
      },
      "text/plain": [
       "HBox(children=(IntProgress(value=0, max=28118), HTML(value='')))"
      ]
     },
     "metadata": {},
     "output_type": "display_data"
    },
    {
     "name": "stdout",
     "output_type": "stream",
     "text": [
      "\n",
      "8\n"
     ]
    },
    {
     "data": {
      "application/vnd.jupyter.widget-view+json": {
       "model_id": "8e8c3f4829cb4d399b8635d177b6624d",
       "version_major": 2,
       "version_minor": 0
      },
      "text/plain": [
       "HBox(children=(IntProgress(value=0, max=10), HTML(value='')))"
      ]
     },
     "metadata": {},
     "output_type": "display_data"
    },
    {
     "name": "stdout",
     "output_type": "stream",
     "text": [
      "\n"
     ]
    },
    {
     "data": {
      "application/vnd.jupyter.widget-view+json": {
       "model_id": "2b2cc66e3a3941ce8d85108f265c70a1",
       "version_major": 2,
       "version_minor": 0
      },
      "text/plain": [
       "HBox(children=(IntProgress(value=0, max=10), HTML(value='')))"
      ]
     },
     "metadata": {},
     "output_type": "display_data"
    },
    {
     "name": "stdout",
     "output_type": "stream",
     "text": [
      "\n"
     ]
    },
    {
     "data": {
      "application/vnd.jupyter.widget-view+json": {
       "model_id": "5183ecd47c4e4fdfb01696ba93fa4b44",
       "version_major": 2,
       "version_minor": 0
      },
      "text/plain": [
       "HBox(children=(IntProgress(value=0, max=10), HTML(value='')))"
      ]
     },
     "metadata": {},
     "output_type": "display_data"
    },
    {
     "name": "stdout",
     "output_type": "stream",
     "text": [
      "\n"
     ]
    },
    {
     "data": {
      "application/vnd.jupyter.widget-view+json": {
       "model_id": "69414a21206744ffbc4cf279c3d87188",
       "version_major": 2,
       "version_minor": 0
      },
      "text/plain": [
       "HBox(children=(IntProgress(value=0, max=28118), HTML(value='')))"
      ]
     },
     "metadata": {},
     "output_type": "display_data"
    },
    {
     "name": "stdout",
     "output_type": "stream",
     "text": [
      "\n",
      "9\n"
     ]
    },
    {
     "data": {
      "application/vnd.jupyter.widget-view+json": {
       "model_id": "4a5132f361084d8d898a5c840ea76308",
       "version_major": 2,
       "version_minor": 0
      },
      "text/plain": [
       "HBox(children=(IntProgress(value=0, max=150), HTML(value='')))"
      ]
     },
     "metadata": {},
     "output_type": "display_data"
    },
    {
     "name": "stdout",
     "output_type": "stream",
     "text": [
      "\n"
     ]
    },
    {
     "data": {
      "application/vnd.jupyter.widget-view+json": {
       "model_id": "9c6d4e65f0de439ea8fe2c598b2cf7da",
       "version_major": 2,
       "version_minor": 0
      },
      "text/plain": [
       "HBox(children=(IntProgress(value=0, max=150), HTML(value='')))"
      ]
     },
     "metadata": {},
     "output_type": "display_data"
    },
    {
     "name": "stdout",
     "output_type": "stream",
     "text": [
      "\n"
     ]
    },
    {
     "data": {
      "application/vnd.jupyter.widget-view+json": {
       "model_id": "c70ea597560e4235935628165d58ce77",
       "version_major": 2,
       "version_minor": 0
      },
      "text/plain": [
       "HBox(children=(IntProgress(value=0, max=150), HTML(value='')))"
      ]
     },
     "metadata": {},
     "output_type": "display_data"
    },
    {
     "name": "stdout",
     "output_type": "stream",
     "text": [
      "\n"
     ]
    },
    {
     "data": {
      "application/vnd.jupyter.widget-view+json": {
       "model_id": "68275e882d1b4f4aa64a47c5ffe6d496",
       "version_major": 2,
       "version_minor": 0
      },
      "text/plain": [
       "HBox(children=(IntProgress(value=0, max=137019), HTML(value='')))"
      ]
     },
     "metadata": {},
     "output_type": "display_data"
    },
    {
     "name": "stdout",
     "output_type": "stream",
     "text": [
      "\n",
      "10\n"
     ]
    },
    {
     "data": {
      "application/vnd.jupyter.widget-view+json": {
       "model_id": "0b7d082ffaaa4c27920eca11e46c6500",
       "version_major": 2,
       "version_minor": 0
      },
      "text/plain": [
       "HBox(children=(IntProgress(value=0, max=150), HTML(value='')))"
      ]
     },
     "metadata": {},
     "output_type": "display_data"
    },
    {
     "name": "stdout",
     "output_type": "stream",
     "text": [
      "\n"
     ]
    },
    {
     "data": {
      "application/vnd.jupyter.widget-view+json": {
       "model_id": "1d5cedd7dd2440538eab271cf135ea06",
       "version_major": 2,
       "version_minor": 0
      },
      "text/plain": [
       "HBox(children=(IntProgress(value=0, max=150), HTML(value='')))"
      ]
     },
     "metadata": {},
     "output_type": "display_data"
    },
    {
     "name": "stdout",
     "output_type": "stream",
     "text": [
      "\n"
     ]
    },
    {
     "data": {
      "application/vnd.jupyter.widget-view+json": {
       "model_id": "71a942c1cb294353bb9f6281bdf1732c",
       "version_major": 2,
       "version_minor": 0
      },
      "text/plain": [
       "HBox(children=(IntProgress(value=0, max=150), HTML(value='')))"
      ]
     },
     "metadata": {},
     "output_type": "display_data"
    },
    {
     "name": "stdout",
     "output_type": "stream",
     "text": [
      "\n"
     ]
    },
    {
     "data": {
      "application/vnd.jupyter.widget-view+json": {
       "model_id": "8d8defe5b2c54a28a63a8b11a55dafd7",
       "version_major": 2,
       "version_minor": 0
      },
      "text/plain": [
       "HBox(children=(IntProgress(value=0, max=195712), HTML(value='')))"
      ]
     },
     "metadata": {},
     "output_type": "display_data"
    },
    {
     "name": "stdout",
     "output_type": "stream",
     "text": [
      "\n",
      "11\n"
     ]
    },
    {
     "data": {
      "application/vnd.jupyter.widget-view+json": {
       "model_id": "f4977056f14d4fc7b762e211a6f357ed",
       "version_major": 2,
       "version_minor": 0
      },
      "text/plain": [
       "HBox(children=(IntProgress(value=0, max=150), HTML(value='')))"
      ]
     },
     "metadata": {},
     "output_type": "display_data"
    },
    {
     "name": "stdout",
     "output_type": "stream",
     "text": [
      "\n"
     ]
    },
    {
     "data": {
      "application/vnd.jupyter.widget-view+json": {
       "model_id": "b8280f7ca50146199ebdbca10541f6e9",
       "version_major": 2,
       "version_minor": 0
      },
      "text/plain": [
       "HBox(children=(IntProgress(value=0, max=150), HTML(value='')))"
      ]
     },
     "metadata": {},
     "output_type": "display_data"
    },
    {
     "name": "stdout",
     "output_type": "stream",
     "text": [
      "\n"
     ]
    },
    {
     "data": {
      "application/vnd.jupyter.widget-view+json": {
       "model_id": "4cb501d2f1e6409da6fa025bfe2f2360",
       "version_major": 2,
       "version_minor": 0
      },
      "text/plain": [
       "HBox(children=(IntProgress(value=0, max=150), HTML(value='')))"
      ]
     },
     "metadata": {},
     "output_type": "display_data"
    },
    {
     "name": "stdout",
     "output_type": "stream",
     "text": [
      "\n"
     ]
    },
    {
     "data": {
      "application/vnd.jupyter.widget-view+json": {
       "model_id": "cade2ee1487649ec86b81112e6ebd77c",
       "version_major": 2,
       "version_minor": 0
      },
      "text/plain": [
       "HBox(children=(IntProgress(value=0, max=195712), HTML(value='')))"
      ]
     },
     "metadata": {},
     "output_type": "display_data"
    },
    {
     "name": "stdout",
     "output_type": "stream",
     "text": [
      "\n",
      "12\n"
     ]
    },
    {
     "data": {
      "application/vnd.jupyter.widget-view+json": {
       "model_id": "92da46b0d0ff4051ad0364c440f96804",
       "version_major": 2,
       "version_minor": 0
      },
      "text/plain": [
       "HBox(children=(IntProgress(value=0, max=150), HTML(value='')))"
      ]
     },
     "metadata": {},
     "output_type": "display_data"
    },
    {
     "name": "stdout",
     "output_type": "stream",
     "text": [
      "\n"
     ]
    },
    {
     "data": {
      "application/vnd.jupyter.widget-view+json": {
       "model_id": "5c5aafc6c21446c49aa3685e6a25ede1",
       "version_major": 2,
       "version_minor": 0
      },
      "text/plain": [
       "HBox(children=(IntProgress(value=0, max=150), HTML(value='')))"
      ]
     },
     "metadata": {},
     "output_type": "display_data"
    },
    {
     "name": "stdout",
     "output_type": "stream",
     "text": [
      "\n"
     ]
    },
    {
     "data": {
      "application/vnd.jupyter.widget-view+json": {
       "model_id": "6110c2081ab3414cb89347c37f61b28f",
       "version_major": 2,
       "version_minor": 0
      },
      "text/plain": [
       "HBox(children=(IntProgress(value=0, max=150), HTML(value='')))"
      ]
     },
     "metadata": {},
     "output_type": "display_data"
    },
    {
     "name": "stdout",
     "output_type": "stream",
     "text": [
      "\n"
     ]
    },
    {
     "data": {
      "application/vnd.jupyter.widget-view+json": {
       "model_id": "127058bc3f404b0486542303e5d587e7",
       "version_major": 2,
       "version_minor": 0
      },
      "text/plain": [
       "HBox(children=(IntProgress(value=0, max=195712), HTML(value='')))"
      ]
     },
     "metadata": {},
     "output_type": "display_data"
    },
    {
     "name": "stdout",
     "output_type": "stream",
     "text": [
      "\n",
      "13\n"
     ]
    },
    {
     "data": {
      "application/vnd.jupyter.widget-view+json": {
       "model_id": "8a095308eb434aca9f558f79d5d934e5",
       "version_major": 2,
       "version_minor": 0
      },
      "text/plain": [
       "HBox(children=(IntProgress(value=0, max=150), HTML(value='')))"
      ]
     },
     "metadata": {},
     "output_type": "display_data"
    },
    {
     "name": "stdout",
     "output_type": "stream",
     "text": [
      "\n"
     ]
    },
    {
     "data": {
      "application/vnd.jupyter.widget-view+json": {
       "model_id": "8256aaa065b34ee691cd3b6cedbfe06b",
       "version_major": 2,
       "version_minor": 0
      },
      "text/plain": [
       "HBox(children=(IntProgress(value=0, max=150), HTML(value='')))"
      ]
     },
     "metadata": {},
     "output_type": "display_data"
    },
    {
     "name": "stdout",
     "output_type": "stream",
     "text": [
      "\n"
     ]
    },
    {
     "data": {
      "application/vnd.jupyter.widget-view+json": {
       "model_id": "ea4612a9f4a640d781181889052853b2",
       "version_major": 2,
       "version_minor": 0
      },
      "text/plain": [
       "HBox(children=(IntProgress(value=0, max=150), HTML(value='')))"
      ]
     },
     "metadata": {},
     "output_type": "display_data"
    },
    {
     "name": "stdout",
     "output_type": "stream",
     "text": [
      "\n"
     ]
    },
    {
     "data": {
      "application/vnd.jupyter.widget-view+json": {
       "model_id": "f462535828234194a1df1532a450f9d2",
       "version_major": 2,
       "version_minor": 0
      },
      "text/plain": [
       "HBox(children=(IntProgress(value=0, max=273957), HTML(value='')))"
      ]
     },
     "metadata": {},
     "output_type": "display_data"
    },
    {
     "name": "stdout",
     "output_type": "stream",
     "text": [
      "\n",
      "14\n"
     ]
    },
    {
     "data": {
      "application/vnd.jupyter.widget-view+json": {
       "model_id": "b692e5ff9a014ba99efdbc9090106c8b",
       "version_major": 2,
       "version_minor": 0
      },
      "text/plain": [
       "HBox(children=(IntProgress(value=0, max=150), HTML(value='')))"
      ]
     },
     "metadata": {},
     "output_type": "display_data"
    },
    {
     "name": "stdout",
     "output_type": "stream",
     "text": [
      "\n"
     ]
    },
    {
     "data": {
      "application/vnd.jupyter.widget-view+json": {
       "model_id": "3a229f751de645d99b2fcc1efd52614d",
       "version_major": 2,
       "version_minor": 0
      },
      "text/plain": [
       "HBox(children=(IntProgress(value=0, max=150), HTML(value='')))"
      ]
     },
     "metadata": {},
     "output_type": "display_data"
    },
    {
     "name": "stdout",
     "output_type": "stream",
     "text": [
      "\n"
     ]
    },
    {
     "data": {
      "application/vnd.jupyter.widget-view+json": {
       "model_id": "7f2fdd57d2ae407ca20db03cdd96bc9d",
       "version_major": 2,
       "version_minor": 0
      },
      "text/plain": [
       "HBox(children=(IntProgress(value=0, max=150), HTML(value='')))"
      ]
     },
     "metadata": {},
     "output_type": "display_data"
    },
    {
     "name": "stdout",
     "output_type": "stream",
     "text": [
      "\n"
     ]
    },
    {
     "data": {
      "application/vnd.jupyter.widget-view+json": {
       "model_id": "9d154fd591d044848aeedb4ac6de84ff",
       "version_major": 2,
       "version_minor": 0
      },
      "text/plain": [
       "HBox(children=(IntProgress(value=0, max=273957), HTML(value='')))"
      ]
     },
     "metadata": {},
     "output_type": "display_data"
    },
    {
     "name": "stdout",
     "output_type": "stream",
     "text": [
      "\n",
      "15\n"
     ]
    },
    {
     "data": {
      "application/vnd.jupyter.widget-view+json": {
       "model_id": "46f20ae4a3ca49b4b2d89d430f0dfb62",
       "version_major": 2,
       "version_minor": 0
      },
      "text/plain": [
       "HBox(children=(IntProgress(value=0, max=150), HTML(value='')))"
      ]
     },
     "metadata": {},
     "output_type": "display_data"
    },
    {
     "name": "stdout",
     "output_type": "stream",
     "text": [
      "\n"
     ]
    },
    {
     "data": {
      "application/vnd.jupyter.widget-view+json": {
       "model_id": "c3ae12c8251949278f3f067a9b6dec2a",
       "version_major": 2,
       "version_minor": 0
      },
      "text/plain": [
       "HBox(children=(IntProgress(value=0, max=150), HTML(value='')))"
      ]
     },
     "metadata": {},
     "output_type": "display_data"
    },
    {
     "name": "stdout",
     "output_type": "stream",
     "text": [
      "\n"
     ]
    },
    {
     "data": {
      "application/vnd.jupyter.widget-view+json": {
       "model_id": "1bbbdf929a4d4c04a666ef910f7db110",
       "version_major": 2,
       "version_minor": 0
      },
      "text/plain": [
       "HBox(children=(IntProgress(value=0, max=150), HTML(value='')))"
      ]
     },
     "metadata": {},
     "output_type": "display_data"
    },
    {
     "name": "stdout",
     "output_type": "stream",
     "text": [
      "\n"
     ]
    },
    {
     "data": {
      "application/vnd.jupyter.widget-view+json": {
       "model_id": "3c0c0f826cb347829600f83fc94ed3a0",
       "version_major": 2,
       "version_minor": 0
      },
      "text/plain": [
       "HBox(children=(IntProgress(value=0, max=273957), HTML(value='')))"
      ]
     },
     "metadata": {},
     "output_type": "display_data"
    },
    {
     "name": "stdout",
     "output_type": "stream",
     "text": [
      "\n",
      "16\n"
     ]
    },
    {
     "data": {
      "application/vnd.jupyter.widget-view+json": {
       "model_id": "46ff6d2620984a5db9905fe57a06337b",
       "version_major": 2,
       "version_minor": 0
      },
      "text/plain": [
       "HBox(children=(IntProgress(value=0, max=150), HTML(value='')))"
      ]
     },
     "metadata": {},
     "output_type": "display_data"
    },
    {
     "name": "stdout",
     "output_type": "stream",
     "text": [
      "\n"
     ]
    },
    {
     "data": {
      "application/vnd.jupyter.widget-view+json": {
       "model_id": "0d86e4820c584c7d99eb866167a0c9a6",
       "version_major": 2,
       "version_minor": 0
      },
      "text/plain": [
       "HBox(children=(IntProgress(value=0, max=150), HTML(value='')))"
      ]
     },
     "metadata": {},
     "output_type": "display_data"
    },
    {
     "name": "stdout",
     "output_type": "stream",
     "text": [
      "\n"
     ]
    },
    {
     "data": {
      "application/vnd.jupyter.widget-view+json": {
       "model_id": "20ea30c9427f4f999af8a2bdb7d8d56b",
       "version_major": 2,
       "version_minor": 0
      },
      "text/plain": [
       "HBox(children=(IntProgress(value=0, max=150), HTML(value='')))"
      ]
     },
     "metadata": {},
     "output_type": "display_data"
    },
    {
     "name": "stdout",
     "output_type": "stream",
     "text": [
      "\n"
     ]
    },
    {
     "data": {
      "application/vnd.jupyter.widget-view+json": {
       "model_id": "3dea2d36c9794e3cb1d83044c2c23f70",
       "version_major": 2,
       "version_minor": 0
      },
      "text/plain": [
       "HBox(children=(IntProgress(value=0, max=273957), HTML(value='')))"
      ]
     },
     "metadata": {},
     "output_type": "display_data"
    },
    {
     "name": "stdout",
     "output_type": "stream",
     "text": [
      "\n",
      "Wall time: 2min 12s\n"
     ]
    }
   ],
   "source": [
    "%%time\n",
    "data_lengths = []\n",
    "counter = 0\n",
    "for num_users in [10,150]:\n",
    "    for window_size,session_length in itertools.product([10, 7, 5], [15, 10, 7, 5]):\n",
    "        if (window_size<=session_length) and ((session_length,window_size) != (10,10)):\n",
    "            counter +=1\n",
    "            print(counter)\n",
    "            X_sparse, y = prepare_sparse_train_set_window(os.path.join(PATH_TO_DATA,str(num_users)+'users'), \n",
    "                                                '_', session_length=session_length, window_size=window_size)\n",
    "            \n",
    "            with open(os.path.join(PATH_TO_DATA1,f'X_sparse_{num_users}users_s{session_length}_w{window_size}.pkl'),'wb') as Xs_pickle:\n",
    "                pickle.dump(X_sparse,Xs_pickle,protocol=2)\n",
    "            with open(os.path.join(PATH_TO_DATA1,f'y_{num_users}users_s{session_length}_w{window_size}.pkl'),'wb') as y_pickle:\n",
    "                pickle.dump(y,y_pickle,protocol=2)  \n",
    "            \n",
    "\n",
    "                        \n",
    "            data_lengths.append(y.shape[0])\n",
    "           "
   ]
  },
  {
   "cell_type": "markdown",
   "metadata": {},
   "source": [
    "**Запустите созданную функцию 16 раз с помощью циклов по числу пользователей num_users (10 или 150), значениям параметра *session_length* (15, 10, 7 или 5) и значениям параметра *window_size* (10, 7 или 5). Сериализуйте все 16 разреженных матриц (обучающие выборки) и векторов (метки целевого класса – ID пользователя) в файлы `X_sparse_{num_users}users_s{session_length}_w{window_size}.pkl` и `y_{num_users}users_s{session_length}_w{window_size}.pkl`.**\n",
    "\n",
    "**Чтоб убедиться, что мы все далее будем работать с идентичными объектами, запишите в список *data_lengths* число строк во всех полученных рареженных матрицах (16 значений). Если какие-то будут совпадать, это нормально (можно сообразить, почему).**\n",
    "\n",
    "**На моем ноутбуке этот участок кода отработал за 26 секунд, хотя понятно, что все зависит от эффективности реализации функции *prepare_sparse_train_set_window* и мощности используемого железа. И честно говоря, моя первая реализация была намного менее эффективной (34 минуты), так что тут у Вас есть возможность оптимизировать свой код.**"
   ]
  },
  {
   "cell_type": "code",
   "execution_count": null,
   "metadata": {
    "collapsed": true
   },
   "outputs": [],
   "source": [
    "%%time\n",
    "import itertools\n",
    "\n",
    "data_lengths = []\n",
    "\n",
    "for num_users in [10, 150]:\n",
    "    for window_size, session_length in itertools.product([10, 7, 5], [15, 10, 7, 5]):\n",
    "        if window_size <= session_length and (window_size, session_length) != (10, 10):\n",
    "            X_sparse, y = ''' ВАШ КОД ЗДЕСЬ '''"
   ]
  },
  {
   "cell_type": "markdown",
   "metadata": {},
   "source": [
    "**<font color='red'> Вопрос 1. </font>Сколько всего уникальных значений в списке `data_lengths`?**"
   ]
  },
  {
   "cell_type": "code",
   "execution_count": 288,
   "metadata": {},
   "outputs": [
    {
     "data": {
      "text/plain": [
       "'14061 20087 20087 20087 28118 28118 28118 28118 137019 195712 195712 195712 273957 273957 273957 273957'"
      ]
     },
     "execution_count": 288,
     "metadata": {},
     "output_type": "execute_result"
    }
   ],
   "source": [
    "''' ВАШ КОД ЗДЕСЬ '''\n",
    "res = \" \".join([str(l) for l in data_lengths])\n",
    "res ВЕРНЫЙ"
   ]
  },
  {
   "cell_type": "code",
   "execution_count": 184,
   "metadata": {},
   "outputs": [
    {
     "data": {
      "text/plain": [
       "'14061 20087 20087 20087 28118 28118 28118 28121 137019 195712 195712 195728 273957 273957 273957 274000'"
      ]
     },
     "execution_count": 184,
     "metadata": {},
     "output_type": "execute_result"
    }
   ],
   "source": [
    "res = \" \".join([str(l) for l in data_lengths])\n",
    "res НЕВЕРНЫЙ"
   ]
  },
  {
   "cell_type": "markdown",
   "metadata": {},
   "source": [
    "## Часть 2. Первичный анализ данных, проверка гипотез"
   ]
  },
  {
   "cell_type": "markdown",
   "metadata": {},
   "source": [
    "**Считаем в DataFrame подготовленный на 1 неделе файл `train_data_10users.csv`. Далее будем работать с ним.**"
   ]
  },
  {
   "cell_type": "code",
   "execution_count": 292,
   "metadata": {},
   "outputs": [],
   "source": [
    "train_df = pd.read_csv(os.path.join(PATH_TO_DATA, 'train_data_10users.csv'), \n",
    "                       index_col='session_id')"
   ]
  },
  {
   "cell_type": "code",
   "execution_count": 293,
   "metadata": {},
   "outputs": [
    {
     "data": {
      "text/html": [
       "<div>\n",
       "<style scoped>\n",
       "    .dataframe tbody tr th:only-of-type {\n",
       "        vertical-align: middle;\n",
       "    }\n",
       "\n",
       "    .dataframe tbody tr th {\n",
       "        vertical-align: top;\n",
       "    }\n",
       "\n",
       "    .dataframe thead th {\n",
       "        text-align: right;\n",
       "    }\n",
       "</style>\n",
       "<table border=\"1\" class=\"dataframe\">\n",
       "  <thead>\n",
       "    <tr style=\"text-align: right;\">\n",
       "      <th></th>\n",
       "      <th>site1</th>\n",
       "      <th>site2</th>\n",
       "      <th>site3</th>\n",
       "      <th>site4</th>\n",
       "      <th>site5</th>\n",
       "      <th>site6</th>\n",
       "      <th>site7</th>\n",
       "      <th>site8</th>\n",
       "      <th>site9</th>\n",
       "      <th>site10</th>\n",
       "      <th>user_ID</th>\n",
       "    </tr>\n",
       "    <tr>\n",
       "      <th>session_id</th>\n",
       "      <th></th>\n",
       "      <th></th>\n",
       "      <th></th>\n",
       "      <th></th>\n",
       "      <th></th>\n",
       "      <th></th>\n",
       "      <th></th>\n",
       "      <th></th>\n",
       "      <th></th>\n",
       "      <th></th>\n",
       "      <th></th>\n",
       "    </tr>\n",
       "  </thead>\n",
       "  <tbody>\n",
       "    <tr>\n",
       "      <th>0</th>\n",
       "      <td>192</td>\n",
       "      <td>574</td>\n",
       "      <td>133</td>\n",
       "      <td>3</td>\n",
       "      <td>133</td>\n",
       "      <td>133</td>\n",
       "      <td>3</td>\n",
       "      <td>133</td>\n",
       "      <td>203</td>\n",
       "      <td>133</td>\n",
       "      <td>31</td>\n",
       "    </tr>\n",
       "    <tr>\n",
       "      <th>1</th>\n",
       "      <td>415</td>\n",
       "      <td>193</td>\n",
       "      <td>674</td>\n",
       "      <td>254</td>\n",
       "      <td>133</td>\n",
       "      <td>31</td>\n",
       "      <td>393</td>\n",
       "      <td>3305</td>\n",
       "      <td>217</td>\n",
       "      <td>55</td>\n",
       "      <td>31</td>\n",
       "    </tr>\n",
       "    <tr>\n",
       "      <th>2</th>\n",
       "      <td>55</td>\n",
       "      <td>3</td>\n",
       "      <td>55</td>\n",
       "      <td>55</td>\n",
       "      <td>5</td>\n",
       "      <td>293</td>\n",
       "      <td>415</td>\n",
       "      <td>333</td>\n",
       "      <td>897</td>\n",
       "      <td>55</td>\n",
       "      <td>31</td>\n",
       "    </tr>\n",
       "    <tr>\n",
       "      <th>3</th>\n",
       "      <td>473</td>\n",
       "      <td>3306</td>\n",
       "      <td>473</td>\n",
       "      <td>55</td>\n",
       "      <td>55</td>\n",
       "      <td>55</td>\n",
       "      <td>55</td>\n",
       "      <td>937</td>\n",
       "      <td>199</td>\n",
       "      <td>123</td>\n",
       "      <td>31</td>\n",
       "    </tr>\n",
       "    <tr>\n",
       "      <th>4</th>\n",
       "      <td>342</td>\n",
       "      <td>55</td>\n",
       "      <td>5</td>\n",
       "      <td>3307</td>\n",
       "      <td>258</td>\n",
       "      <td>211</td>\n",
       "      <td>3308</td>\n",
       "      <td>2086</td>\n",
       "      <td>675</td>\n",
       "      <td>2086</td>\n",
       "      <td>31</td>\n",
       "    </tr>\n",
       "  </tbody>\n",
       "</table>\n",
       "</div>"
      ],
      "text/plain": [
       "            site1  site2  site3  site4  site5  site6  site7  site8  site9  \\\n",
       "session_id                                                                  \n",
       "0             192    574    133      3    133    133      3    133    203   \n",
       "1             415    193    674    254    133     31    393   3305    217   \n",
       "2              55      3     55     55      5    293    415    333    897   \n",
       "3             473   3306    473     55     55     55     55    937    199   \n",
       "4             342     55      5   3307    258    211   3308   2086    675   \n",
       "\n",
       "            site10  user_ID  \n",
       "session_id                   \n",
       "0              133       31  \n",
       "1               55       31  \n",
       "2               55       31  \n",
       "3              123       31  \n",
       "4             2086       31  "
      ]
     },
     "execution_count": 293,
     "metadata": {},
     "output_type": "execute_result"
    }
   ],
   "source": [
    "train_df.head()"
   ]
  },
  {
   "cell_type": "code",
   "execution_count": 11,
   "metadata": {},
   "outputs": [
    {
     "data": {
      "text/html": [
       "<div>\n",
       "<style>\n",
       "    .dataframe thead tr:only-child th {\n",
       "        text-align: right;\n",
       "    }\n",
       "\n",
       "    .dataframe thead th {\n",
       "        text-align: left;\n",
       "    }\n",
       "\n",
       "    .dataframe tbody tr th {\n",
       "        vertical-align: top;\n",
       "    }\n",
       "</style>\n",
       "<table border=\"1\" class=\"dataframe\">\n",
       "  <thead>\n",
       "    <tr style=\"text-align: right;\">\n",
       "      <th></th>\n",
       "      <th>site1</th>\n",
       "      <th>site2</th>\n",
       "      <th>site3</th>\n",
       "      <th>site4</th>\n",
       "      <th>site5</th>\n",
       "      <th>site6</th>\n",
       "      <th>site7</th>\n",
       "      <th>site8</th>\n",
       "      <th>site9</th>\n",
       "      <th>site10</th>\n",
       "      <th>user_id</th>\n",
       "    </tr>\n",
       "    <tr>\n",
       "      <th>session_id</th>\n",
       "      <th></th>\n",
       "      <th></th>\n",
       "      <th></th>\n",
       "      <th></th>\n",
       "      <th></th>\n",
       "      <th></th>\n",
       "      <th></th>\n",
       "      <th></th>\n",
       "      <th></th>\n",
       "      <th></th>\n",
       "      <th></th>\n",
       "    </tr>\n",
       "  </thead>\n",
       "  <tbody>\n",
       "    <tr>\n",
       "      <th>0</th>\n",
       "      <td>193</td>\n",
       "      <td>574</td>\n",
       "      <td>133</td>\n",
       "      <td>3</td>\n",
       "      <td>133</td>\n",
       "      <td>133</td>\n",
       "      <td>3</td>\n",
       "      <td>133</td>\n",
       "      <td>203</td>\n",
       "      <td>133</td>\n",
       "      <td>31</td>\n",
       "    </tr>\n",
       "    <tr>\n",
       "      <th>1</th>\n",
       "      <td>415</td>\n",
       "      <td>192</td>\n",
       "      <td>675</td>\n",
       "      <td>254</td>\n",
       "      <td>133</td>\n",
       "      <td>31</td>\n",
       "      <td>393</td>\n",
       "      <td>3634</td>\n",
       "      <td>217</td>\n",
       "      <td>55</td>\n",
       "      <td>31</td>\n",
       "    </tr>\n",
       "    <tr>\n",
       "      <th>2</th>\n",
       "      <td>55</td>\n",
       "      <td>3</td>\n",
       "      <td>55</td>\n",
       "      <td>55</td>\n",
       "      <td>5</td>\n",
       "      <td>293</td>\n",
       "      <td>415</td>\n",
       "      <td>333</td>\n",
       "      <td>900</td>\n",
       "      <td>55</td>\n",
       "      <td>31</td>\n",
       "    </tr>\n",
       "    <tr>\n",
       "      <th>3</th>\n",
       "      <td>473</td>\n",
       "      <td>3395</td>\n",
       "      <td>473</td>\n",
       "      <td>55</td>\n",
       "      <td>55</td>\n",
       "      <td>55</td>\n",
       "      <td>55</td>\n",
       "      <td>944</td>\n",
       "      <td>199</td>\n",
       "      <td>123</td>\n",
       "      <td>31</td>\n",
       "    </tr>\n",
       "    <tr>\n",
       "      <th>4</th>\n",
       "      <td>342</td>\n",
       "      <td>55</td>\n",
       "      <td>5</td>\n",
       "      <td>3458</td>\n",
       "      <td>258</td>\n",
       "      <td>211</td>\n",
       "      <td>3369</td>\n",
       "      <td>2096</td>\n",
       "      <td>674</td>\n",
       "      <td>2096</td>\n",
       "      <td>31</td>\n",
       "    </tr>\n",
       "  </tbody>\n",
       "</table>\n",
       "</div>"
      ],
      "text/plain": [
       "            site1  site2  site3  site4  site5  site6  site7  site8  site9  \\\n",
       "session_id                                                                  \n",
       "0             193    574    133      3    133    133      3    133    203   \n",
       "1             415    192    675    254    133     31    393   3634    217   \n",
       "2              55      3     55     55      5    293    415    333    900   \n",
       "3             473   3395    473     55     55     55     55    944    199   \n",
       "4             342     55      5   3458    258    211   3369   2096    674   \n",
       "\n",
       "            site10  user_id  \n",
       "session_id                   \n",
       "0              133       31  \n",
       "1               55       31  \n",
       "2               55       31  \n",
       "3              123       31  \n",
       "4             2096       31  "
      ]
     },
     "execution_count": 11,
     "metadata": {},
     "output_type": "execute_result"
    }
   ],
   "source": [
    "train_df.head()"
   ]
  },
  {
   "cell_type": "code",
   "execution_count": 294,
   "metadata": {},
   "outputs": [
    {
     "name": "stdout",
     "output_type": "stream",
     "text": [
      "<class 'pandas.core.frame.DataFrame'>\n",
      "Int64Index: 14061 entries, 0 to 14060\n",
      "Data columns (total 11 columns):\n",
      "site1      14061 non-null int64\n",
      "site2      14061 non-null int64\n",
      "site3      14061 non-null int64\n",
      "site4      14061 non-null int64\n",
      "site5      14061 non-null int64\n",
      "site6      14061 non-null int64\n",
      "site7      14061 non-null int64\n",
      "site8      14061 non-null int64\n",
      "site9      14061 non-null int64\n",
      "site10     14061 non-null int64\n",
      "user_ID    14061 non-null int64\n",
      "dtypes: int64(11)\n",
      "memory usage: 1.3 MB\n"
     ]
    }
   ],
   "source": [
    "train_df.info()"
   ]
  },
  {
   "cell_type": "code",
   "execution_count": 12,
   "metadata": {},
   "outputs": [
    {
     "name": "stdout",
     "output_type": "stream",
     "text": [
      "<class 'pandas.core.frame.DataFrame'>\n",
      "Int64Index: 14061 entries, 0 to 14060\n",
      "Data columns (total 11 columns):\n",
      "site1      14061 non-null int64\n",
      "site2      14061 non-null int64\n",
      "site3      14061 non-null int64\n",
      "site4      14061 non-null int64\n",
      "site5      14061 non-null int64\n",
      "site6      14061 non-null int64\n",
      "site7      14061 non-null int64\n",
      "site8      14061 non-null int64\n",
      "site9      14061 non-null int64\n",
      "site10     14061 non-null int64\n",
      "user_id    14061 non-null int64\n",
      "dtypes: int64(11)\n",
      "memory usage: 1.3 MB\n"
     ]
    }
   ],
   "source": [
    "train_df.info()"
   ]
  },
  {
   "cell_type": "markdown",
   "metadata": {},
   "source": [
    "**Распределение целевого класса:**"
   ]
  },
  {
   "cell_type": "code",
   "execution_count": 296,
   "metadata": {},
   "outputs": [
    {
     "data": {
      "text/plain": [
       "128    2796\n",
       "39     2204\n",
       "207    1868\n",
       "127    1712\n",
       "237    1643\n",
       "33     1022\n",
       "50      802\n",
       "31      760\n",
       "100     720\n",
       "241     534\n",
       "Name: user_ID, dtype: int64"
      ]
     },
     "execution_count": 296,
     "metadata": {},
     "output_type": "execute_result"
    }
   ],
   "source": [
    "train_df['user_ID'].value_counts()"
   ]
  },
  {
   "cell_type": "code",
   "execution_count": 13,
   "metadata": {},
   "outputs": [
    {
     "data": {
      "text/plain": [
       "128    2796\n",
       "39     2204\n",
       "207    1868\n",
       "127    1712\n",
       "237    1643\n",
       "33     1022\n",
       "50      802\n",
       "31      760\n",
       "100     720\n",
       "241     534\n",
       "Name: user_id, dtype: int64"
      ]
     },
     "execution_count": 13,
     "metadata": {},
     "output_type": "execute_result"
    }
   ],
   "source": [
    "train_df['user_id'].value_counts()"
   ]
  },
  {
   "cell_type": "markdown",
   "metadata": {},
   "source": [
    "**Посчитаем распределение числа уникальных сайтов в каждой сессии из 10 посещенных подряд сайтов.**"
   ]
  },
  {
   "cell_type": "code",
   "execution_count": 297,
   "metadata": {},
   "outputs": [],
   "source": [
    "num_unique_sites = [np.unique(train_df.values[i, :-1]).shape[0] \n",
    "                    for i in range(train_df.shape[0])]"
   ]
  },
  {
   "cell_type": "code",
   "execution_count": 298,
   "metadata": {},
   "outputs": [
    {
     "data": {
      "text/plain": [
       "7     2308\n",
       "6     2197\n",
       "8     2046\n",
       "5     1735\n",
       "9     1394\n",
       "2     1246\n",
       "4     1163\n",
       "3      894\n",
       "10     651\n",
       "1      427\n",
       "dtype: int64"
      ]
     },
     "execution_count": 298,
     "metadata": {},
     "output_type": "execute_result"
    }
   ],
   "source": [
    "pd.Series(num_unique_sites).value_counts()"
   ]
  },
  {
   "cell_type": "code",
   "execution_count": 15,
   "metadata": {},
   "outputs": [
    {
     "data": {
      "text/plain": [
       "7     2308\n",
       "6     2197\n",
       "8     2046\n",
       "5     1735\n",
       "9     1394\n",
       "2     1246\n",
       "4     1163\n",
       "3      894\n",
       "10     651\n",
       "1      427\n",
       "dtype: int64"
      ]
     },
     "execution_count": 15,
     "metadata": {},
     "output_type": "execute_result"
    }
   ],
   "source": [
    "pd.Series(num_unique_sites).value_counts()"
   ]
  },
  {
   "cell_type": "code",
   "execution_count": 299,
   "metadata": {},
   "outputs": [
    {
     "data": {
      "text/plain": [
       "<matplotlib.axes._subplots.AxesSubplot at 0x233974b9390>"
      ]
     },
     "execution_count": 299,
     "metadata": {},
     "output_type": "execute_result"
    },
    {
     "data": {
      "image/png": "[encoded data removed]",
      "text/plain": [
       "<Figure size 432x288 with 1 Axes>"
      ]
     },
     "metadata": {
      "needs_background": "light"
     },
     "output_type": "display_data"
    }
   ],
   "source": [
    "pd.Series(num_unique_sites).hist()"
   ]
  },
  {
   "cell_type": "code",
   "execution_count": 16,
   "metadata": {},
   "outputs": [
    {
     "data": {
      "image/png": "[encoded data removed]",
      "text/plain": [
       "<matplotlib.figure.Figure at 0x10d1d48d0>"
      ]
     },
     "metadata": {},
     "output_type": "display_data"
    }
   ],
   "source": [
    "pd.Series(num_unique_sites).hist();"
   ]
  },
  {
   "cell_type": "markdown",
   "metadata": {},
   "source": [
    "**Проверьте с помощью QQ-плота и критерия Шапиро-Уилка, что эта величина распределена нормально**"
   ]
  },
  {
   "cell_type": "markdown",
   "metadata": {},
   "source": [
    "**<font color='red'> Вопрос 2. </font>Распределено ли нормально число уникальных сайтов в каждой сессии из 10 посещенных подряд сайтов (согласно критерию Шапиро-Уилка)?**"
   ]
  },
  {
   "cell_type": "code",
   "execution_count": 306,
   "metadata": {},
   "outputs": [
    {
     "data": {
      "image/png": "[encoded data removed]",
      "text/plain": [
       "<Figure size 432x288 with 1 Axes>"
      ]
     },
     "metadata": {
      "needs_background": "light"
     },
     "output_type": "display_data"
    },
    {
     "name": "stdout",
     "output_type": "stream",
     "text": [
      "Shapiro-Wilk normality test, W-statistic: 0.954693, p-value: 0.000000\n"
     ]
    }
   ],
   "source": [
    "''' ВАШ КОД ЗДЕСЬ '''\n",
    "stats.probplot(num_unique_sites, plot=plt)\n",
    "plt.show()\n",
    "print(\"Shapiro-Wilk normality test, W-statistic: %f, p-value: %f\" % stats.shapiro(num_unique_sites))\n"
   ]
  },
  {
   "cell_type": "markdown",
   "metadata": {},
   "source": [
    "**Проверьте гипотезу о том, что пользователь хотя бы раз зайдет на сайт, который он уже ранее посетил в сессии из 10 сайтов. Давайте проверим с помощью биномиального критерия для доли, что доля случаев, когда пользователь повторно посетил какой-то сайт (то есть число уникальных сайтов в сессии < 10) велика: больше 95% (обратите внимание, что альтернатива тому, что доля равна 95% –  одностороняя). Ответом на 3 вопрос в тесте будет полученное p-value.**"
   ]
  },
  {
   "cell_type": "markdown",
   "metadata": {},
   "source": [
    "**<font color='red'> Вопрос 3. </font>Каково p-value при проверке описанной гипотезы?**"
   ]
  },
  {
   "cell_type": "code",
   "execution_count": 305,
   "metadata": {},
   "outputs": [
    {
     "data": {
      "text/plain": [
       "array([1, 0, 1, ..., 1, 1, 1])"
      ]
     },
     "execution_count": 305,
     "metadata": {},
     "output_type": "execute_result"
    }
   ],
   "source": [
    "has_two_similar = (np.array(num_unique_sites) < 10).astype('int')\n",
    "has_two_similar "
   ]
  },
  {
   "cell_type": "code",
   "execution_count": 313,
   "metadata": {},
   "outputs": [
    {
     "data": {
      "text/plain": [
       "0.02207653769072678"
      ]
     },
     "execution_count": 313,
     "metadata": {},
     "output_type": "execute_result"
    }
   ],
   "source": [
    "''' ВАШ КОД ЗДЕСЬ '''\n",
    "pi_val = stats.binom_test(sum(has_two_similar),has_two_similar.shape[0], p=0.95,alternative = 'greater')\n",
    "pi_val\n"
   ]
  },
  {
   "cell_type": "markdown",
   "metadata": {},
   "source": [
    "**<font color='red'> Вопрос 4. </font>Каков 95% доверительный интервал Уилсона для доли случаев, когда пользователь повторно посетил какой-то сайт (из п. 3)?**"
   ]
  },
  {
   "cell_type": "code",
   "execution_count": 314,
   "metadata": {},
   "outputs": [
    {
     "data": {
      "text/plain": [
       "(0.9501028841411286, 0.9570527377232229)"
      ]
     },
     "execution_count": 314,
     "metadata": {},
     "output_type": "execute_result"
    }
   ],
   "source": [
    "wilson_interval = proportion_confint(sum(has_two_similar), has_two_similar.shape[0], method = 'wilson')\n",
    "wilson_interval"
   ]
  },
  {
   "cell_type": "code",
   "execution_count": 315,
   "metadata": {},
   "outputs": [
    {
     "name": "stdout",
     "output_type": "stream",
     "text": [
      "0.95 0.957\n"
     ]
    }
   ],
   "source": [
    "print('{} {}'.format(round(wilson_interval[0], 3),\n",
    "                                   round(wilson_interval[1], 3)))"
   ]
  },
  {
   "cell_type": "markdown",
   "metadata": {},
   "source": [
    "**Постройте распределение частоты посещения сайтов (сколько раз тот или иной сайт попадается в выборке) для сайтов, которые были посещены как минимум 1000 раз.**"
   ]
  },
  {
   "cell_type": "code",
   "execution_count": 317,
   "metadata": {},
   "outputs": [
    {
     "data": {
      "text/plain": [
       "{'s.youtube.com': [1, 8300],\n",
       " 'www.google.fr': [2, 7813],\n",
       " 'www.google.com': [3, 5441],\n",
       " 'mail.google.com': [4, 4158],\n",
       " 'www.facebook.com': [5, 4141],\n",
       " 'apis.google.com': [6, 3758],\n",
       " 'r3---sn-gxo5uxg-jqbe.googlevideo.com': [7, 3244],\n",
       " 'r1---sn-gxo5uxg-jqbe.googlevideo.com': [8, 3094],\n",
       " 'plus.google.com': [9, 2630],\n",
       " 'accounts.google.com': [10, 2089],\n",
       " 'r2---sn-gxo5uxg-jqbe.googlevideo.com': [11, 1939],\n",
       " 'fr-mg42.mail.yahoo.com': [12, 1868],\n",
       " 'www.youtube.com': [13, 1804],\n",
       " 'r4---sn-gxo5uxg-jqbe.googlevideo.com': [14, 1702],\n",
       " 'clients1.google.com': [15, 1493],\n",
       " 'download.jboss.org': [16, 1441],\n",
       " 's-static.ak.facebook.com': [17, 1388],\n",
       " 'static.ak.facebook.com': [18, 1265],\n",
       " 'i1.ytimg.com': [19, 1232],\n",
       " 'twitter.com': [20, 1204],\n",
       " 'accounts.youtube.com': [21, 1057],\n",
       " 'platform.twitter.com': [22, 1041],\n",
       " 'clients6.google.com': [23, 1039],\n",
       " 'safebrowsing-cache.google.com': [24, 1039],\n",
       " 'translate.google.fr': [25, 1002],\n",
       " 'api.twitter.com': [26, 982],\n",
       " 'accounts.google.fr': [27, 974],\n",
       " 'talkgadget.google.com': [28, 965],\n",
       " 'mts0.google.com': [29, 763],\n",
       " 'clients2.google.com': [30, 748],\n",
       " 'ajax.googleapis.com': [31, 711],\n",
       " 'login.yahoo.com': [32, 700],\n",
       " 'chatenabled.mail.google.com': [33, 676],\n",
       " 'media.melty.fr': [34, 671],\n",
       " 'mts1.google.com': [35, 666],\n",
       " 'fr.openclassrooms.com': [36, 662],\n",
       " 'safebrowsing.clients.google.com': [37, 598],\n",
       " 's.ytimg.com': [38, 583],\n",
       " 'javadl-esd-secure.oracle.com': [39, 582],\n",
       " 'maps.googleapis.com': [40, 559],\n",
       " 'login.live.com': [41, 553],\n",
       " 'maps.google.fr': [42, 531],\n",
       " 'ieonline.microsoft.com': [43, 484],\n",
       " 'connect.facebook.net': [44, 482],\n",
       " 'h.live.com': [45, 482],\n",
       " 'syndication.twitter.com': [46, 463],\n",
       " 'khms1.google.fr': [47, 460],\n",
       " 'khms0.google.fr': [48, 454],\n",
       " 'docs.oracle.com': [49, 442],\n",
       " 'www.melty.fr': [50, 439],\n",
       " 'drive.google.com': [51, 427],\n",
       " 'ocsp.digicert.com': [52, 416],\n",
       " 'www.linkedin.com': [53, 407],\n",
       " 'bits.wikimedia.org': [54, 402],\n",
       " 'webmail.laposte.net': [55, 399],\n",
       " 'fr.yahoo.com': [56, 379],\n",
       " 'ycpi-mail-rest-core4.msg.yahoo.com': [57, 367],\n",
       " 'www.developpez.net': [58, 357],\n",
       " 'fbstatic-a.akamaihd.net': [59, 357],\n",
       " 'armmf.adobe.com': [60, 339],\n",
       " 'www.bing.com': [61, 332],\n",
       " 'fr.wikipedia.org': [62, 330],\n",
       " 'www.stid-france.com': [63, 330],\n",
       " 'translate.google.com': [64, 326],\n",
       " 'accounts.google.dz': [65, 319],\n",
       " 'download.oracle.com': [66, 313],\n",
       " 'gtssl-ocsp.geotrust.com': [67, 297],\n",
       " 'ucs.query.yahoo.com': [68, 295],\n",
       " 'www.oracle.com': [69, 293],\n",
       " 'bay178.mail.live.com': [70, 288],\n",
       " 'g.msn.com': [71, 281],\n",
       " 'gtglobal-ocsp.geotrust.com': [72, 279],\n",
       " 'pixel.alephd.com': [73, 275],\n",
       " 'live.lemde.fr': [74, 274],\n",
       " 'plus.googleapis.com': [75, 270],\n",
       " 'halc.iadvize.com': [76, 268],\n",
       " 'gg.google.com': [77, 267],\n",
       " 'yt3.ggpht.com': [78, 265],\n",
       " 'regie2.iquesta.com': [79, 261],\n",
       " 'ocsp.thawte.com': [80, 257],\n",
       " 'go.microsoft.com': [81, 253],\n",
       " 'windowslive.tt.omtrdc.net': [82, 250],\n",
       " 'auto-ecole-cezeaux-clermont-freand.packweb2.com': [83, 243],\n",
       " 'www.linternaute.com': [84, 241],\n",
       " 'ocsp.verisign.com': [85, 239],\n",
       " 'meta.wikimedia.org': [86, 234],\n",
       " 'its.tradelab.fr': [87, 230],\n",
       " 'clients1.google.fr': [88, 226],\n",
       " 'fbexternal-a.akamaihd.net': [89, 225],\n",
       " 'static.ccm2.net': [90, 213],\n",
       " 'khms0.google.com': [91, 208],\n",
       " 'doug1izaerwt3.cloudfront.net': [92, 207],\n",
       " 'api.bing.com': [93, 205],\n",
       " 'fbcdn-creative-a.akamaihd.net': [94, 200],\n",
       " 'go.trouter.io': [95, 191],\n",
       " 'khms1.google.com': [96, 188],\n",
       " 'secure.shared.live.com': [97, 180],\n",
       " 'deliv.leboncoin.fr': [98, 179],\n",
       " 'people.directory.live.com': [99, 172],\n",
       " 'www.iquesta.com': [100, 170],\n",
       " 'static.ccmbg.com': [101, 167],\n",
       " 'maps.google.com': [102, 167],\n",
       " 'www.developpez.com': [103, 164],\n",
       " 'secure.footprint.net': [104, 164],\n",
       " 'www.googleapis.com': [105, 163],\n",
       " 'hal9000.redintelligence.net': [106, 162],\n",
       " 'evsecure-ocsp.verisign.com': [107, 161],\n",
       " 'ba.commentcamarche.net': [108, 160],\n",
       " 'repo.maven.apache.org': [109, 157],\n",
       " 'socialprofiles.zenfs.com': [110, 154],\n",
       " 'ir2-attach.mail.yahoo.com': [111, 154],\n",
       " 'ocsp.usertrust.com': [112, 151],\n",
       " 'geo0.ggpht.com': [113, 151],\n",
       " 'limos.raksmey.fr': [114, 150],\n",
       " 'b.mail.google.com': [115, 141],\n",
       " 'skydrive.live.com': [116, 140],\n",
       " 'www.commentcamarche.net': [117, 139],\n",
       " 'osm.geobretagne.fr': [118, 139],\n",
       " 'www.gravatar.com': [119, 138],\n",
       " 'www.chu-clermontferrand.fr': [120, 138],\n",
       " 'mts3.google.com': [121, 137],\n",
       " 'www.francetvinfo.fr': [122, 137],\n",
       " 'av.mediapostcommunication.net': [123, 133],\n",
       " 'docs.google.com': [124, 133],\n",
       " 'widgets.pinterest.com': [125, 132],\n",
       " 'mts2.google.com': [126, 132],\n",
       " 'disqus.com': [127, 130],\n",
       " 'um.simpli.fi': [128, 129],\n",
       " 'geo1.ggpht.com': [129, 126],\n",
       " 'platform.linkedin.com': [130, 123],\n",
       " 'ad.melty.fr': [131, 122],\n",
       " 'fr.msn.com': [132, 121],\n",
       " 'www.laposte.net': [133, 119],\n",
       " 'geo3.ggpht.com': [134, 119],\n",
       " 'fr.news.yahoo.com': [135, 118],\n",
       " 'premium.hi-mediaserver.com': [136, 117],\n",
       " 'gdata.youtube.com': [137, 116],\n",
       " 'ocsp.tcs.terena.org': [138, 116],\n",
       " 'geo2.ggpht.com': [139, 116],\n",
       " 'fr.mail.yahoo.com': [140, 116],\n",
       " 'ak.cdiscount.com': [141, 116],\n",
       " 'login.wikimedia.org': [142, 115],\n",
       " 'mg.mail.yahoo.com': [143, 115],\n",
       " 'c.msn.com': [144, 114],\n",
       " 'www.jeux-geographiques.com': [145, 114],\n",
       " 'r.ccmbg.com': [146, 113],\n",
       " 'h2.msn.com': [147, 112],\n",
       " 'fr.massivetriviaquiz.com': [148, 111],\n",
       " 'pbs.twimg.com': [149, 111],\n",
       " 'www.voyages-sncf.com': [150, 111],\n",
       " 'www.dropbox.com': [151, 111],\n",
       " 'www.youtube-nocookie.com': [152, 110],\n",
       " 'dub125.mail.live.com': [153, 110],\n",
       " 'full-stream.net': [154, 109],\n",
       " 'www.google.dz': [155, 107],\n",
       " 'p.sfx.ms': [156, 106],\n",
       " 'dnn506yrbagrg.cloudfront.net': [157, 105],\n",
       " 'www.showroomprive.com': [158, 105],\n",
       " 'storage.live.com': [159, 104],\n",
       " 'js.microsoft.com': [160, 103],\n",
       " 'apex.oracle.com': [161, 103],\n",
       " 'dub116.mail.live.com': [162, 103],\n",
       " 'static.leboncoin.fr': [163, 103],\n",
       " 'windows.microsoft.com': [164, 102],\n",
       " 'mail.live.com': [165, 101],\n",
       " 'www.letudiant.fr': [166, 100],\n",
       " 'res1.windows.microsoft.com': [167, 99],\n",
       " 'www.google.com.pe': [168, 99],\n",
       " 'dub114.mail.live.com': [169, 99],\n",
       " 'choices.truste.com': [170, 98],\n",
       " 'www.journaldunet.com': [171, 98],\n",
       " 'pixel2368.everesttech.net': [172, 97],\n",
       " 'banniere.reussissonsensemble.fr': [173, 97],\n",
       " 'ba.linternaute.com': [174, 97],\n",
       " 'stackoverflow.com': [175, 96],\n",
       " 'www.leboncoin.fr': [176, 95],\n",
       " 'locdrop.query.yahoo.com': [177, 94],\n",
       " 'www.w3schools.com': [178, 94],\n",
       " 'mt0.googleapis.com': [179, 93],\n",
       " 'mt1.googleapis.com': [180, 93],\n",
       " 'as.showroomprive.com': [181, 93],\n",
       " 'res2.windows.microsoft.com': [182, 92],\n",
       " 'www.games-workshop.com': [183, 92],\n",
       " 'evintl-ocsp.verisign.com': [184, 91],\n",
       " '160.92.123.193': [185, 91],\n",
       " 'www.lequipe.fr': [186, 90],\n",
       " 'js.live.net': [187, 90],\n",
       " 'careers.accenture.com': [188, 89],\n",
       " 'ajax.coveritlive.com': [189, 89],\n",
       " 'fbcdn-sphotos-b-a.akamaihd.net': [190, 89],\n",
       " 'cbk0.googleapis.com': [191, 89],\n",
       " 'fpdownload2.macromedia.com': [192, 88],\n",
       " 'rp.gwallet.com': [193, 88],\n",
       " 'ftn.fortuneo.fr': [194, 87],\n",
       " 'fbcdn-sphotos-c-a.akamaihd.net': [195, 87],\n",
       " 'www.byperiscope.com': [196, 87],\n",
       " 'ws.mediapostcommunication.net': [197, 86],\n",
       " 'marketplace.eclipse.org': [198, 86],\n",
       " 'rs.mediapostcommunication.net': [199, 85],\n",
       " 'p.typekit.net': [200, 85],\n",
       " 'www.cdiscount.com': [201, 85],\n",
       " 'fbcdn-sphotos-f-a.akamaihd.net': [202, 85],\n",
       " 'match.rtbidder.net': [203, 84],\n",
       " 'w.sharethis.com': [204, 84],\n",
       " 'proxy-bay-people.directory.live.com': [205, 83],\n",
       " 'wwwd.caf.fr': [206, 83],\n",
       " 'www.dailymotion.com': [207, 82],\n",
       " 'www.blogger.com': [208, 82],\n",
       " 'www.squid-cache.org': [209, 82],\n",
       " 'www.coutellerie-tourangelle.com': [210, 82],\n",
       " 'probe.cedexis.org': [211, 81],\n",
       " 'ce.lijit.com': [212, 81],\n",
       " 'id.google.fr': [213, 80],\n",
       " 'mm.eulerian.net': [214, 79],\n",
       " 'www.gmail.com': [215, 79],\n",
       " 'prod.registrar.skype.com': [216, 79],\n",
       " 'limelight.cedexis.com': [217, 78],\n",
       " 'ocsp.godaddy.com': [218, 78],\n",
       " 'office.microsoft.com': [219, 78],\n",
       " 'fbcdn-sphotos-d-a.akamaihd.net': [220, 78],\n",
       " 'r7---sn-cg07lues.googlevideo.com': [221, 78],\n",
       " 'www.audienceinsights.net': [222, 77],\n",
       " 'dlc.sun.com.edgesuite.net': [223, 77],\n",
       " 'r2---sn-cg07luez.googlevideo.com': [224, 77],\n",
       " 'www.cg18.fr': [225, 77],\n",
       " 'cloudfront.cedexis.com': [226, 76],\n",
       " '0.gravatar.com': [227, 76],\n",
       " 'www.t2c.fr': [228, 76],\n",
       " 'g.live.com': [229, 76],\n",
       " 'proxy-blu-people.directory.live.com': [230, 76],\n",
       " 'fbcdn-sphotos-g-a.akamaihd.net': [231, 76],\n",
       " 'vp-eu.scene7.com': [232, 75],\n",
       " 'r6---sn-cg07lues.googlevideo.com': [233, 75],\n",
       " 'static.iquesta.com': [234, 75],\n",
       " 'fbcdn-sphotos-h-a.akamaihd.net': [235, 74],\n",
       " 'fansubresistance.in': [236, 73],\n",
       " 'news.google.fr': [237, 72],\n",
       " 'ea.numericable.fr': [238, 72],\n",
       " 'java.sun.com': [239, 72],\n",
       " 'www.covoiturage.fr': [240, 72],\n",
       " 'img.babylon.com': [241, 71],\n",
       " 'www.talendforge.org': [242, 71],\n",
       " 'updates.netbeans.org': [243, 71],\n",
       " 'code.jquery.com': [244, 69],\n",
       " 'ad.publicidees.com': [245, 68],\n",
       " 'adventori.com': [246, 68],\n",
       " 'img1.video.s-msn.com': [247, 68],\n",
       " 'yui.yahooapis.com': [248, 67],\n",
       " 'api.skype.com': [249, 67],\n",
       " 'ba.journaldunet.com': [250, 67],\n",
       " 'apnx-match.dotomi.com': [251, 66],\n",
       " 'www.lordoftheringswords.com': [252, 66],\n",
       " 'www.chu-tours.fr': [253, 66],\n",
       " 'dl.javafx.com': [254, 65],\n",
       " 'dub130.mail.live.com': [255, 65],\n",
       " 'hub.video.msn.com': [256, 65],\n",
       " 'fbcdn-sphotos-e-a.akamaihd.net': [257, 65],\n",
       " 'level3.cedexis.com': [258, 64],\n",
       " 'ocsp.comodoca.com': [259, 64],\n",
       " 'ping.mail.yahoo.com': [260, 64],\n",
       " 'www.brandalley.fr': [261, 64],\n",
       " 'clicks.beap.bc.yahoo.com': [262, 63],\n",
       " 'www.rivesparis.banquepopulaire.fr': [263, 63],\n",
       " 'jobs-stages.letudiant.fr': [264, 63],\n",
       " 'armdl.adobe.com': [265, 62],\n",
       " 'player.vimeo.com': [266, 62],\n",
       " 'tracking.melty.fr': [267, 62],\n",
       " 'www.mindat.org': [268, 61],\n",
       " 'shell.windows.com': [269, 61],\n",
       " 'i-cms.linternaute.com': [270, 61],\n",
       " 'support.sas.com': [271, 61],\n",
       " 'www.medi-partenaires.com': [272, 61],\n",
       " 'media-1.melty.fr': [273, 60],\n",
       " 's0.wp.com': [274, 59],\n",
       " 'ia.nspmotion.com': [275, 59],\n",
       " 'fdata.over-blog.net': [276, 59],\n",
       " 'network.aufeminin.com': [277, 59],\n",
       " 'dub128.mail.live.com': [278, 59],\n",
       " 'graph.facebook.com': [279, 59],\n",
       " '1.gravatar.com': [280, 59],\n",
       " 'fbcdn-photos-b-a.akamaihd.net': [281, 59],\n",
       " 'fbcdn-sphotos-a-a.akamaihd.net': [282, 59],\n",
       " 'cdn-careers.sstatic.net': [283, 58],\n",
       " 'cid-4b3abd3dcf708cdf.users.storage.live.com': [284, 57],\n",
       " 'www.talend.com': [285, 57],\n",
       " 'spagobi.eng.it': [286, 57],\n",
       " 'photos.fr.msn.com': [287, 57],\n",
       " 'go.disqus.com': [288, 56],\n",
       " 'prod4.rest-core.msg.yahoo.com': [289, 56],\n",
       " 'fbcdn-photos-d-a.akamaihd.net': [290, 56],\n",
       " 'fbcdn-photos-h-a.akamaihd.net': [291, 56],\n",
       " 'www.grdf.fr': [292, 56],\n",
       " 'rubicon-match.dotomi.com': [293, 55],\n",
       " 'www.ibm.com': [294, 55],\n",
       " 'www.histoiredor.com': [295, 55],\n",
       " 'rapidssl-ocsp.geotrust.com': [296, 54],\n",
       " 'careers.stackoverflow.com': [297, 54],\n",
       " 'byperiscopfr.track.emarketing-factory.com': [298, 54],\n",
       " 'picda.ilius.net': [299, 53],\n",
       " 'http.tidaltv.com': [300, 53],\n",
       " 'miniimg4.rightinthebox.com': [301, 53],\n",
       " 'sourceforge.net': [302, 53],\n",
       " 'iquesta.com': [303, 53],\n",
       " 'ocsp.entrust.net': [304, 52],\n",
       " 'mail.yahoo.com': [305, 52],\n",
       " 'api.facebook.com': [306, 52],\n",
       " 'word-edit.officeapps.live.com': [307, 52],\n",
       " 'media.brandalley.com': [308, 52],\n",
       " 'snt146.mail.live.com': [309, 52],\n",
       " 'static.s-sfr.fr': [310, 51],\n",
       " 'ajax.microsoft.com': [311, 51],\n",
       " 'c.fr.msn.com': [312, 51],\n",
       " 'mw2.google.com': [313, 51],\n",
       " 'assets.pinterest.com': [314, 51],\n",
       " 'fbcdn-photos-f-a.akamaihd.net': [315, 51],\n",
       " 'fbcdn-photos-g-a.akamaihd.net': [316, 51],\n",
       " 'www.dell.com': [317, 51],\n",
       " 'www.journaldesfemmes.com': [318, 50],\n",
       " 'www.caf.fr': [319, 50],\n",
       " 'miniimg6.rightinthebox.com': [320, 50],\n",
       " 'livestats.fr': [321, 50],\n",
       " 'gm1.ggpht.com': [322, 50],\n",
       " '0.drive.google.com': [323, 49],\n",
       " 'offres.groupama-gan-recrute.com': [324, 49],\n",
       " 'www.lamontagne.fr': [325, 49],\n",
       " 'www.ultimedia.com': [326, 48],\n",
       " 'www.miniinthebox.com': [327, 48],\n",
       " 'miniimg3.rightinthebox.com': [328, 48],\n",
       " 'miniimg1.rightinthebox.com': [329, 48],\n",
       " 'fr.scribd.com': [330, 48],\n",
       " 'rs2.scribd.com': [331, 48],\n",
       " 'wikiora.com': [332, 48],\n",
       " 'pr.ybp.yahoo.com': [333, 47],\n",
       " 'blufiles.storage.msn.com': [334, 47],\n",
       " 'fr.vente-privee.com': [335, 47],\n",
       " 'kissanime.com': [336, 47],\n",
       " 'miniimg5.rightinthebox.com': [337, 47],\n",
       " 'oracle.developpez.com': [338, 47],\n",
       " 'i-cms.journaldunet.com': [339, 47],\n",
       " 'www.youscribe.com': [340, 47],\n",
       " 'fbcdn-photos-a-a.akamaihd.net': [341, 47],\n",
       " 'rbp.mxptint.net': [342, 46],\n",
       " 'c1.adform.net': [343, 46],\n",
       " 'ecx.images-amazon.com': [344, 46],\n",
       " 'translate.googleapis.com': [345, 46],\n",
       " 'netbeans.org': [346, 46],\n",
       " 'download.eclipse.org': [347, 46],\n",
       " 'ea.histoiredor.com': [348, 46],\n",
       " 'dub121.mail.live.com': [349, 46],\n",
       " 'bitgravity.cedexis.com': [350, 45],\n",
       " 'dl.patchbeam.com': [351, 45],\n",
       " 'www.wat.tv': [352, 45],\n",
       " 'wtpn.twenga.fr': [353, 45],\n",
       " 'www.meltybuzz.fr': [354, 45],\n",
       " 'miniimg2.rightinthebox.com': [355, 45],\n",
       " 'fbcdn-photos-c-a.akamaihd.net': [356, 45],\n",
       " 'www.michelin.com': [357, 45],\n",
       " 'khm1.googleapis.com': [358, 45],\n",
       " 's1.lemde.fr': [359, 44],\n",
       " 'khms2.google.com': [360, 44],\n",
       " 'factominer.free.fr': [361, 44],\n",
       " 'www.tour-du-monde-80-idees-neuves.com': [362, 44],\n",
       " 'www.michelincareers.com': [363, 44],\n",
       " 'www.avise.org': [364, 44],\n",
       " 'avis.cdiscount.com': [365, 44],\n",
       " 'www.sfr.fr': [366, 43],\n",
       " 'netdna.cedexis.com': [367, 43],\n",
       " 'miniimg7.rightinthebox.com': [368, 43],\n",
       " 'stackauth.com': [369, 43],\n",
       " 'books.google.fr': [370, 43],\n",
       " 'www.franceo.fr': [371, 43],\n",
       " '193.164.196.60': [372, 43],\n",
       " '193.164.196.40': [373, 43],\n",
       " 'www.ac-orleans-tours.fr': [374, 43],\n",
       " 'api.adyoulike.com': [375, 42],\n",
       " 'medias.lequipe.fr': [376, 42],\n",
       " 'apikeys.civiccomputing.com': [377, 42],\n",
       " 'jdn.monster.com': [378, 42],\n",
       " 'discovery.renater.fr': [379, 42],\n",
       " 'www.reddit.com': [380, 42],\n",
       " 'nexus.ensighten.com': [381, 42],\n",
       " '193.164.197.50': [382, 42],\n",
       " 'fbcdn-photos-e-a.akamaihd.net': [383, 42],\n",
       " 'r.ccm2.net': [384, 41],\n",
       " 'static.lequipe.fr': [385, 41],\n",
       " 'player.ooyala.com': [386, 41],\n",
       " 'khms3.google.com': [387, 41],\n",
       " 'miniimg8.rightinthebox.com': [388, 41],\n",
       " 'omni.accenture.com': [389, 41],\n",
       " '193.164.197.40': [390, 41],\n",
       " 'compteperso.leboncoin.fr': [391, 41],\n",
       " 'pole-sante-republique.medi-partenaires.com': [392, 41],\n",
       " 'api.dailymotion.com': [393, 40],\n",
       " 'evt.adrcntr.com': [394, 40],\n",
       " 'od2.visiblemeasures.com': [395, 40],\n",
       " 'fastly.bench.cedexis.com': [396, 40],\n",
       " 's2.wp.com': [397, 40],\n",
       " 'www.emploi.bouyguestelecom.fr': [398, 40],\n",
       " 'us.lrd.yahoo.com': [399, 40],\n",
       " '193.164.197.60': [400, 40],\n",
       " 'khm0.googleapis.com': [401, 40],\n",
       " 'eulerian.canal-plus.com': [402, 39],\n",
       " 'blufiles.storage.live.com': [403, 39],\n",
       " 'a248.e.akamai.net': [404, 39],\n",
       " 'metrics.cdiscount.com': [405, 39],\n",
       " '193.164.196.50': [406, 39],\n",
       " 'bigup.madmoizelle.com': [407, 39],\n",
       " 'static.siteduzero.com': [408, 38],\n",
       " 'www.apache.org': [409, 38],\n",
       " 'a.fsdn.com': [410, 38],\n",
       " 'static.francetv.fr': [411, 38],\n",
       " 'bfss.cr-auvergne.fr': [412, 38],\n",
       " '193.164.196.30': [413, 38],\n",
       " 'cbk1.googleapis.com': [414, 38],\n",
       " 'x2.vindicosuite.com': [415, 37],\n",
       " 'ak.c.ooyala.com': [416, 37],\n",
       " 'javadl-esd.sun.com': [417, 37],\n",
       " 'dc1w54.wysistat.com': [418, 37],\n",
       " 'cache.20minutes.fr': [419, 37],\n",
       " 'gmail.com': [420, 37],\n",
       " 'pings.conviva.com': [421, 37],\n",
       " 'spot.static.meetic.com': [422, 37],\n",
       " 'www.aufeminin.com': [423, 37],\n",
       " 'cdn2.reverso.net': [424, 37],\n",
       " '193.164.197.30': [425, 37],\n",
       " 'www.lemonde.fr': [426, 36],\n",
       " 'img2.video.s-msn.com': [427, 36],\n",
       " 'eros.usgs.gov': [428, 36],\n",
       " 'www.ngwinfo.com': [429, 36],\n",
       " 'z-ecx.images-amazon.com': [430, 36],\n",
       " 'www.stage.fr': [431, 36],\n",
       " 'mts0.googleapis.com': [432, 36],\n",
       " 'media.histoiredor.com': [433, 36],\n",
       " 'ig4.i-grasp.com': [434, 36],\n",
       " 'www.govoyages.com': [435, 36],\n",
       " 'illiweb.com': [436, 35],\n",
       " 'g-ecx.images-amazon.com': [437, 35],\n",
       " 'www.amazon.fr': [438, 35],\n",
       " 'xslttest.appspot.com': [439, 35],\n",
       " 'accenture.tt.omtrdc.net': [440, 35],\n",
       " 'www.isima.fr': [441, 35],\n",
       " 'cid-b1a1925cdfe846a7.users.storage.live.com': [442, 35],\n",
       " 'sci.sciences.univ-bpclermont.fr': [443, 34],\n",
       " 'word-view.officeapps.live.com': [444, 34],\n",
       " 'core.adprotected.com': [445, 34],\n",
       " 'www.airfrance.fr': [446, 34],\n",
       " 'log.caspion.com': [447, 34],\n",
       " 'pic.dhe.ibm.com': [448, 34],\n",
       " 'fbcdn-vthumb-a.akamaihd.net': [449, 34],\n",
       " 'fcs.dell.com': [450, 34],\n",
       " 'www.cg37.fr': [451, 34],\n",
       " 'videosfr.s3.amazonaws.com': [452, 33],\n",
       " 'cip.gagnoo.com': [453, 33],\n",
       " 'livepassdl.conviva.com': [454, 33],\n",
       " 'style.ad6.fr': [455, 33],\n",
       " 'www.rhul.ac.uk': [456, 33],\n",
       " 'cs.specificclick.net': [457, 33],\n",
       " 'skyapi.skydrive.live.com': [458, 33],\n",
       " 'groupes.renater.fr': [459, 33],\n",
       " 'www.gmx.fr': [460, 33],\n",
       " 'www.cloveretl.com': [461, 33],\n",
       " 'www.visainfoservices.com': [462, 33],\n",
       " 'google.fr': [463, 32],\n",
       " 'messagerie-11.sfr.fr': [464, 32],\n",
       " 'images.orangepublicite.fr': [465, 32],\n",
       " 'login.skype.com': [466, 32],\n",
       " 'www.caisse-epargne.fr': [467, 32],\n",
       " 'mts1.googleapis.com': [468, 32],\n",
       " 'repository.apache.org': [469, 32],\n",
       " 'eulerian.brandalley.fr': [470, 32],\n",
       " 'www.ac-clermont.fr': [471, 32],\n",
       " 'semio1.files.wordpress.com': [472, 32],\n",
       " 'b12.myspace.com': [473, 31],\n",
       " 'www.mathworks.fr': [474, 31],\n",
       " 'pt200204.unica.com': [475, 31],\n",
       " 'img.over-blog.com': [476, 31],\n",
       " 'www.cartejeunes-nouveaumonde.fr': [477, 31],\n",
       " 'www.melty.de': [478, 31],\n",
       " 'y.one.impact-ad.jp': [479, 31],\n",
       " 'sync.uuidcshmg.com': [480, 31],\n",
       " 'resources.arcgis.com': [481, 31],\n",
       " 'fr.web.img6.acsta.net': [482, 31],\n",
       " 'lc.iadvize.com': [483, 31],\n",
       " 'www.kfc.fr': [484, 31],\n",
       " 'fr.pourelles.yahoo.com': [485, 31],\n",
       " 'www.les-mathematiques.net': [486, 31],\n",
       " 'msfs.nspmotion.com': [487, 30],\n",
       " 's3-eu-west-1.amazonaws.com': [488, 30],\n",
       " 'sites.google.com': [489, 30],\n",
       " 'c.live.com': [490, 30],\n",
       " 'www.viedemerde.fr': [491, 30],\n",
       " 'media.fan2.fr': [492, 30],\n",
       " 'dev.twitter.com': [493, 30],\n",
       " 'www.stumbleupon.com': [494, 30],\n",
       " 'www.capital.fr': [495, 30],\n",
       " 'img1.blogblog.com': [496, 29],\n",
       " '2.bp.blogspot.com': [497, 29],\n",
       " 'adzerk-www.s3.amazonaws.com': [498, 29],\n",
       " 'rs4.scribd.com': [499, 29],\n",
       " 'lh6.ggpht.com': [500, 29],\n",
       " 'www.coveritlive.com': [501, 29],\n",
       " 'www.pfl-cepia.inra.fr': [502, 29],\n",
       " 'www.business.gov.au': [503, 29],\n",
       " 's.videostep.com': [504, 28],\n",
       " 'www.powerarchiver.com': [505, 28],\n",
       " 'cid-0f9a1ff31470c0bc.users.storage.live.com': [506, 28],\n",
       " '85.17.77.13': [507, 28],\n",
       " 'images.gx101.com': [508, 28],\n",
       " 'media.meltybuzz.fr': [509, 28],\n",
       " 'www.fan2.fr': [510, 28],\n",
       " 'qsearch.media.net': [511, 28],\n",
       " 'gdfsuez.taleo.net': [512, 28],\n",
       " 'boutique-online.orange.fr': [513, 27],\n",
       " 'www.lerugbynistere.fr': [514, 27],\n",
       " 'widget.achetezfacile.com': [515, 27],\n",
       " 'r.kelkoo.com': [516, 27],\n",
       " 'image.jeuxvideo.com': [517, 27],\n",
       " 'edge.sharethis.com': [518, 27],\n",
       " 'fstatic.iadvize.com': [519, 27],\n",
       " 'ac.babsrv.com': [520, 27],\n",
       " 'imworld.aufeminin.com': [521, 27],\n",
       " 'images-na.ssl-images-amazon.com': [522, 27],\n",
       " 'optim.dekalee.fr': [523, 27],\n",
       " 'i.stack.imgur.com': [524, 27],\n",
       " 'uaa.springsource.org': [525, 27],\n",
       " 'rcm-fr.amazon.fr': [526, 27],\n",
       " 'dev.mysql.com': [527, 27],\n",
       " 'www.chine-nouvelle.com': [528, 27],\n",
       " 'ws-cdi.web-boosting.net': [529, 27],\n",
       " 'emea3.recruitmentplatform.com': [530, 27],\n",
       " 'static.lexpress.fr': [531, 27],\n",
       " 'www.trocdestrains.com': [532, 27],\n",
       " 'bibliotheque.clermont-universite.fr': [533, 27],\n",
       " 'sfr.cedexis.com': [534, 26],\n",
       " 'lh4.ggpht.com': [535, 26],\n",
       " 'emailretargeting.com': [536, 26],\n",
       " 'sb-ssl.google.com': [537, 26],\n",
       " '1.www.s81c.com': [538, 26],\n",
       " 'login.secure.emea.msn.com': [539, 26],\n",
       " 'www.groupon.fr': [540, 26],\n",
       " 'l.ooyala.com': [541, 26],\n",
       " 'news.fr.msn.com': [542, 26],\n",
       " 'hotmail.fr': [543, 26],\n",
       " '0.docs.google.com': [544, 26],\n",
       " 'akio-1-17.akio-solutions.com': [545, 26],\n",
       " 't.voyages-sncf.com': [546, 26],\n",
       " 'bbcphotos.s3.amazonaws.com': [547, 26],\n",
       " 'cms.abmr.net': [548, 25],\n",
       " 'chinacache.cedexis.com': [549, 25],\n",
       " 'fastly.bench.cedexis.com.global.prod.fastly.net': [550, 25],\n",
       " 'office14client.microsoft.com': [551, 25],\n",
       " 'rbx-cdn-tpn.c4tw.net': [552, 25],\n",
       " 'www.lightinthebox.com': [553, 25],\n",
       " 'www.lagardedenuit.com': [554, 25],\n",
       " 'consent-st.truste.com': [555, 25],\n",
       " 'www.oracleimg.com': [556, 25],\n",
       " 'www.snapengage.com': [557, 25],\n",
       " 'lfov.net': [558, 25],\n",
       " '837-events.olark.com': [559, 25],\n",
       " 'ccu.viamichelin.com': [560, 25],\n",
       " 'kh6qrx0f8h.s.ad6media.fr': [561, 24],\n",
       " 'cedexis.cachefly.net': [562, 24],\n",
       " 'badge.facebook.com': [563, 24],\n",
       " 'fr-fr.facebook.com': [564, 24],\n",
       " 'www.jeuxvideo.com': [565, 24],\n",
       " 'video.msn.com': [566, 24],\n",
       " 'wd.sharethis.com': [567, 24],\n",
       " 'ibeu2.mookie1.com': [568, 24],\n",
       " 'www.eclipse.org': [569, 24],\n",
       " 'widgets.wp.com': [570, 24],\n",
       " 'www.agence-maths-entreprises.fr': [571, 24],\n",
       " 'media.query.yahoo.com': [572, 24],\n",
       " 'www.ca-centrefrance.fr': [573, 24],\n",
       " 'laposte.net': [574, 23],\n",
       " 'msc2.s-sfr.fr': [575, 23],\n",
       " 'cimg.leguide.com': [576, 23],\n",
       " 'geo.mozilla.org': [577, 23],\n",
       " 'us-mg42.mail.yahoo.com': [578, 23],\n",
       " 'www.meltystyle.fr': [579, 23],\n",
       " 'smart2.allocine.fr': [580, 23],\n",
       " '4.bp.blogspot.com': [581, 23],\n",
       " 'lh5.ggpht.com': [582, 23],\n",
       " 'www.mistra.fr': [583, 23],\n",
       " 's1.wp.com': [584, 23],\n",
       " 'www.freebsd.org': [585, 23],\n",
       " 'www.sas.com': [586, 23],\n",
       " 'www.indeed.fr': [587, 23],\n",
       " 'fr.ad4mat.net': [588, 22],\n",
       " 'feeds.delicious.com': [589, 22],\n",
       " 'tc.airfrance.com': [590, 22],\n",
       " 'broadcast.piximedia.fr': [591, 22],\n",
       " 'www.cinejaude.fr': [592, 22],\n",
       " 'www.accenture.com': [593, 22],\n",
       " 'didier.deleglise.free.fr': [594, 22],\n",
       " 'google.com': [595, 22],\n",
       " 'cdns3.coveritlive.com': [596, 22],\n",
       " 'www.emploi-alternance.net': [597, 22],\n",
       " 'www.expedia.co.uk': [598, 22],\n",
       " 'www.rue89.com': [599, 22],\n",
       " 'www.ladera.com': [600, 22],\n",
       " 'eu-ams1.joyent.bench.cedexis.com': [601, 21],\n",
       " 'onapp.cedexis.com': [602, 21],\n",
       " 'style2.ad6.fr': [603, 21],\n",
       " 'cedexis-test01.insnw.net': [604, 21],\n",
       " 'ec2-us-west-2a.cedexis.com': [605, 21],\n",
       " 'ec2-us-east-1a.cedexis.com': [606, 21],\n",
       " 'netstorage.lequipe.fr': [607, 21],\n",
       " 'sa.kewego.com': [608, 21],\n",
       " 'www.annuaire.com': [609, 21],\n",
       " 'www.beead.fr': [610, 21],\n",
       " 'forum.hardware.fr': [611, 21],\n",
       " 'www.w3.org': [612, 21],\n",
       " 'www.listesdemots.fr': [613, 21],\n",
       " '1.bp.blogspot.com': [614, 21],\n",
       " 'planet.jboss.org': [615, 21],\n",
       " 'www.reverso.net': [616, 21],\n",
       " 'dl-web.dropbox.com': [617, 21],\n",
       " '488-nko-684.mktoresp.com': [618, 21],\n",
       " 'foad.univ-ubs.fr': [619, 21],\n",
       " 'fr.tv.yahoo.com': [620, 21],\n",
       " 'www.directetudiant.com': [621, 21],\n",
       " 'siteswebdev.locinfor2.serveur-host.fr': [622, 21],\n",
       " 'www.restaurantsclermont.com': [623, 21],\n",
       " 'common.numerigraphe.com': [624, 21],\n",
       " 'a.nonstoppartner.net': [625, 20],\n",
       " 'wwwimages.adobe.com': [626, 20],\n",
       " 'www.geneanet.org': [627, 20],\n",
       " 'i2.ytimg.com': [628, 20],\n",
       " 'chart.googleapis.com': [629, 20],\n",
       " 'media-social.s-msn.com': [630, 20],\n",
       " 'www.u-psud.fr': [631, 20],\n",
       " 'manoa.hawaii.edu': [632, 20],\n",
       " 'media.expedia.com': [633, 20],\n",
       " 'www.leparisien.fr': [634, 20],\n",
       " 'www.parisetudiant.com': [635, 20],\n",
       " 'htmlimg3.scribdassets.com': [636, 20],\n",
       " 'facebook.com': [637, 20],\n",
       " 'www.soapui.org': [638, 20],\n",
       " 'www.gwtproject.org': [639, 20],\n",
       " 'forums.oracle.com': [640, 20],\n",
       " 'brandalley-box.akio-solutions.com': [641, 20],\n",
       " 'home.edt02.net': [642, 20],\n",
       " 'ec2-eu-west-1a.cedexis.com': [643, 19],\n",
       " 's3.amazonaws.com': [644, 19],\n",
       " 'i.htfacile.fr': [645, 19],\n",
       " 'eulerian.sarenza.com': [646, 19],\n",
       " 'mpp2.vindicosuite.com': [647, 19],\n",
       " 'cnfg.toolbarservices.com': [648, 19],\n",
       " 'forum-images.hardware.fr': [649, 19],\n",
       " 'www.mail.live.com': [650, 19],\n",
       " 'd3cxv97fi8q177.cloudfront.net': [651, 19],\n",
       " 'cdn-files.deezer.com': [652, 19],\n",
       " 's.huffpost.com': [653, 19],\n",
       " 'admaym.com': [654, 19],\n",
       " 'mangafox.me': [655, 19],\n",
       " 'u.jimdo.com': [656, 19],\n",
       " '3.bp.blogspot.com': [657, 19],\n",
       " 'dtym7iokkjlif.cloudfront.net': [658, 19],\n",
       " 'blog.xebia.fr': [659, 19],\n",
       " 'www.paypal.com': [660, 19],\n",
       " 'static.addtoany.com': [661, 19],\n",
       " 'docs.jboss.org': [662, 19],\n",
       " 'liris.cnrs.fr': [663, 19],\n",
       " '800-tiv-782.mktoresp.com': [664, 19],\n",
       " 'y8d63b9ic5.s.ad6media.fr': [665, 19],\n",
       " 'public.dhe.ibm.com': [666, 19],\n",
       " 'forums.futura-sciences.com': [667, 19],\n",
       " 'www-01.ibm.com': [668, 19],\n",
       " 'mbouayoun.developpez.com': [669, 19],\n",
       " 'www.ukba.homeoffice.gov.uk': [670, 19],\n",
       " 'perso.univ-rennes1.fr': [671, 19],\n",
       " 'static.monmenu.fr': [672, 19],\n",
       " 'www.numericable.biz': [673, 19],\n",
       " 'pool-eu-ie.creative-serving.com': [674, 18],\n",
       " 'ec2-ap-northeast-1a.cedexis.com': [675, 18],\n",
       " 'www.pagesjaunes.fr': [676, 18],\n",
       " 's5.scribdassets.com': [677, 18],\n",
       " 'html1.scribdassets.com': [678, 18],\n",
       " 'www.slideshare.net': [679, 18],\n",
       " 'i2.wp.com': [680, 18],\n",
       " 'www.blogblog.com': [681, 18],\n",
       " 'i10.twenga.com': [682, 18],\n",
       " 'www.sensagent.com': [683, 18],\n",
       " 'www.valyriansteel.com': [684, 18],\n",
       " 'www.melty.it': [685, 18],\n",
       " 'www.melty.es': [686, 18],\n",
       " 'fls-eu.amazon.fr': [687, 18],\n",
       " 's374.meetrics.net': [688, 18],\n",
       " 'java.developpez.com': [689, 18],\n",
       " 'static.commentcamarche.net': [690, 18],\n",
       " 's20.postimg.org': [691, 18],\n",
       " 'maven.apache.org': [692, 18],\n",
       " 'html4.scribdassets.com': [693, 18],\n",
       " 'public-api.wordpress.com': [694, 18],\n",
       " 'www.mobifiesta.com': [695, 18],\n",
       " 'medias.jules.fr': [696, 18],\n",
       " 'www.dba-ora.fr': [697, 18],\n",
       " 'consommateur-modedevie.com': [698, 18],\n",
       " 'szrmtenqc1bkuvk9.col.ip-label.net': [699, 18],\n",
       " 'www.dogfinance.com': [700, 18],\n",
       " 'yep.video.yahoo.com': [701, 18],\n",
       " 'files.multiposting.fr': [702, 18],\n",
       " 'www.master280.com': [703, 18],\n",
       " 'www.bellanaija.com': [704, 18],\n",
       " 'catalogue.clermont-universite.fr': [705, 18],\n",
       " 'i.dell.com': [706, 18],\n",
       " 'player.mediabong.com': [707, 17],\n",
       " 'htmlimg2.scribdassets.com': [708, 17],\n",
       " 'ocsp.gandi.net': [709, 17],\n",
       " 'fr-himedia.videoplaza.tv': [710, 17],\n",
       " 'cdns.gigya.com': [711, 17],\n",
       " 'link.springer.com': [712, 17],\n",
       " 'stat.di.u-psud.fr': [713, 17],\n",
       " 'js.sddan.com': [714, 17],\n",
       " 'www.hawaii.edu': [715, 17],\n",
       " 'fr.web.img4.acsta.net': [716, 17],\n",
       " 'miniimg.rightinthebox.com': [717, 17],\n",
       " 'htmlimg4.scribdassets.com': [718, 17],\n",
       " 'www.classcroute.com': [719, 17],\n",
       " 'code.google.com': [720, 17],\n",
       " 'images.gmx.com': [721, 17],\n",
       " 'playforfree.travian.fr': [722, 17],\n",
       " 'www.bwin.fr': [723, 17],\n",
       " 'www.le1513.com': [724, 17],\n",
       " 'get.adobe.com': [725, 17],\n",
       " 'media.newjobs.com': [726, 17],\n",
       " 'ssl.bing.com': [727, 17],\n",
       " 'candidatures.u-pec.fr': [728, 17],\n",
       " 'st.free.fr': [729, 17],\n",
       " 'www.invs.sante.fr': [730, 17],\n",
       " 'bonpatron.com': [731, 17],\n",
       " 'www.solarear.com.br': [732, 17],\n",
       " 'player.kpsule.me': [733, 16],\n",
       " 'redir.adbutter.net': [734, 16],\n",
       " 'us-west1.joyent.bench.cedexis.com': [735, 16],\n",
       " 'listener.ezakus.net': [736, 16],\n",
       " 'cshoppingbox.partner.leguide.com': [737, 16],\n",
       " 'www.europe1.fr': [738, 16],\n",
       " 'logger-02.vty.dailymotion.com': [739, 16],\n",
       " 'www.adobe.com': [740, 16],\n",
       " 'static.geneanet.org': [741, 16],\n",
       " 'maps-api-ssl.google.com': [742, 16],\n",
       " 'i11.twenga.com': [743, 16],\n",
       " 'serv3.vizury.com': [744, 16],\n",
       " 'goo.gl': [745, 16],\n",
       " 's.kau.li': [746, 16],\n",
       " 'bay03.calendar.live.com': [747, 16],\n",
       " 'bay178.afx.ms': [748, 16],\n",
       " 'adprotected.com': [749, 16],\n",
       " 'imgv2-4.scribdassets.com': [750, 16],\n",
       " 'lh3.ggpht.com': [751, 16],\n",
       " 'psoug.org': [752, 16],\n",
       " 'it3yv1v73b.s.ad6media.fr': [753, 16],\n",
       " 'html3.scribdassets.com': [754, 16],\n",
       " 'dev.eclipse.org': [755, 16],\n",
       " 'alma.univ-nantes.fr': [756, 16],\n",
       " 'fxdepo-a.akamaihd.net': [757, 16],\n",
       " 'video.query.yahoo.com': [758, 16],\n",
       " 'cadres.apec.fr': [759, 16],\n",
       " 'candidatures.u-pem.fr': [760, 16],\n",
       " 'fr.sports.yahoo.com': [761, 16],\n",
       " 'fr.cinema.yahoo.com': [762, 16],\n",
       " 'books.google.com': [763, 16],\n",
       " 'spc.cecebdhhbhpgeemgigiekedh.vast2as3.audiencetv-pubnet.fr.telemetryverification.net': [764,\n",
       "  16],\n",
       " 'pub6.media-clic.com': [765, 16],\n",
       " 'www.sdis63.fr': [766, 16],\n",
       " 'aws-ap-southeast-2a.bench.cedexis.com': [767, 15],\n",
       " 'ad.foxitsoftware.com': [768, 15],\n",
       " 'static.ebz.io': [769, 15],\n",
       " 'static.mediabong.com': [770, 15],\n",
       " 'ba.journaldesfemmes.com': [771, 15],\n",
       " 'en.wikipedia.org': [772, 15],\n",
       " 'ta.kewego.com': [773, 15],\n",
       " 's1.libe.com': [774, 15],\n",
       " 'ocsp2.globalsign.com': [775, 15],\n",
       " 'img2.blogblog.com': [776, 15],\n",
       " 'utils.delta-search.com': [777, 15],\n",
       " 'byfiles.storage.msn.com': [778, 15],\n",
       " 'clients1.google.com.pe': [779, 15],\n",
       " 'ajax.cloudflare.com': [780, 15],\n",
       " 'i.imgur.com': [781, 15],\n",
       " 'www.toutlecine.com': [782, 15],\n",
       " 'xmlfr.org': [783, 15],\n",
       " 'static.cotecine.fr': [784, 15],\n",
       " 'tracking.veoxa.com': [785, 15],\n",
       " 'd1447tq2m68ekg.cloudfront.net': [786, 15],\n",
       " 'www.quizz.biz': [787, 15],\n",
       " 'static.pagesjaunes.fr': [788, 15],\n",
       " 'cbks0.google.com': [789, 15],\n",
       " 'www.tutorialspoint.com': [790, 15],\n",
       " 'blogosquare.com': [791, 15],\n",
       " 'orange.jobs': [792, 15],\n",
       " 'fr.answers.yahoo.com': [793, 15],\n",
       " 'www.maxitoys.fr': [794, 15],\n",
       " 'www.cora.fr': [795, 15],\n",
       " 'www.quintiles.com': [796, 15],\n",
       " 'www.optioncarriere.com': [797, 15],\n",
       " 'spiral.univ-lyon1.fr': [798, 15],\n",
       " 'www.jobijoba.com': [799, 15],\n",
       " 'wcb.linkeo.com': [800, 15],\n",
       " 'dub127.mail.live.com': [801, 15],\n",
       " 'www.forbes.com': [802, 15],\n",
       " 'www.cokeandpopcorn.ch': [803, 15],\n",
       " 'media.apce.com': [804, 15],\n",
       " 'www.insee.fr': [805, 15],\n",
       " 'www.opendev.fr': [806, 15],\n",
       " 'www.atelier-idf.org': [807, 15],\n",
       " 'www.e-picardie.net': [808, 15],\n",
       " 'datayr.yves-rocher.fr': [809, 14],\n",
       " 'messagerie-13.sfr.fr': [810, 14],\n",
       " 'www.mathworks.com': [811, 14],\n",
       " 'radar.cedexis.swiftserve.com': [812, 14],\n",
       " 'llnwop.cedexis.com': [813, 14],\n",
       " 'mfr.meteofrance.com': [814, 14],\n",
       " 'www.math.u-bordeaux1.fr': [815, 14],\n",
       " 'network.alfemminile.com': [816, 14],\n",
       " 'p.ccmbg.com': [817, 14],\n",
       " 'static.canalblog.com': [818, 14],\n",
       " 'www.amazon.com': [819, 14],\n",
       " 'storage.googleapis.com': [820, 14],\n",
       " 'agence.voyages-sncf.com': [821, 14],\n",
       " 'fr.web.img1.acsta.net': [822, 14],\n",
       " 'snippets-stats.mozilla.org': [823, 14],\n",
       " 'dsms0mj1bbhn4.cloudfront.net': [824, 14],\n",
       " 'www.jmdoudoux.fr': [825, 14],\n",
       " 'htmlimg1.scribdassets.com': [826, 14],\n",
       " 'imgv2-3.scribdassets.com': [827, 14],\n",
       " 'd.startpagea.com': [828, 14],\n",
       " 'www.pixgame.fr': [829, 14],\n",
       " 'static.autoplus.fr': [830, 14],\n",
       " 'olivier.coupelon.net': [831, 14],\n",
       " 'jl2tho.blogspot.fr': [832, 14],\n",
       " 'www.arkzoyd.com': [833, 14],\n",
       " 'jersey.java.net': [834, 14],\n",
       " 'www.ryanair.com': [835, 14],\n",
       " 'www.microsoft.com': [836, 14],\n",
       " 'forge.ow2.org': [837, 14],\n",
       " 'www.u-pec.fr': [838, 14],\n",
       " 'dis.univ-lyon2.fr': [839, 14],\n",
       " 'covea.taleo.net': [840, 14],\n",
       " 'pgep.francetv.fr': [841, 14],\n",
       " 'www.monitor.co.ug': [842, 14],\n",
       " 'secure.voyages-sncf.com': [843, 14],\n",
       " 'www.pressealgerie.fr': [844, 14],\n",
       " 'photo.capital.fr': [845, 14],\n",
       " 'www.apce.com': [846, 14],\n",
       " 'www.outlook.com': [847, 14],\n",
       " 'afcs.dell.com': [848, 14],\n",
       " 'www.affaires-etrangeres.gouv.ga': [849, 14],\n",
       " 's.cdiscount.widgetvillage.com': [850, 14],\n",
       " 'msc1.s-sfr.fr': [851, 13],\n",
       " 'us-east1.joyent.bench.cedexis.com': [852, 13],\n",
       " 'ec2-us-west-1a.cedexis.com': [853, 13],\n",
       " 'lon.rackspace.bench.cedexis.com': [854, 13],\n",
       " 'i4.ytimg.com': [855, 13],\n",
       " 'cdnjs.cloudflare.com': [856, 13],\n",
       " 'cm.adgrx.com': [857, 13],\n",
       " 'apr.lijit.com': [858, 13],\n",
       " 'akamai.cedexis.com': [859, 13],\n",
       " 'fastlydsa.bench.cedexis.com': [860, 13],\n",
       " 'thumbp5-ir2.mail.yahoo.com': [861, 13],\n",
       " 'foglio.basilic.io': [862, 13],\n",
       " 'm.ad6media.fr': [863, 13],\n",
       " 'aura.gsfc.nasa.gov': [864, 13],\n",
       " 'bay177.mail.live.com': [865, 13],\n",
       " 'github.com': [866, 13],\n",
       " 'www.vente-privee.com': [867, 13],\n",
       " 'loadr.exelator.com': [868, 13],\n",
       " 'help.arcgis.com': [869, 13],\n",
       " 'mastertag.effiliation.com': [870, 13],\n",
       " '347-iat-677.mktoresp.com': [871, 13],\n",
       " 'fr.web.img2.acsta.net': [872, 13],\n",
       " 'www.codeblocks.org': [873, 13],\n",
       " 'imgv2-2.scribdassets.com': [874, 13],\n",
       " 'api-mc.bouyguestelecom.fr': [875, 13],\n",
       " 'vaadin.com': [876, 13],\n",
       " 'use.typekit.net': [877, 13],\n",
       " 'www.programcreek.com': [878, 13],\n",
       " 'deliv.bayard-pub.com': [879, 13],\n",
       " 'idata.over-blog.com': [880, 13],\n",
       " 'tracking.traviangames.com': [881, 13],\n",
       " 'le-menhir.fr': [882, 13],\n",
       " 'www.mkyong.com': [883, 13],\n",
       " 'media.monster.com': [884, 13],\n",
       " 'www.maty.com': [885, 13],\n",
       " 'cran.r-project.org': [886, 13],\n",
       " 'ts1.mm.bing.net': [887, 13],\n",
       " 'www.regimedukan.com': [888, 13],\n",
       " 'ptc.uquebec.ca': [889, 13],\n",
       " 'www.smart-doc.org': [890, 13],\n",
       " 'www.groupama-gan-recrute.com': [891, 13],\n",
       " 'spc.cengdfnebeehogefbehdnefe.vast2as3.fox-pubnet.fr.telemetryverification.net': [892,\n",
       "  13],\n",
       " 'spc.ceedgflebejfafnelgcehefe.ijs.venatusmedia-pubnet.fr.telemetryverification.net': [893,\n",
       "  13],\n",
       " 'fr.viadeo.com': [894, 13],\n",
       " 'www.yasni.info': [895, 13],\n",
       " 'img.scoop.it': [896, 13],\n",
       " 'dtm.ccs.com': [897, 12],\n",
       " 'aspserveur.bench.cedexis.com': [898, 12],\n",
       " 'messagerie-12.sfr.fr': [899, 12],\n",
       " 'cntr.adrcntr.com': [900, 12],\n",
       " 'static.videostep.com': [901, 12],\n",
       " 'www.20minutes.fr': [902, 12],\n",
       " 'static.groupon.fr': [903, 12],\n",
       " 'fr.primary.affinitad.com': [904, 12],\n",
       " 'ids.craig.fr': [905, 12],\n",
       " 'adm.fwmrm.net': [906, 12],\n",
       " 'calotag.com': [907, 12],\n",
       " 'powerpoint.officeapps.live.com': [908, 12],\n",
       " 'www.slate.fr': [909, 12],\n",
       " 'www.spi0n.com': [910, 12],\n",
       " 'dps.bing.com': [911, 12],\n",
       " 'ecn.dev.virtualearth.net': [912, 12],\n",
       " 'd36xtkk24g8jdx.cloudfront.net': [913, 12],\n",
       " 'minijscss.rightinthebox.com': [914, 12],\n",
       " 'site.availpro.com': [915, 12],\n",
       " 'magazine.developpez.com': [916, 12],\n",
       " 'imgv2-1.scribdassets.com': [917, 12],\n",
       " 'www.jules.com': [918, 12],\n",
       " 'i.huffpost.com': [919, 12],\n",
       " 'accounts.google.co.ma': [920, 12],\n",
       " 'deptinfo.unice.fr': [921, 12],\n",
       " 'wenku.baidu.com': [922, 12],\n",
       " 'download.forge.objectweb.org': [923, 12],\n",
       " 'www.sqldeveloper.net': [924, 12],\n",
       " 'www.actualitix.com': [925, 12],\n",
       " 'offre-emploi.monster.fr': [926, 12],\n",
       " 'www.cadremploi.fr': [927, 12],\n",
       " 'yupeek.com': [928, 12],\n",
       " 'www.capcampus.com': [929, 12],\n",
       " 'capcampus.net': [930, 12],\n",
       " 'static2.pagesjaunes.fr': [931, 12],\n",
       " 'blogs-images.forbes.com': [932, 12],\n",
       " 'static.bellanaija.com': [933, 12],\n",
       " 'www.huffingtonpost.com': [934, 12],\n",
       " 'www.plaisirssante.ca': [935, 12],\n",
       " 'perles-du-bon-coin.fr': [936, 12],\n",
       " 'trk.adbutter.net': [937, 11],\n",
       " 'gb2.cedexis.swiftserve.com': [938, 11],\n",
       " 'azionusa.cedexis.com': [939, 11],\n",
       " 'math.agrocampus-ouest.fr': [940, 11],\n",
       " 'audience.visiblemeasures.com': [941, 11],\n",
       " 'www.scribd.com': [942, 11],\n",
       " 's7.scribdassets.com': [943, 11],\n",
       " 'iad.rackspace.bench.cedexis.com': [944, 11],\n",
       " 'www.hotmail.fr': [945, 11],\n",
       " 'perpetuo-onl.basilic.io': [946, 11],\n",
       " 'i1.wp.com': [947, 11],\n",
       " 'tempsreel.nouvelobs.com': [948, 11],\n",
       " 'www.delta-search.com': [949, 11],\n",
       " 'tools.usps.com': [950, 11],\n",
       " 'a405.idata.over-blog.com': [951, 11],\n",
       " 'passets.pinterest.com': [952, 11],\n",
       " 'divertissements.fr.msn.com': [953, 11],\n",
       " 'cdnvideo.aufeminin.com': [954, 11],\n",
       " 'www.deezer.com': [955, 11],\n",
       " 'www.almerys.com': [956, 11],\n",
       " 'fls-na.amazon.com': [957, 11],\n",
       " 'www.higp.hawaii.edu': [958, 11],\n",
       " 'h.bing.com': [959, 11],\n",
       " 'melty.fr': [960, 11],\n",
       " 'www.covoiturageauvergne.net': [961, 11],\n",
       " 'fr.web.img5.acsta.net': [962, 11],\n",
       " 'zupimages.net': [963, 11],\n",
       " 'www.meltyfashion.fr': [964, 11],\n",
       " 'eulerian.netbooster.com': [965, 11],\n",
       " 'docs.spring.io': [966, 11],\n",
       " 'ds.reson8.com': [967, 11],\n",
       " 'design.jboss.org': [968, 11],\n",
       " 'labs.jboss.com': [969, 11],\n",
       " 'www.jboss.org': [970, 11],\n",
       " 'badge.stumbleupon.com': [971, 11],\n",
       " 'camel.apache.org': [972, 11],\n",
       " 'www.cplusplus.com': [973, 11],\n",
       " 'www.enseignement.polytechnique.fr': [974, 11],\n",
       " 'www.inrialpes.fr': [975, 11],\n",
       " 'fr.intext.adfever.com': [976, 11],\n",
       " 'www.linkwithin.com': [977, 11],\n",
       " 'wa.ui-portal.de': [978, 11],\n",
       " 'static.wenku.bdimg.com': [979, 11],\n",
       " 'nsclick.baidu.com': [980, 11],\n",
       " 'stats.adobe.com': [981, 11],\n",
       " 'blog.soat.fr': [982, 11],\n",
       " 'dmros.ysm.yahoo.com': [983, 11],\n",
       " 'www.duclert.org': [984, 11],\n",
       " 'www.memoireonline.com': [985, 11],\n",
       " 'www.farfesh.com': [986, 11],\n",
       " 'mailmedia.showroomprive.com': [987, 11],\n",
       " 'thumbp5-ir2.thumb.mail.yahoo.com': [988, 11],\n",
       " 'redir.news2.cdiscount.com': [989, 11],\n",
       " 'quintiles.taleo.net': [990, 11],\n",
       " 'cdlc.iadvize.com': [991, 11],\n",
       " 'ts2.mm.bing.net': [992, 11],\n",
       " 'www.crous-clermont.fr': [993, 11],\n",
       " 'www.misfu.com': [994, 11],\n",
       " 'yui-s.yahooapis.com': [995, 11],\n",
       " 'b2capi.viamichelin.fr': [996, 11],\n",
       " 'dub111.mail.live.com': [997, 11],\n",
       " 'images.forbes.com': [998, 11],\n",
       " 'apps.facebook.com': [999, 11],\n",
       " 'lentreprise.lexpress.fr': [1000, 11],\n",
       " ...}"
      ]
     },
     "execution_count": 317,
     "metadata": {},
     "output_type": "execute_result"
    }
   ],
   "source": [
    "with open(os.path.join(PATH_TO_DATA,'site_freq_10users.pkl'), 'rb') as f:\n",
    "    freq_dict = pickle.load(f)\n",
    "    f.close()\n",
    "freq_dict"
   ]
  },
  {
   "cell_type": "code",
   "execution_count": 327,
   "metadata": {},
   "outputs": [
    {
     "data": {
      "text/plain": [
       "<matplotlib.axes._subplots.AxesSubplot at 0x233a31dfe10>"
      ]
     },
     "execution_count": 327,
     "metadata": {},
     "output_type": "execute_result"
    },
    {
     "data": {
      "image/png": "[encoded data removed]",
      "text/plain": [
       "<Figure size 432x288 with 1 Axes>"
      ]
     },
     "metadata": {
      "needs_background": "light"
     },
     "output_type": "display_data"
    }
   ],
   "source": [
    "df_freqs = pd.DataFrame(freq_dict).T\n",
    "df_freqs[df_freqs[1]>=1000][1].hist()"
   ]
  },
  {
   "cell_type": "code",
   "execution_count": 325,
   "metadata": {},
   "outputs": [
    {
     "data": {
      "text/plain": [
       "(25, 2)"
      ]
     },
     "execution_count": 325,
     "metadata": {},
     "output_type": "execute_result"
    }
   ],
   "source": [
    "df_freqs[df_freqs[1]>=1000].shape"
   ]
  },
  {
   "cell_type": "code",
   "execution_count": 329,
   "metadata": {},
   "outputs": [
    {
     "data": {
      "text/plain": [
       "array([8300, 7813, 5441, 4158, 4141, 3758, 3244, 3094, 2630, 2089, 1939,\n",
       "       1868, 1804, 1702, 1493, 1441, 1388, 1265, 1232, 1204, 1057, 1041,\n",
       "       1039, 1039, 1002], dtype=int64)"
      ]
     },
     "execution_count": 329,
     "metadata": {},
     "output_type": "execute_result"
    }
   ],
   "source": [
    "df_freqs[df_freqs[1]>=1000][1].values"
   ]
  },
  {
   "cell_type": "code",
   "execution_count": 331,
   "metadata": {},
   "outputs": [
    {
     "data": {
      "text/plain": [
       "array([8300, 7813, 5441, 4158, 4141, 3758, 3244, 3094, 2630, 2089, 1939,\n",
       "       1868, 1804, 1702, 1493, 1441, 1388, 1265, 1232, 1204, 1057, 1041,\n",
       "       1039, 1039, 1002], dtype=int64)"
      ]
     },
     "execution_count": 331,
     "metadata": {},
     "output_type": "execute_result"
    }
   ],
   "source": [
    "''' ВАШ КОД ЗДЕСЬ '''\n",
    "site_freqs = df_freqs[df_freqs[1]>=1000][1].values\n",
    "site_freqs"
   ]
  },
  {
   "cell_type": "code",
   "execution_count": 332,
   "metadata": {},
   "outputs": [
    {
     "data": {
      "text/plain": [
       "4913"
      ]
     },
     "execution_count": 332,
     "metadata": {},
     "output_type": "execute_result"
    }
   ],
   "source": [
    "''' ВАШ КОД ЗДЕСЬ '''\n",
    "len(freq_dict)"
   ]
  },
  {
   "cell_type": "markdown",
   "metadata": {},
   "source": [
    "**Постройте 95% доверительный интервал для средней частоты появления сайта в выборке (во всей, уже не только для тех сайтов, что были посещены как минимум 1000 раз) на основе bootstrap. Используйте столько же bootstrap-подвыборок, сколько сайтов оказалось в исходной выборке по 10 пользователям. Берите подвыборки из посчитанного списка частот посещений сайтов – не надо заново считать эти частоты. Учтите, что частоту появления нуля (сайт с индексом 0 появлялся там, где сессии были короче 10 сайтов) включать не надо. Округлите границы интервала до 3 знаков после запятой и запишите через пробел в файл *answer2_5.txt*. Это будет ответом на 5 вопрос теста.**"
   ]
  },
  {
   "cell_type": "markdown",
   "metadata": {},
   "source": [
    "**<font color='red'> Вопрос 5. </font>Каков 95% доверительный интервал для средней частоты появления сайта в выборке?**"
   ]
  },
  {
   "cell_type": "code",
   "execution_count": 333,
   "metadata": {},
   "outputs": [],
   "source": [
    "def get_bootstrap_samples(data, n_samples, random_seed=17):\n",
    "    np.random.seed(random_seed)\n",
    "    indices = np.random.randint(0, len(data), (n_samples, len(data)))\n",
    "    samples = data[indices]\n",
    "    return samples"
   ]
  },
  {
   "cell_type": "code",
   "execution_count": 334,
   "metadata": {},
   "outputs": [],
   "source": [
    "def stat_intervals(stat, alpha):\n",
    "    boundaries = np.percentile(stat, \n",
    "                 [100 * alpha / 2., 100 * (1 - alpha / 2.)])\n",
    "    return boundaries"
   ]
  },
  {
   "cell_type": "code",
   "execution_count": 360,
   "metadata": {},
   "outputs": [
    {
     "data": {
      "text/plain": [
       "array([[  2,   3,  39, ...,   2,   1,  32],\n",
       "       [  2,   2,   2, ...,   4,   9,   1],\n",
       "       [  1,   1,  37, ...,   2,   7,   1],\n",
       "       ...,\n",
       "       [104,   6,   1, ...,  75,   1,   1],\n",
       "       [  9,   1,   3, ...,   1,   3,   5],\n",
       "       [  3,   7,   1, ...,   2,   1,  19]], dtype=int64)"
      ]
     },
     "execution_count": 360,
     "metadata": {},
     "output_type": "execute_result"
    }
   ],
   "source": [
    "samples = get_bootstrap_samples(df_freqs[1].values,len(df_freqs[1].values))\n",
    "samples"
   ]
  },
  {
   "cell_type": "code",
   "execution_count": 379,
   "metadata": {},
   "outputs": [
    {
     "data": {
      "text/plain": [
       "28.612660289029108"
      ]
     },
     "execution_count": 379,
     "metadata": {},
     "output_type": "execute_result"
    }
   ],
   "source": [
    "''' ВАШ КОД ЗДЕСЬ '''\n",
    "means = list(map(np.mean, samples))\n",
    "df_freqs[1].values.mean()"
   ]
  },
  {
   "cell_type": "code",
   "execution_count": 378,
   "metadata": {},
   "outputs": [
    {
     "name": "stdout",
     "output_type": "stream",
     "text": [
      "22.515 35.763\n"
     ]
    }
   ],
   "source": [
    "left = stat_intervals(means,0.05)[0]\n",
    "right = stat_intervals(means,0.05)[1]\n",
    "print(round(left,3),round(right,3))"
   ]
  },
  {
   "cell_type": "markdown",
   "metadata": {},
   "source": [
    "## Пути улучшения\n",
    "Что еще можно добавить по второй части проекта:\n",
    "- можно дополнительно рассматривать сессии с параметром – длиной сессии по времени. И составить выборки, скажем, для 5-, 10-, 15- и 20-минутных сессий (это как раз пригодится в [соревновании](https://inclass.kaggle.com/c/catch-me-if-you-can-intruder-detection-through-webpage-session-tracking2) Kaggle Inclass)\n",
    "- можно провести больше первичного анализа и проверять прочие интересные гипотезы (а больше их появится после создания признаков на следующей неделе)\n",
    "\n",
    "На 3 неделе мы займемся визуальным анализом данных и построением признаков."
   ]
  }
 ],
 "metadata": {
  "anaconda-cloud": {},
  "kernelspec": {
   "display_name": "Python 3",
   "language": "python",
   "name": "python3"
  },
  "language_info": {
   "codemirror_mode": {
    "name": "ipython",
    "version": 3
   },
   "file_extension": ".py",
   "mimetype": "text/x-python",
   "name": "python",
   "nbconvert_exporter": "python",
   "pygments_lexer": "ipython3",
   "version": "3.7.3"
  }
 },
 "nbformat": 4,
 "nbformat_minor": 1
}
